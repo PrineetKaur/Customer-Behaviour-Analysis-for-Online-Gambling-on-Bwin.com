{
 "cells": [
  {
   "cell_type": "markdown",
   "metadata": {},
   "source": [
    "\n",
    "<img src=\"index.png\">\n",
    "\n",
    "\n",
    "# Group Project - Open Source Programming \n",
    "\n",
    "## (Analyzing Internet Gambling Activities for BTWIN.COM)"
   ]
  },
  {
   "cell_type": "markdown",
   "metadata": {},
   "source": [
    "Submitted by (Group 9) - \n",
    "\n",
    " - BHURJI Prineet Kaur\n",
    " - CAZILHAC Paul\n",
    " - ELEDU FAVOUR"
   ]
  },
  {
   "cell_type": "code",
   "execution_count": 1,
   "metadata": {},
   "outputs": [],
   "source": [
    "options(warn = -1)"
   ]
  },
  {
   "cell_type": "code",
   "execution_count": 3,
   "metadata": {},
   "outputs": [
    {
     "name": "stderr",
     "output_type": "stream",
     "text": [
      "inferring 'repos = NULL' from 'pkgs'\n"
     ]
    }
   ],
   "source": [
    "# Installing required Libraries\n",
    "install.packages(\"https://cran.r-project.org/bin/windows/contrib/3.6/foreign_0.8-76.zip\")\n",
    "install.packages(\"tidyverse\")\n",
    "install.packages(\"sas7bdat\")\n",
    "library(tidyverse)\n",
    "library(sas7bdat)\n",
    "library(plyr)\n",
    "library(dplyr)\n",
    "library(data.table)\n",
    "library(lubridate)\n",
    "library(tidyr)\n",
    "library(foreign)\n",
    "library(readr)\n",
    "library(stringr)\n",
    "library(data.table)\n",
    "library(haven)\n",
    "library(readxl)\n",
    "library(ggplot2)"
   ]
  },
  {
   "cell_type": "markdown",
   "metadata": {},
   "source": [
    "## Data Importation"
   ]
  },
  {
   "cell_type": "code",
   "execution_count": 4,
   "metadata": {},
   "outputs": [],
   "source": [
    "Demographic <- read.sas7bdat(\"RawDataIDemographics.sas7bdat\")\n",
    "Daily_Aggregation <- read.sas7bdat(\"RawDataIIUserDailyAggregation.sas7bdat\")\n",
    "Poker_Chip_Conversion <- read.sas7bdat(\"RawDataIIIPokerChipConversions.sas7bdat\")\n",
    "Analytic_Internal_Gabling <- read.sas7bdat(\"AnalyticDataInternetGambling.sas7bdat\")"
   ]
  },
  {
   "cell_type": "markdown",
   "metadata": {},
   "source": [
    "### Exploring Demographics Table"
   ]
  },
  {
   "cell_type": "code",
   "execution_count": 5,
   "metadata": {
    "scrolled": true
   },
   "outputs": [
    {
     "data": {
      "text/html": [
       "<table>\n",
       "<thead><tr><th scope=col>UserID</th><th scope=col>Country</th><th scope=col>Language</th><th scope=col>RegDate</th><th scope=col>FirstPay</th><th scope=col>FirstAct</th><th scope=col>FirstSp</th><th scope=col>FirstCa</th><th scope=col>FirstGa</th><th scope=col>FirstPo</th><th scope=col>ApplicationID</th><th scope=col>Gender</th></tr></thead>\n",
       "<tbody>\n",
       "\t<tr><td>1324354   </td><td>276       </td><td>2         </td><td>2005-02-01</td><td>20050224  </td><td>20050224  </td><td>20050224  </td><td>NULL      </td><td>NULL      </td><td>NULL      </td><td>3         </td><td>1         </td></tr>\n",
       "\t<tr><td>1324355   </td><td>300       </td><td>8         </td><td>2005-02-01</td><td>20050201  </td><td>20050201  </td><td>20050201  </td><td>NULL      </td><td>NULL      </td><td>20050611  </td><td>1         </td><td>1         </td></tr>\n",
       "\t<tr><td>1324356   </td><td>276       </td><td>2         </td><td>2005-02-01</td><td>20050201  </td><td>20050202  </td><td>20050202  </td><td>NULL      </td><td>NULL      </td><td>NULL      </td><td>3         </td><td>1         </td></tr>\n",
       "\t<tr><td>1324358   </td><td>752       </td><td>1         </td><td>2005-02-01</td><td>20050201  </td><td>20050201  </td><td>20050201  </td><td>NULL      </td><td>NULL      </td><td>NULL      </td><td>1         </td><td>1         </td></tr>\n",
       "\t<tr><td>1324360   </td><td>792       </td><td>7         </td><td>2005-02-01</td><td>20050202  </td><td>20050202  </td><td>20050202  </td><td>20050203  </td><td>NULL      </td><td>NULL      </td><td>9         </td><td>1         </td></tr>\n",
       "\t<tr><td>1324362   </td><td>276       </td><td>2         </td><td>2005-02-01</td><td>20050211  </td><td>20050211  </td><td>20050211  </td><td>NULL      </td><td>NULL      </td><td>NULL      </td><td>3         </td><td>1         </td></tr>\n",
       "</tbody>\n",
       "</table>\n"
      ],
      "text/latex": [
       "\\begin{tabular}{r|llllllllllll}\n",
       " UserID & Country & Language & RegDate & FirstPay & FirstAct & FirstSp & FirstCa & FirstGa & FirstPo & ApplicationID & Gender\\\\\n",
       "\\hline\n",
       "\t 1324354    & 276        & 2          & 2005-02-01 & 20050224   & 20050224   & 20050224   & NULL       & NULL       & NULL       & 3          & 1         \\\\\n",
       "\t 1324355    & 300        & 8          & 2005-02-01 & 20050201   & 20050201   & 20050201   & NULL       & NULL       & 20050611   & 1          & 1         \\\\\n",
       "\t 1324356    & 276        & 2          & 2005-02-01 & 20050201   & 20050202   & 20050202   & NULL       & NULL       & NULL       & 3          & 1         \\\\\n",
       "\t 1324358    & 752        & 1          & 2005-02-01 & 20050201   & 20050201   & 20050201   & NULL       & NULL       & NULL       & 1          & 1         \\\\\n",
       "\t 1324360    & 792        & 7          & 2005-02-01 & 20050202   & 20050202   & 20050202   & 20050203   & NULL       & NULL       & 9          & 1         \\\\\n",
       "\t 1324362    & 276        & 2          & 2005-02-01 & 20050211   & 20050211   & 20050211   & NULL       & NULL       & NULL       & 3          & 1         \\\\\n",
       "\\end{tabular}\n"
      ],
      "text/markdown": [
       "\n",
       "| UserID | Country | Language | RegDate | FirstPay | FirstAct | FirstSp | FirstCa | FirstGa | FirstPo | ApplicationID | Gender |\n",
       "|---|---|---|---|---|---|---|---|---|---|---|---|\n",
       "| 1324354    | 276        | 2          | 2005-02-01 | 20050224   | 20050224   | 20050224   | NULL       | NULL       | NULL       | 3          | 1          |\n",
       "| 1324355    | 300        | 8          | 2005-02-01 | 20050201   | 20050201   | 20050201   | NULL       | NULL       | 20050611   | 1          | 1          |\n",
       "| 1324356    | 276        | 2          | 2005-02-01 | 20050201   | 20050202   | 20050202   | NULL       | NULL       | NULL       | 3          | 1          |\n",
       "| 1324358    | 752        | 1          | 2005-02-01 | 20050201   | 20050201   | 20050201   | NULL       | NULL       | NULL       | 1          | 1          |\n",
       "| 1324360    | 792        | 7          | 2005-02-01 | 20050202   | 20050202   | 20050202   | 20050203   | NULL       | NULL       | 9          | 1          |\n",
       "| 1324362    | 276        | 2          | 2005-02-01 | 20050211   | 20050211   | 20050211   | NULL       | NULL       | NULL       | 3          | 1          |\n",
       "\n"
      ],
      "text/plain": [
       "  UserID  Country Language RegDate    FirstPay FirstAct FirstSp  FirstCa \n",
       "1 1324354 276     2        2005-02-01 20050224 20050224 20050224 NULL    \n",
       "2 1324355 300     8        2005-02-01 20050201 20050201 20050201 NULL    \n",
       "3 1324356 276     2        2005-02-01 20050201 20050202 20050202 NULL    \n",
       "4 1324358 752     1        2005-02-01 20050201 20050201 20050201 NULL    \n",
       "5 1324360 792     7        2005-02-01 20050202 20050202 20050202 20050203\n",
       "6 1324362 276     2        2005-02-01 20050211 20050211 20050211 NULL    \n",
       "  FirstGa FirstPo  ApplicationID Gender\n",
       "1 NULL    NULL     3             1     \n",
       "2 NULL    20050611 1             1     \n",
       "3 NULL    NULL     3             1     \n",
       "4 NULL    NULL     1             1     \n",
       "5 NULL    NULL     9             1     \n",
       "6 NULL    NULL     3             1     "
      ]
     },
     "metadata": {},
     "output_type": "display_data"
    }
   ],
   "source": [
    "head(Demographic)"
   ]
  },
  {
   "cell_type": "markdown",
   "metadata": {},
   "source": [
    "Dates are in character value (same as they are in the sas file), so need to rectify them!"
   ]
  },
  {
   "cell_type": "code",
   "execution_count": 6,
   "metadata": {},
   "outputs": [],
   "source": [
    "# Correcting the Date Formats\n",
    "Demographic$RegDate<-as.Date(Demographic$RegDate)\n",
    "Demographic$FirstPay<-as.Date(Demographic$FirstPay,\"%Y%m%d\")\n",
    "Demographic$FirstAct<-as.Date(Demographic$FirstAct,\"%Y%m%d\")\n",
    "Demographic$FirstSp<-as.Date(Demographic$FirstSp,\"%Y%m%d\")\n",
    "Demographic$FirstCa\t<-as.Date(Demographic$FirstCa,\"%Y%m%d\")\n",
    "Demographic$FirstGa<-as.Date(Demographic$FirstGa,\"%Y%m%d\")\n",
    "Demographic$FirstPo<-as.Date(Demographic$FirstPo,\"%Y%m%d\")"
   ]
  },
  {
   "cell_type": "code",
   "execution_count": 7,
   "metadata": {},
   "outputs": [
    {
     "data": {
      "text/html": [
       "<table>\n",
       "<thead><tr><th scope=col>UserID</th><th scope=col>Country</th><th scope=col>Language</th><th scope=col>RegDate</th><th scope=col>FirstPay</th><th scope=col>FirstAct</th><th scope=col>FirstSp</th><th scope=col>FirstCa</th><th scope=col>FirstGa</th><th scope=col>FirstPo</th><th scope=col>ApplicationID</th><th scope=col>Gender</th></tr></thead>\n",
       "<tbody>\n",
       "\t<tr><td>1324354   </td><td>276       </td><td>2         </td><td>2005-02-01</td><td>2005-02-24</td><td>2005-02-24</td><td>2005-02-24</td><td>NA        </td><td>NA        </td><td>NA        </td><td>3         </td><td>1         </td></tr>\n",
       "\t<tr><td>1324355   </td><td>300       </td><td>8         </td><td>2005-02-01</td><td>2005-02-01</td><td>2005-02-01</td><td>2005-02-01</td><td>NA        </td><td>NA        </td><td>2005-06-11</td><td>1         </td><td>1         </td></tr>\n",
       "</tbody>\n",
       "</table>\n"
      ],
      "text/latex": [
       "\\begin{tabular}{r|llllllllllll}\n",
       " UserID & Country & Language & RegDate & FirstPay & FirstAct & FirstSp & FirstCa & FirstGa & FirstPo & ApplicationID & Gender\\\\\n",
       "\\hline\n",
       "\t 1324354    & 276        & 2          & 2005-02-01 & 2005-02-24 & 2005-02-24 & 2005-02-24 & NA         & NA         & NA         & 3          & 1         \\\\\n",
       "\t 1324355    & 300        & 8          & 2005-02-01 & 2005-02-01 & 2005-02-01 & 2005-02-01 & NA         & NA         & 2005-06-11 & 1          & 1         \\\\\n",
       "\\end{tabular}\n"
      ],
      "text/markdown": [
       "\n",
       "| UserID | Country | Language | RegDate | FirstPay | FirstAct | FirstSp | FirstCa | FirstGa | FirstPo | ApplicationID | Gender |\n",
       "|---|---|---|---|---|---|---|---|---|---|---|---|\n",
       "| 1324354    | 276        | 2          | 2005-02-01 | 2005-02-24 | 2005-02-24 | 2005-02-24 | NA         | NA         | NA         | 3          | 1          |\n",
       "| 1324355    | 300        | 8          | 2005-02-01 | 2005-02-01 | 2005-02-01 | 2005-02-01 | NA         | NA         | 2005-06-11 | 1          | 1          |\n",
       "\n"
      ],
      "text/plain": [
       "  UserID  Country Language RegDate    FirstPay   FirstAct   FirstSp    FirstCa\n",
       "1 1324354 276     2        2005-02-01 2005-02-24 2005-02-24 2005-02-24 <NA>   \n",
       "2 1324355 300     8        2005-02-01 2005-02-01 2005-02-01 2005-02-01 <NA>   \n",
       "  FirstGa FirstPo    ApplicationID Gender\n",
       "1 <NA>    <NA>       3             1     \n",
       "2 <NA>    2005-06-11 1             1     "
      ]
     },
     "metadata": {},
     "output_type": "display_data"
    }
   ],
   "source": [
    "head(Demographic,2)"
   ]
  },
  {
   "cell_type": "code",
   "execution_count": 8,
   "metadata": {},
   "outputs": [
    {
     "name": "stderr",
     "output_type": "stream",
     "text": [
      "`summarise()` ungrouping output (override with `.groups` argument)\n"
     ]
    },
    {
     "data": {
      "text/html": [
       "1"
      ],
      "text/latex": [
       "1"
      ],
      "text/markdown": [
       "1"
      ],
      "text/plain": [
       "[1] 1"
      ]
     },
     "metadata": {},
     "output_type": "display_data"
    }
   ],
   "source": [
    "# Checknig if each of the UserID's are Unique\n",
    "a<-Demographic %>% \n",
    "           group_by(UserID) %>% \n",
    "                dplyr ::summarise(count = n())\n",
    "                                 mean(a$count)                      #It means that each ID is unique in the table "
   ]
  },
  {
   "cell_type": "markdown",
   "metadata": {},
   "source": [
    "We imported our external data to replace all encoded values in the Demographic Table"
   ]
  },
  {
   "cell_type": "code",
   "execution_count": 9,
   "metadata": {},
   "outputs": [],
   "source": [
    "# Reading the country, region and application excel files to get the names into the table\n",
    "country <- read_excel(\"country.xlsx\")\n",
    "language <- read_excel(\"language.xlsx\")\n",
    "application <- read_excel(\"application.xlsx\")"
   ]
  },
  {
   "cell_type": "markdown",
   "metadata": {},
   "source": [
    "Balancing the Demographic dataset as per the given Analytical Table"
   ]
  },
  {
   "cell_type": "code",
   "execution_count": 10,
   "metadata": {
    "scrolled": true
   },
   "outputs": [],
   "source": [
    "# Applied the filter that was applied on the Daily Demographic table and used to create the Analytical table\n",
    "Demographic <- Demographic %>% \n",
    "filter(FirstPay >= as.Date(\"2005-02-01\") & FirstPay <= as.Date(\"2005-09-30\"))\n",
    "\n",
    "# Now using the above variables for adding columns for CountryName and Description of Language and Application\n",
    "Demographic <- merge(x = Demographic, y = country, by = \"Country\", all.x = TRUE)\n",
    "Demographic <- merge(x = Demographic, y = language, by = \"Language\", all.x = TRUE)\n",
    "Demographic <- merge(x = Demographic, y = application,by = \"ApplicationID\", all.x = TRUE)\n",
    "\n",
    "# Also assigning values to the Gender column\n",
    "Demographic$Gender <- ifelse(Demographic$Gender == 0,\"Female\",\"Male\" )"
   ]
  },
  {
   "cell_type": "markdown",
   "metadata": {},
   "source": [
    "Checking if any of the variables have missing values"
   ]
  },
  {
   "cell_type": "code",
   "execution_count": 11,
   "metadata": {},
   "outputs": [
    {
     "data": {
      "text/html": [
       "<dl class=dl-horizontal>\n",
       "\t<dt>ApplicationID</dt>\n",
       "\t\t<dd>FALSE</dd>\n",
       "\t<dt>Language</dt>\n",
       "\t\t<dd>FALSE</dd>\n",
       "\t<dt>Country</dt>\n",
       "\t\t<dd>FALSE</dd>\n",
       "\t<dt>UserID</dt>\n",
       "\t\t<dd>FALSE</dd>\n",
       "\t<dt>RegDate</dt>\n",
       "\t\t<dd>FALSE</dd>\n",
       "\t<dt>FirstPay</dt>\n",
       "\t\t<dd>FALSE</dd>\n",
       "\t<dt>FirstAct</dt>\n",
       "\t\t<dd>FALSE</dd>\n",
       "\t<dt>FirstSp</dt>\n",
       "\t\t<dd>FALSE</dd>\n",
       "\t<dt>FirstCa</dt>\n",
       "\t\t<dd>FALSE</dd>\n",
       "\t<dt>FirstGa</dt>\n",
       "\t\t<dd>FALSE</dd>\n",
       "\t<dt>FirstPo</dt>\n",
       "\t\t<dd>FALSE</dd>\n",
       "\t<dt>Gender</dt>\n",
       "\t\t<dd>FALSE</dd>\n",
       "\t<dt>CountryName</dt>\n",
       "\t\t<dd>FALSE</dd>\n",
       "\t<dt>LanguageName</dt>\n",
       "\t\t<dd>FALSE</dd>\n",
       "\t<dt>ApplicationName</dt>\n",
       "\t\t<dd>FALSE</dd>\n",
       "</dl>\n"
      ],
      "text/latex": [
       "\\begin{description*}\n",
       "\\item[ApplicationID] FALSE\n",
       "\\item[Language] FALSE\n",
       "\\item[Country] FALSE\n",
       "\\item[UserID] FALSE\n",
       "\\item[RegDate] FALSE\n",
       "\\item[FirstPay] FALSE\n",
       "\\item[FirstAct] FALSE\n",
       "\\item[FirstSp] FALSE\n",
       "\\item[FirstCa] FALSE\n",
       "\\item[FirstGa] FALSE\n",
       "\\item[FirstPo] FALSE\n",
       "\\item[Gender] FALSE\n",
       "\\item[CountryName] FALSE\n",
       "\\item[LanguageName] FALSE\n",
       "\\item[ApplicationName] FALSE\n",
       "\\end{description*}\n"
      ],
      "text/markdown": [
       "ApplicationID\n",
       ":   FALSELanguage\n",
       ":   FALSECountry\n",
       ":   FALSEUserID\n",
       ":   FALSERegDate\n",
       ":   FALSEFirstPay\n",
       ":   FALSEFirstAct\n",
       ":   FALSEFirstSp\n",
       ":   FALSEFirstCa\n",
       ":   FALSEFirstGa\n",
       ":   FALSEFirstPo\n",
       ":   FALSEGender\n",
       ":   FALSECountryName\n",
       ":   FALSELanguageName\n",
       ":   FALSEApplicationName\n",
       ":   FALSE\n",
       "\n"
      ],
      "text/plain": [
       "  ApplicationID        Language         Country          UserID         RegDate \n",
       "          FALSE           FALSE           FALSE           FALSE           FALSE \n",
       "       FirstPay        FirstAct         FirstSp         FirstCa         FirstGa \n",
       "          FALSE           FALSE           FALSE           FALSE           FALSE \n",
       "        FirstPo          Gender     CountryName    LanguageName ApplicationName \n",
       "          FALSE           FALSE           FALSE           FALSE           FALSE "
      ]
     },
     "metadata": {},
     "output_type": "display_data"
    }
   ],
   "source": [
    "apply(Demographic, 2, function(x) any(is.null(x)))                   # ALL FALSE means no missing Values"
   ]
  },
  {
   "cell_type": "code",
   "execution_count": 12,
   "metadata": {
    "scrolled": false
   },
   "outputs": [
    {
     "data": {
      "text/html": [
       "<table>\n",
       "<thead><tr><th scope=col>UserID</th><th scope=col>RegDate</th><th scope=col>FirstPay</th><th scope=col>FirstAct</th><th scope=col>FirstSp</th><th scope=col>FirstCa</th><th scope=col>FirstGa</th><th scope=col>FirstPo</th><th scope=col>Gender</th><th scope=col>CountryName</th><th scope=col>LanguageName</th><th scope=col>ApplicationName</th></tr></thead>\n",
       "<tbody>\n",
       "\t<tr><td>1328412       </td><td>2005-02-02    </td><td>2005-02-06    </td><td>2005-02-06    </td><td>2005-02-06    </td><td>NA            </td><td>NA            </td><td>NA            </td><td>Male          </td><td>Germany       </td><td>English       </td><td>BETANDWIN.COM </td></tr>\n",
       "\t<tr><td>1328922       </td><td>2005-02-03    </td><td>2005-07-14    </td><td>2005-07-14    </td><td>NA            </td><td>2005-07-14    </td><td>NA            </td><td>NA            </td><td>Male          </td><td>Spain         </td><td>Spanish       </td><td>BETANDWIN.COM </td></tr>\n",
       "\t<tr><td>1355500       </td><td>2005-02-13    </td><td>2005-02-13    </td><td>2005-02-13    </td><td>2005-02-13    </td><td>NA            </td><td>NA            </td><td>NA            </td><td>Male          </td><td>Switzerland   </td><td>English       </td><td>BETANDWIN.COM </td></tr>\n",
       "\t<tr><td>1396444       </td><td>2005-02-26    </td><td>2005-02-26    </td><td>2005-02-26    </td><td>2005-02-26    </td><td>2005-02-26    </td><td>NA            </td><td>NA            </td><td>Male          </td><td>United Kingdom</td><td>English       </td><td>BETANDWIN.COM </td></tr>\n",
       "\t<tr><td>1371247       </td><td>2005-02-19    </td><td>2005-08-17    </td><td>2005-08-17    </td><td>2005-08-17    </td><td>2005-08-19    </td><td>2005-08-28    </td><td>2005-08-30    </td><td>Female        </td><td>Spain         </td><td>Spanish       </td><td>BETANDWIN.COM </td></tr>\n",
       "\t<tr><td>1395257       </td><td>2005-02-26    </td><td>2005-02-26    </td><td>2005-02-26    </td><td>2005-02-26    </td><td>NA            </td><td>NA            </td><td>NA            </td><td>Male          </td><td>Japan         </td><td>English       </td><td>BETANDWIN.COM </td></tr>\n",
       "</tbody>\n",
       "</table>\n"
      ],
      "text/latex": [
       "\\begin{tabular}{r|llllllllllll}\n",
       " UserID & RegDate & FirstPay & FirstAct & FirstSp & FirstCa & FirstGa & FirstPo & Gender & CountryName & LanguageName & ApplicationName\\\\\n",
       "\\hline\n",
       "\t 1328412        & 2005-02-02     & 2005-02-06     & 2005-02-06     & 2005-02-06     & NA             & NA             & NA             & Male           & Germany        & English        & BETANDWIN.COM \\\\\n",
       "\t 1328922        & 2005-02-03     & 2005-07-14     & 2005-07-14     & NA             & 2005-07-14     & NA             & NA             & Male           & Spain          & Spanish        & BETANDWIN.COM \\\\\n",
       "\t 1355500        & 2005-02-13     & 2005-02-13     & 2005-02-13     & 2005-02-13     & NA             & NA             & NA             & Male           & Switzerland    & English        & BETANDWIN.COM \\\\\n",
       "\t 1396444        & 2005-02-26     & 2005-02-26     & 2005-02-26     & 2005-02-26     & 2005-02-26     & NA             & NA             & Male           & United Kingdom & English        & BETANDWIN.COM \\\\\n",
       "\t 1371247        & 2005-02-19     & 2005-08-17     & 2005-08-17     & 2005-08-17     & 2005-08-19     & 2005-08-28     & 2005-08-30     & Female         & Spain          & Spanish        & BETANDWIN.COM \\\\\n",
       "\t 1395257        & 2005-02-26     & 2005-02-26     & 2005-02-26     & 2005-02-26     & NA             & NA             & NA             & Male           & Japan          & English        & BETANDWIN.COM \\\\\n",
       "\\end{tabular}\n"
      ],
      "text/markdown": [
       "\n",
       "| UserID | RegDate | FirstPay | FirstAct | FirstSp | FirstCa | FirstGa | FirstPo | Gender | CountryName | LanguageName | ApplicationName |\n",
       "|---|---|---|---|---|---|---|---|---|---|---|---|\n",
       "| 1328412        | 2005-02-02     | 2005-02-06     | 2005-02-06     | 2005-02-06     | NA             | NA             | NA             | Male           | Germany        | English        | BETANDWIN.COM  |\n",
       "| 1328922        | 2005-02-03     | 2005-07-14     | 2005-07-14     | NA             | 2005-07-14     | NA             | NA             | Male           | Spain          | Spanish        | BETANDWIN.COM  |\n",
       "| 1355500        | 2005-02-13     | 2005-02-13     | 2005-02-13     | 2005-02-13     | NA             | NA             | NA             | Male           | Switzerland    | English        | BETANDWIN.COM  |\n",
       "| 1396444        | 2005-02-26     | 2005-02-26     | 2005-02-26     | 2005-02-26     | 2005-02-26     | NA             | NA             | Male           | United Kingdom | English        | BETANDWIN.COM  |\n",
       "| 1371247        | 2005-02-19     | 2005-08-17     | 2005-08-17     | 2005-08-17     | 2005-08-19     | 2005-08-28     | 2005-08-30     | Female         | Spain          | Spanish        | BETANDWIN.COM  |\n",
       "| 1395257        | 2005-02-26     | 2005-02-26     | 2005-02-26     | 2005-02-26     | NA             | NA             | NA             | Male           | Japan          | English        | BETANDWIN.COM  |\n",
       "\n"
      ],
      "text/plain": [
       "  UserID  RegDate    FirstPay   FirstAct   FirstSp    FirstCa    FirstGa   \n",
       "1 1328412 2005-02-02 2005-02-06 2005-02-06 2005-02-06 <NA>       <NA>      \n",
       "2 1328922 2005-02-03 2005-07-14 2005-07-14 <NA>       2005-07-14 <NA>      \n",
       "3 1355500 2005-02-13 2005-02-13 2005-02-13 2005-02-13 <NA>       <NA>      \n",
       "4 1396444 2005-02-26 2005-02-26 2005-02-26 2005-02-26 2005-02-26 <NA>      \n",
       "5 1371247 2005-02-19 2005-08-17 2005-08-17 2005-08-17 2005-08-19 2005-08-28\n",
       "6 1395257 2005-02-26 2005-02-26 2005-02-26 2005-02-26 <NA>       <NA>      \n",
       "  FirstPo    Gender CountryName    LanguageName ApplicationName\n",
       "1 <NA>       Male   Germany        English      BETANDWIN.COM  \n",
       "2 <NA>       Male   Spain          Spanish      BETANDWIN.COM  \n",
       "3 <NA>       Male   Switzerland    English      BETANDWIN.COM  \n",
       "4 <NA>       Male   United Kingdom English      BETANDWIN.COM  \n",
       "5 2005-08-30 Female Spain          Spanish      BETANDWIN.COM  \n",
       "6 <NA>       Male   Japan          English      BETANDWIN.COM  "
      ]
     },
     "metadata": {},
     "output_type": "display_data"
    }
   ],
   "source": [
    "# Deleting the not required Columns\n",
    "Demographic$ApplicationID <- NULL\n",
    "Demographic$Language <- NULL\n",
    "Demographic$Country <- NULL\n",
    "\n",
    "head (Demographic)"
   ]
  },
  {
   "cell_type": "markdown",
   "metadata": {},
   "source": [
    "Now trying to understand the Time gap between Customer Registration and the First date it starts Playing!"
   ]
  },
  {
   "cell_type": "code",
   "execution_count": 13,
   "metadata": {},
   "outputs": [],
   "source": [
    "# Creating a new Column and naming it as Activation Period for the Client\n",
    "\n",
    "Demographic$Activation_Period <- as.Date(Demographic$FirstAct,\"%Y%m%d\")-as.Date(Demographic$RegDate,\"%Y%m%d\")"
   ]
  },
  {
   "cell_type": "code",
   "execution_count": 14,
   "metadata": {},
   "outputs": [
    {
     "data": {
      "text/html": [
       "<table>\n",
       "<thead><tr><th scope=col>UserID</th><th scope=col>RegDate</th><th scope=col>FirstPay</th><th scope=col>FirstAct</th><th scope=col>FirstSp</th><th scope=col>FirstCa</th><th scope=col>FirstGa</th><th scope=col>FirstPo</th><th scope=col>Gender</th><th scope=col>CountryName</th><th scope=col>LanguageName</th><th scope=col>ApplicationName</th><th scope=col>Activation_Period</th></tr></thead>\n",
       "<tbody>\n",
       "\t<tr><td>1328412       </td><td>2005-02-02    </td><td>2005-02-06    </td><td>2005-02-06    </td><td>2005-02-06    </td><td>NA            </td><td>NA            </td><td>NA            </td><td>Male          </td><td>Germany       </td><td>English       </td><td>BETANDWIN.COM </td><td>  4 days      </td></tr>\n",
       "\t<tr><td>1328922       </td><td>2005-02-03    </td><td>2005-07-14    </td><td>2005-07-14    </td><td>NA            </td><td>2005-07-14    </td><td>NA            </td><td>NA            </td><td>Male          </td><td>Spain         </td><td>Spanish       </td><td>BETANDWIN.COM </td><td>161 days      </td></tr>\n",
       "\t<tr><td>1355500       </td><td>2005-02-13    </td><td>2005-02-13    </td><td>2005-02-13    </td><td>2005-02-13    </td><td>NA            </td><td>NA            </td><td>NA            </td><td>Male          </td><td>Switzerland   </td><td>English       </td><td>BETANDWIN.COM </td><td>  0 days      </td></tr>\n",
       "\t<tr><td>1396444       </td><td>2005-02-26    </td><td>2005-02-26    </td><td>2005-02-26    </td><td>2005-02-26    </td><td>2005-02-26    </td><td>NA            </td><td>NA            </td><td>Male          </td><td>United Kingdom</td><td>English       </td><td>BETANDWIN.COM </td><td>  0 days      </td></tr>\n",
       "\t<tr><td>1371247       </td><td>2005-02-19    </td><td>2005-08-17    </td><td>2005-08-17    </td><td>2005-08-17    </td><td>2005-08-19    </td><td>2005-08-28    </td><td>2005-08-30    </td><td>Female        </td><td>Spain         </td><td>Spanish       </td><td>BETANDWIN.COM </td><td>179 days      </td></tr>\n",
       "\t<tr><td>1395257       </td><td>2005-02-26    </td><td>2005-02-26    </td><td>2005-02-26    </td><td>2005-02-26    </td><td>NA            </td><td>NA            </td><td>NA            </td><td>Male          </td><td>Japan         </td><td>English       </td><td>BETANDWIN.COM </td><td>  0 days      </td></tr>\n",
       "</tbody>\n",
       "</table>\n"
      ],
      "text/latex": [
       "\\begin{tabular}{r|lllllllllllll}\n",
       " UserID & RegDate & FirstPay & FirstAct & FirstSp & FirstCa & FirstGa & FirstPo & Gender & CountryName & LanguageName & ApplicationName & Activation\\_Period\\\\\n",
       "\\hline\n",
       "\t 1328412        & 2005-02-02     & 2005-02-06     & 2005-02-06     & 2005-02-06     & NA             & NA             & NA             & Male           & Germany        & English        & BETANDWIN.COM  &   4 days      \\\\\n",
       "\t 1328922        & 2005-02-03     & 2005-07-14     & 2005-07-14     & NA             & 2005-07-14     & NA             & NA             & Male           & Spain          & Spanish        & BETANDWIN.COM  & 161 days      \\\\\n",
       "\t 1355500        & 2005-02-13     & 2005-02-13     & 2005-02-13     & 2005-02-13     & NA             & NA             & NA             & Male           & Switzerland    & English        & BETANDWIN.COM  &   0 days      \\\\\n",
       "\t 1396444        & 2005-02-26     & 2005-02-26     & 2005-02-26     & 2005-02-26     & 2005-02-26     & NA             & NA             & Male           & United Kingdom & English        & BETANDWIN.COM  &   0 days      \\\\\n",
       "\t 1371247        & 2005-02-19     & 2005-08-17     & 2005-08-17     & 2005-08-17     & 2005-08-19     & 2005-08-28     & 2005-08-30     & Female         & Spain          & Spanish        & BETANDWIN.COM  & 179 days      \\\\\n",
       "\t 1395257        & 2005-02-26     & 2005-02-26     & 2005-02-26     & 2005-02-26     & NA             & NA             & NA             & Male           & Japan          & English        & BETANDWIN.COM  &   0 days      \\\\\n",
       "\\end{tabular}\n"
      ],
      "text/markdown": [
       "\n",
       "| UserID | RegDate | FirstPay | FirstAct | FirstSp | FirstCa | FirstGa | FirstPo | Gender | CountryName | LanguageName | ApplicationName | Activation_Period |\n",
       "|---|---|---|---|---|---|---|---|---|---|---|---|---|\n",
       "| 1328412        | 2005-02-02     | 2005-02-06     | 2005-02-06     | 2005-02-06     | NA             | NA             | NA             | Male           | Germany        | English        | BETANDWIN.COM  |   4 days       |\n",
       "| 1328922        | 2005-02-03     | 2005-07-14     | 2005-07-14     | NA             | 2005-07-14     | NA             | NA             | Male           | Spain          | Spanish        | BETANDWIN.COM  | 161 days       |\n",
       "| 1355500        | 2005-02-13     | 2005-02-13     | 2005-02-13     | 2005-02-13     | NA             | NA             | NA             | Male           | Switzerland    | English        | BETANDWIN.COM  |   0 days       |\n",
       "| 1396444        | 2005-02-26     | 2005-02-26     | 2005-02-26     | 2005-02-26     | 2005-02-26     | NA             | NA             | Male           | United Kingdom | English        | BETANDWIN.COM  |   0 days       |\n",
       "| 1371247        | 2005-02-19     | 2005-08-17     | 2005-08-17     | 2005-08-17     | 2005-08-19     | 2005-08-28     | 2005-08-30     | Female         | Spain          | Spanish        | BETANDWIN.COM  | 179 days       |\n",
       "| 1395257        | 2005-02-26     | 2005-02-26     | 2005-02-26     | 2005-02-26     | NA             | NA             | NA             | Male           | Japan          | English        | BETANDWIN.COM  |   0 days       |\n",
       "\n"
      ],
      "text/plain": [
       "  UserID  RegDate    FirstPay   FirstAct   FirstSp    FirstCa    FirstGa   \n",
       "1 1328412 2005-02-02 2005-02-06 2005-02-06 2005-02-06 <NA>       <NA>      \n",
       "2 1328922 2005-02-03 2005-07-14 2005-07-14 <NA>       2005-07-14 <NA>      \n",
       "3 1355500 2005-02-13 2005-02-13 2005-02-13 2005-02-13 <NA>       <NA>      \n",
       "4 1396444 2005-02-26 2005-02-26 2005-02-26 2005-02-26 2005-02-26 <NA>      \n",
       "5 1371247 2005-02-19 2005-08-17 2005-08-17 2005-08-17 2005-08-19 2005-08-28\n",
       "6 1395257 2005-02-26 2005-02-26 2005-02-26 2005-02-26 <NA>       <NA>      \n",
       "  FirstPo    Gender CountryName    LanguageName ApplicationName\n",
       "1 <NA>       Male   Germany        English      BETANDWIN.COM  \n",
       "2 <NA>       Male   Spain          Spanish      BETANDWIN.COM  \n",
       "3 <NA>       Male   Switzerland    English      BETANDWIN.COM  \n",
       "4 <NA>       Male   United Kingdom English      BETANDWIN.COM  \n",
       "5 2005-08-30 Female Spain          Spanish      BETANDWIN.COM  \n",
       "6 <NA>       Male   Japan          English      BETANDWIN.COM  \n",
       "  Activation_Period\n",
       "1   4 days         \n",
       "2 161 days         \n",
       "3   0 days         \n",
       "4   0 days         \n",
       "5 179 days         \n",
       "6   0 days         "
      ]
     },
     "metadata": {},
     "output_type": "display_data"
    }
   ],
   "source": [
    "head (Demographic)"
   ]
  },
  {
   "cell_type": "markdown",
   "metadata": {},
   "source": [
    "### Exploring Daily Aggregation Table"
   ]
  },
  {
   "cell_type": "code",
   "execution_count": 15,
   "metadata": {
    "scrolled": true
   },
   "outputs": [
    {
     "data": {
      "text/html": [
       "<table>\n",
       "<thead><tr><th scope=col>UserID</th><th scope=col>Date</th><th scope=col>ProductID</th><th scope=col>Stakes</th><th scope=col>Winnings</th><th scope=col>Bets</th></tr></thead>\n",
       "<tbody>\n",
       "\t<tr><td>1324354 </td><td>20050224</td><td>1       </td><td>20      </td><td>0       </td><td>2       </td></tr>\n",
       "\t<tr><td>1324354 </td><td>20050225</td><td>1       </td><td> 0      </td><td>0       </td><td>0       </td></tr>\n",
       "</tbody>\n",
       "</table>\n"
      ],
      "text/latex": [
       "\\begin{tabular}{r|llllll}\n",
       " UserID & Date & ProductID & Stakes & Winnings & Bets\\\\\n",
       "\\hline\n",
       "\t 1324354  & 20050224 & 1        & 20       & 0        & 2       \\\\\n",
       "\t 1324354  & 20050225 & 1        &  0       & 0        & 0       \\\\\n",
       "\\end{tabular}\n"
      ],
      "text/markdown": [
       "\n",
       "| UserID | Date | ProductID | Stakes | Winnings | Bets |\n",
       "|---|---|---|---|---|---|\n",
       "| 1324354  | 20050224 | 1        | 20       | 0        | 2        |\n",
       "| 1324354  | 20050225 | 1        |  0       | 0        | 0        |\n",
       "\n"
      ],
      "text/plain": [
       "  UserID  Date     ProductID Stakes Winnings Bets\n",
       "1 1324354 20050224 1         20     0        2   \n",
       "2 1324354 20050225 1          0     0        0   "
      ]
     },
     "metadata": {},
     "output_type": "display_data"
    }
   ],
   "source": [
    "head(Daily_Aggregation,2)"
   ]
  },
  {
   "cell_type": "markdown",
   "metadata": {},
   "source": [
    "Dates are in character value (same as they are in the sas file), so need to rectify them!"
   ]
  },
  {
   "cell_type": "code",
   "execution_count": 16,
   "metadata": {},
   "outputs": [],
   "source": [
    "Daily_Aggregation$Date<-as.Date(Daily_Aggregation$Date,\"%Y%m%d\")"
   ]
  },
  {
   "cell_type": "code",
   "execution_count": 17,
   "metadata": {
    "scrolled": true
   },
   "outputs": [
    {
     "data": {
      "text/html": [
       "<table>\n",
       "<thead><tr><th scope=col>UserID</th><th scope=col>Date</th><th scope=col>ProductID</th><th scope=col>Stakes</th><th scope=col>Winnings</th><th scope=col>Bets</th></tr></thead>\n",
       "<tbody>\n",
       "\t<tr><td>1324354   </td><td>2005-02-24</td><td>1         </td><td>20        </td><td>0         </td><td>2         </td></tr>\n",
       "\t<tr><td>1324354   </td><td>2005-02-25</td><td>1         </td><td> 0        </td><td>0         </td><td>0         </td></tr>\n",
       "\t<tr><td>1324354   </td><td>2005-02-27</td><td>1         </td><td>20        </td><td>0         </td><td>2         </td></tr>\n",
       "\t<tr><td>1324354   </td><td>2005-03-03</td><td>1         </td><td>10        </td><td>0         </td><td>1         </td></tr>\n",
       "\t<tr><td>1324354   </td><td>2005-03-04</td><td>1         </td><td>10        </td><td>0         </td><td>1         </td></tr>\n",
       "\t<tr><td>1324354   </td><td>2005-03-05</td><td>1         </td><td>10        </td><td>0         </td><td>1         </td></tr>\n",
       "</tbody>\n",
       "</table>\n"
      ],
      "text/latex": [
       "\\begin{tabular}{r|llllll}\n",
       " UserID & Date & ProductID & Stakes & Winnings & Bets\\\\\n",
       "\\hline\n",
       "\t 1324354    & 2005-02-24 & 1          & 20         & 0          & 2         \\\\\n",
       "\t 1324354    & 2005-02-25 & 1          &  0         & 0          & 0         \\\\\n",
       "\t 1324354    & 2005-02-27 & 1          & 20         & 0          & 2         \\\\\n",
       "\t 1324354    & 2005-03-03 & 1          & 10         & 0          & 1         \\\\\n",
       "\t 1324354    & 2005-03-04 & 1          & 10         & 0          & 1         \\\\\n",
       "\t 1324354    & 2005-03-05 & 1          & 10         & 0          & 1         \\\\\n",
       "\\end{tabular}\n"
      ],
      "text/markdown": [
       "\n",
       "| UserID | Date | ProductID | Stakes | Winnings | Bets |\n",
       "|---|---|---|---|---|---|\n",
       "| 1324354    | 2005-02-24 | 1          | 20         | 0          | 2          |\n",
       "| 1324354    | 2005-02-25 | 1          |  0         | 0          | 0          |\n",
       "| 1324354    | 2005-02-27 | 1          | 20         | 0          | 2          |\n",
       "| 1324354    | 2005-03-03 | 1          | 10         | 0          | 1          |\n",
       "| 1324354    | 2005-03-04 | 1          | 10         | 0          | 1          |\n",
       "| 1324354    | 2005-03-05 | 1          | 10         | 0          | 1          |\n",
       "\n"
      ],
      "text/plain": [
       "  UserID  Date       ProductID Stakes Winnings Bets\n",
       "1 1324354 2005-02-24 1         20     0        2   \n",
       "2 1324354 2005-02-25 1          0     0        0   \n",
       "3 1324354 2005-02-27 1         20     0        2   \n",
       "4 1324354 2005-03-03 1         10     0        1   \n",
       "5 1324354 2005-03-04 1         10     0        1   \n",
       "6 1324354 2005-03-05 1         10     0        1   "
      ]
     },
     "metadata": {},
     "output_type": "display_data"
    }
   ],
   "source": [
    "head(Daily_Aggregation)"
   ]
  },
  {
   "cell_type": "code",
   "execution_count": 18,
   "metadata": {
    "scrolled": true
   },
   "outputs": [
    {
     "name": "stderr",
     "output_type": "stream",
     "text": [
      "`summarise()` ungrouping output (override with `.groups` argument)\n"
     ]
    },
    {
     "data": {
      "text/html": [
       "39.6842945428839"
      ],
      "text/latex": [
       "39.6842945428839"
      ],
      "text/markdown": [
       "39.6842945428839"
      ],
      "text/plain": [
       "[1] 39.68429"
      ]
     },
     "metadata": {},
     "output_type": "display_data"
    }
   ],
   "source": [
    "a<-Daily_Aggregation %>% \n",
    "           group_by(UserID) %>% \n",
    "                   dplyr ::summarise(count = n())\n",
    "                                    mean(a$count)           #39.68 daily where made in average by each user "
   ]
  },
  {
   "cell_type": "code",
   "execution_count": 19,
   "metadata": {},
   "outputs": [],
   "source": [
    "temp<-Daily_Aggregation"
   ]
  },
  {
   "cell_type": "code",
   "execution_count": 20,
   "metadata": {},
   "outputs": [],
   "source": [
    "temp <- merge(x = temp, y = Demographic[ , c(\"UserID\", \"FirstPay\")], by = \"UserID\", all.x=TRUE)"
   ]
  },
  {
   "cell_type": "code",
   "execution_count": 21,
   "metadata": {},
   "outputs": [
    {
     "data": {
      "text/html": [
       "<table>\n",
       "<thead><tr><th scope=col>UserID</th><th scope=col>Date</th><th scope=col>ProductID</th><th scope=col>Stakes</th><th scope=col>Winnings</th><th scope=col>Bets</th><th scope=col>FirstPay</th></tr></thead>\n",
       "<tbody>\n",
       "\t<tr><td>1324354   </td><td>2005-09-13</td><td>1         </td><td>  0       </td><td>  0       </td><td>0         </td><td>2005-02-24</td></tr>\n",
       "\t<tr><td>1324354   </td><td>2005-09-17</td><td>1         </td><td>  0       </td><td>  0       </td><td>0         </td><td>2005-02-24</td></tr>\n",
       "\t<tr><td>1324354   </td><td>2005-09-28</td><td>1         </td><td> 25       </td><td>  0       </td><td>4         </td><td>2005-02-24</td></tr>\n",
       "\t<tr><td>1324354   </td><td>2005-09-16</td><td>1         </td><td>  0       </td><td>220       </td><td>0         </td><td>2005-02-24</td></tr>\n",
       "\t<tr><td>1324354   </td><td>2005-09-12</td><td>1         </td><td>200       </td><td>  0       </td><td>9         </td><td>2005-02-24</td></tr>\n",
       "\t<tr><td>1324354   </td><td>2005-02-25</td><td>1         </td><td>  0       </td><td>  0       </td><td>0         </td><td>2005-02-24</td></tr>\n",
       "</tbody>\n",
       "</table>\n"
      ],
      "text/latex": [
       "\\begin{tabular}{r|lllllll}\n",
       " UserID & Date & ProductID & Stakes & Winnings & Bets & FirstPay\\\\\n",
       "\\hline\n",
       "\t 1324354    & 2005-09-13 & 1          &   0        &   0        & 0          & 2005-02-24\\\\\n",
       "\t 1324354    & 2005-09-17 & 1          &   0        &   0        & 0          & 2005-02-24\\\\\n",
       "\t 1324354    & 2005-09-28 & 1          &  25        &   0        & 4          & 2005-02-24\\\\\n",
       "\t 1324354    & 2005-09-16 & 1          &   0        & 220        & 0          & 2005-02-24\\\\\n",
       "\t 1324354    & 2005-09-12 & 1          & 200        &   0        & 9          & 2005-02-24\\\\\n",
       "\t 1324354    & 2005-02-25 & 1          &   0        &   0        & 0          & 2005-02-24\\\\\n",
       "\\end{tabular}\n"
      ],
      "text/markdown": [
       "\n",
       "| UserID | Date | ProductID | Stakes | Winnings | Bets | FirstPay |\n",
       "|---|---|---|---|---|---|---|\n",
       "| 1324354    | 2005-09-13 | 1          |   0        |   0        | 0          | 2005-02-24 |\n",
       "| 1324354    | 2005-09-17 | 1          |   0        |   0        | 0          | 2005-02-24 |\n",
       "| 1324354    | 2005-09-28 | 1          |  25        |   0        | 4          | 2005-02-24 |\n",
       "| 1324354    | 2005-09-16 | 1          |   0        | 220        | 0          | 2005-02-24 |\n",
       "| 1324354    | 2005-09-12 | 1          | 200        |   0        | 9          | 2005-02-24 |\n",
       "| 1324354    | 2005-02-25 | 1          |   0        |   0        | 0          | 2005-02-24 |\n",
       "\n"
      ],
      "text/plain": [
       "  UserID  Date       ProductID Stakes Winnings Bets FirstPay  \n",
       "1 1324354 2005-09-13 1           0      0      0    2005-02-24\n",
       "2 1324354 2005-09-17 1           0      0      0    2005-02-24\n",
       "3 1324354 2005-09-28 1          25      0      4    2005-02-24\n",
       "4 1324354 2005-09-16 1           0    220      0    2005-02-24\n",
       "5 1324354 2005-09-12 1         200      0      9    2005-02-24\n",
       "6 1324354 2005-02-25 1           0      0      0    2005-02-24"
      ]
     },
     "metadata": {},
     "output_type": "display_data"
    }
   ],
   "source": [
    "head(temp)"
   ]
  },
  {
   "cell_type": "markdown",
   "metadata": {},
   "source": [
    "Balancing the Aggregation dataset as per the given Analytical Table"
   ]
  },
  {
   "cell_type": "code",
   "execution_count": 22,
   "metadata": {},
   "outputs": [],
   "source": [
    "# Applied the filter that was applied on the Daily Aggregation tabletable and used to create the Analytical table\n",
    "\n",
    "temp <- temp %>% \n",
    "filter(Date >= FirstPay & Date <= as.Date(\"2005-09-30\") & Date >= as.Date(\"2005-02-01\"))"
   ]
  },
  {
   "cell_type": "code",
   "execution_count": 23,
   "metadata": {
    "scrolled": true
   },
   "outputs": [
    {
     "data": {
      "text/html": [
       "<table>\n",
       "<thead><tr><th scope=col>UserID</th><th scope=col>Date</th><th scope=col>ProductID</th><th scope=col>Stakes</th><th scope=col>Winnings</th><th scope=col>Bets</th></tr></thead>\n",
       "<tbody>\n",
       "\t<tr><td>1324354   </td><td>2005-09-13</td><td>1         </td><td>  0       </td><td>  0       </td><td>0         </td></tr>\n",
       "\t<tr><td>1324354   </td><td>2005-09-17</td><td>1         </td><td>  0       </td><td>  0       </td><td>0         </td></tr>\n",
       "\t<tr><td>1324354   </td><td>2005-09-28</td><td>1         </td><td> 25       </td><td>  0       </td><td>4         </td></tr>\n",
       "\t<tr><td>1324354   </td><td>2005-09-16</td><td>1         </td><td>  0       </td><td>220       </td><td>0         </td></tr>\n",
       "\t<tr><td>1324354   </td><td>2005-09-12</td><td>1         </td><td>200       </td><td>  0       </td><td>9         </td></tr>\n",
       "\t<tr><td>1324354   </td><td>2005-02-25</td><td>1         </td><td>  0       </td><td>  0       </td><td>0         </td></tr>\n",
       "</tbody>\n",
       "</table>\n"
      ],
      "text/latex": [
       "\\begin{tabular}{r|llllll}\n",
       " UserID & Date & ProductID & Stakes & Winnings & Bets\\\\\n",
       "\\hline\n",
       "\t 1324354    & 2005-09-13 & 1          &   0        &   0        & 0         \\\\\n",
       "\t 1324354    & 2005-09-17 & 1          &   0        &   0        & 0         \\\\\n",
       "\t 1324354    & 2005-09-28 & 1          &  25        &   0        & 4         \\\\\n",
       "\t 1324354    & 2005-09-16 & 1          &   0        & 220        & 0         \\\\\n",
       "\t 1324354    & 2005-09-12 & 1          & 200        &   0        & 9         \\\\\n",
       "\t 1324354    & 2005-02-25 & 1          &   0        &   0        & 0         \\\\\n",
       "\\end{tabular}\n"
      ],
      "text/markdown": [
       "\n",
       "| UserID | Date | ProductID | Stakes | Winnings | Bets |\n",
       "|---|---|---|---|---|---|\n",
       "| 1324354    | 2005-09-13 | 1          |   0        |   0        | 0          |\n",
       "| 1324354    | 2005-09-17 | 1          |   0        |   0        | 0          |\n",
       "| 1324354    | 2005-09-28 | 1          |  25        |   0        | 4          |\n",
       "| 1324354    | 2005-09-16 | 1          |   0        | 220        | 0          |\n",
       "| 1324354    | 2005-09-12 | 1          | 200        |   0        | 9          |\n",
       "| 1324354    | 2005-02-25 | 1          |   0        |   0        | 0          |\n",
       "\n"
      ],
      "text/plain": [
       "  UserID  Date       ProductID Stakes Winnings Bets\n",
       "1 1324354 2005-09-13 1           0      0      0   \n",
       "2 1324354 2005-09-17 1           0      0      0   \n",
       "3 1324354 2005-09-28 1          25      0      4   \n",
       "4 1324354 2005-09-16 1           0    220      0   \n",
       "5 1324354 2005-09-12 1         200      0      9   \n",
       "6 1324354 2005-02-25 1           0      0      0   "
      ]
     },
     "metadata": {},
     "output_type": "display_data"
    }
   ],
   "source": [
    "temp$FirstPay <- NULL\n",
    "head (temp)"
   ]
  },
  {
   "cell_type": "markdown",
   "metadata": {},
   "source": [
    "Creating New Columns for -  <br/>\n",
    "\n",
    "1) Days_Ttl = Total number of days a player has played (i.e Loyalty)   <br/>\n",
    "2) Ttl_Stakes = Total number of Stakes                    <br/>\n",
    "3) Ttl_ Winnings = Total number of Winnings               <br/>\n",
    "4) Ttl_Bets = Total number of Bets"
   ]
  },
  {
   "cell_type": "code",
   "execution_count": 24,
   "metadata": {
    "scrolled": true
   },
   "outputs": [],
   "source": [
    "test <- as_tibble(temp)\n",
    "\n",
    "test <-ddply(test,.(UserID),summarize,\n",
    "                            Days_Ttl = n_distinct(Date),\n",
    "                            Ttl_Stakes = sum(Stakes),\n",
    "                            Ttl_Winnings = sum(Winnings),\n",
    "                            Ttl_Bets = sum(Bets),.drop = FALSE)"
   ]
  },
  {
   "cell_type": "code",
   "execution_count": 25,
   "metadata": {
    "scrolled": false
   },
   "outputs": [
    {
     "data": {
      "text/html": [
       "<table>\n",
       "<thead><tr><th scope=col>UserID</th><th scope=col>Days_Ttl</th><th scope=col>Ttl_Stakes</th><th scope=col>Ttl_Winnings</th><th scope=col>Ttl_Bets</th></tr></thead>\n",
       "<tbody>\n",
       "\t<tr><td>1324354   </td><td>118       </td><td>11976.6100</td><td>11736.6100</td><td>279       </td></tr>\n",
       "\t<tr><td>1324355   </td><td>101       </td><td>  425.5600</td><td>  464.5000</td><td>252       </td></tr>\n",
       "\t<tr><td>1324356   </td><td> 54       </td><td> 1365.2600</td><td>  910.6600</td><td>214       </td></tr>\n",
       "\t<tr><td>1324358   </td><td>  8       </td><td>  336.2898</td><td>  209.8575</td><td> 11       </td></tr>\n",
       "\t<tr><td>1324360   </td><td> 29       </td><td>   65.7427</td><td>   43.1573</td><td> 47       </td></tr>\n",
       "\t<tr><td>1324362   </td><td>  7       </td><td>   22.0000</td><td>    0.0000</td><td>  7       </td></tr>\n",
       "</tbody>\n",
       "</table>\n"
      ],
      "text/latex": [
       "\\begin{tabular}{r|lllll}\n",
       " UserID & Days\\_Ttl & Ttl\\_Stakes & Ttl\\_Winnings & Ttl\\_Bets\\\\\n",
       "\\hline\n",
       "\t 1324354    & 118        & 11976.6100 & 11736.6100 & 279       \\\\\n",
       "\t 1324355    & 101        &   425.5600 &   464.5000 & 252       \\\\\n",
       "\t 1324356    &  54        &  1365.2600 &   910.6600 & 214       \\\\\n",
       "\t 1324358    &   8        &   336.2898 &   209.8575 &  11       \\\\\n",
       "\t 1324360    &  29        &    65.7427 &    43.1573 &  47       \\\\\n",
       "\t 1324362    &   7        &    22.0000 &     0.0000 &   7       \\\\\n",
       "\\end{tabular}\n"
      ],
      "text/markdown": [
       "\n",
       "| UserID | Days_Ttl | Ttl_Stakes | Ttl_Winnings | Ttl_Bets |\n",
       "|---|---|---|---|---|\n",
       "| 1324354    | 118        | 11976.6100 | 11736.6100 | 279        |\n",
       "| 1324355    | 101        |   425.5600 |   464.5000 | 252        |\n",
       "| 1324356    |  54        |  1365.2600 |   910.6600 | 214        |\n",
       "| 1324358    |   8        |   336.2898 |   209.8575 |  11        |\n",
       "| 1324360    |  29        |    65.7427 |    43.1573 |  47        |\n",
       "| 1324362    |   7        |    22.0000 |     0.0000 |   7        |\n",
       "\n"
      ],
      "text/plain": [
       "  UserID  Days_Ttl Ttl_Stakes Ttl_Winnings Ttl_Bets\n",
       "1 1324354 118      11976.6100 11736.6100   279     \n",
       "2 1324355 101        425.5600   464.5000   252     \n",
       "3 1324356  54       1365.2600   910.6600   214     \n",
       "4 1324358   8        336.2898   209.8575    11     \n",
       "5 1324360  29         65.7427    43.1573    47     \n",
       "6 1324362   7         22.0000     0.0000     7     "
      ]
     },
     "metadata": {},
     "output_type": "display_data"
    }
   ],
   "source": [
    "head(test)"
   ]
  },
  {
   "cell_type": "markdown",
   "metadata": {},
   "source": [
    "Using the `Days_Ttl` calculated above we now will make `Customer Segments` which shall depict their `Loyalty`"
   ]
  },
  {
   "cell_type": "code",
   "execution_count": 26,
   "metadata": {},
   "outputs": [],
   "source": [
    "# Checking the Max, Mean & Min values for Days_Ttl inorder to decide the Segment Slabs"
   ]
  },
  {
   "cell_type": "code",
   "execution_count": 27,
   "metadata": {},
   "outputs": [
    {
     "data": {
      "text/html": [
       "234"
      ],
      "text/latex": [
       "234"
      ],
      "text/markdown": [
       "234"
      ],
      "text/plain": [
       "[1] 234"
      ]
     },
     "metadata": {},
     "output_type": "display_data"
    }
   ],
   "source": [
    "max(test$Days_Ttl)"
   ]
  },
  {
   "cell_type": "code",
   "execution_count": 28,
   "metadata": {},
   "outputs": [
    {
     "data": {
      "text/html": [
       "32.6650870749911"
      ],
      "text/latex": [
       "32.6650870749911"
      ],
      "text/markdown": [
       "32.6650870749911"
      ],
      "text/plain": [
       "[1] 32.66509"
      ]
     },
     "metadata": {},
     "output_type": "display_data"
    }
   ],
   "source": [
    "mean(test$Days_Ttl)"
   ]
  },
  {
   "cell_type": "code",
   "execution_count": 29,
   "metadata": {
    "scrolled": true
   },
   "outputs": [
    {
     "data": {
      "text/html": [
       "1"
      ],
      "text/latex": [
       "1"
      ],
      "text/markdown": [
       "1"
      ],
      "text/plain": [
       "[1] 1"
      ]
     },
     "metadata": {},
     "output_type": "display_data"
    }
   ],
   "source": [
    "min(test$Days_Ttl)"
   ]
  },
  {
   "cell_type": "markdown",
   "metadata": {},
   "source": [
    "Creating the Customer Segments as per the Total number of Days they have played  -  <br/> <br/>\n",
    "Less than 50 days - Bronze Category    <br/>\n",
    "50-75 days - Silver Category    <br/>\n",
    "75-100 days - Gold Category    <br/>\n",
    "More than 100 days - Platinum Category   <br/>"
   ]
  },
  {
   "cell_type": "code",
   "execution_count": 30,
   "metadata": {},
   "outputs": [],
   "source": [
    "test$Segments <- as.factor(ifelse(test$Days_Ttl <= 50,\"Bronze\",\n",
    "                         ifelse(test$Days_Ttl <= 75, \"Silver\",\n",
    "                         ifelse(test$Days_Ttl <= 100, \"Gold\",      \n",
    "                         \"Platinum\"))))\n",
    "\n",
    "Daily_Aggregation <- test"
   ]
  },
  {
   "cell_type": "code",
   "execution_count": 31,
   "metadata": {},
   "outputs": [
    {
     "data": {
      "text/html": [
       "<table>\n",
       "<thead><tr><th scope=col>UserID</th><th scope=col>Days_Ttl</th><th scope=col>Ttl_Stakes</th><th scope=col>Ttl_Winnings</th><th scope=col>Ttl_Bets</th><th scope=col>Segments</th></tr></thead>\n",
       "<tbody>\n",
       "\t<tr><td>1324354   </td><td>118       </td><td>11976.6100</td><td>11736.6100</td><td>279       </td><td>Platinum  </td></tr>\n",
       "\t<tr><td>1324355   </td><td>101       </td><td>  425.5600</td><td>  464.5000</td><td>252       </td><td>Platinum  </td></tr>\n",
       "\t<tr><td>1324356   </td><td> 54       </td><td> 1365.2600</td><td>  910.6600</td><td>214       </td><td>Silver    </td></tr>\n",
       "\t<tr><td>1324358   </td><td>  8       </td><td>  336.2898</td><td>  209.8575</td><td> 11       </td><td>Bronze    </td></tr>\n",
       "\t<tr><td>1324360   </td><td> 29       </td><td>   65.7427</td><td>   43.1573</td><td> 47       </td><td>Bronze    </td></tr>\n",
       "\t<tr><td>1324362   </td><td>  7       </td><td>   22.0000</td><td>    0.0000</td><td>  7       </td><td>Bronze    </td></tr>\n",
       "</tbody>\n",
       "</table>\n"
      ],
      "text/latex": [
       "\\begin{tabular}{r|llllll}\n",
       " UserID & Days\\_Ttl & Ttl\\_Stakes & Ttl\\_Winnings & Ttl\\_Bets & Segments\\\\\n",
       "\\hline\n",
       "\t 1324354    & 118        & 11976.6100 & 11736.6100 & 279        & Platinum  \\\\\n",
       "\t 1324355    & 101        &   425.5600 &   464.5000 & 252        & Platinum  \\\\\n",
       "\t 1324356    &  54        &  1365.2600 &   910.6600 & 214        & Silver    \\\\\n",
       "\t 1324358    &   8        &   336.2898 &   209.8575 &  11        & Bronze    \\\\\n",
       "\t 1324360    &  29        &    65.7427 &    43.1573 &  47        & Bronze    \\\\\n",
       "\t 1324362    &   7        &    22.0000 &     0.0000 &   7        & Bronze    \\\\\n",
       "\\end{tabular}\n"
      ],
      "text/markdown": [
       "\n",
       "| UserID | Days_Ttl | Ttl_Stakes | Ttl_Winnings | Ttl_Bets | Segments |\n",
       "|---|---|---|---|---|---|\n",
       "| 1324354    | 118        | 11976.6100 | 11736.6100 | 279        | Platinum   |\n",
       "| 1324355    | 101        |   425.5600 |   464.5000 | 252        | Platinum   |\n",
       "| 1324356    |  54        |  1365.2600 |   910.6600 | 214        | Silver     |\n",
       "| 1324358    |   8        |   336.2898 |   209.8575 |  11        | Bronze     |\n",
       "| 1324360    |  29        |    65.7427 |    43.1573 |  47        | Bronze     |\n",
       "| 1324362    |   7        |    22.0000 |     0.0000 |   7        | Bronze     |\n",
       "\n"
      ],
      "text/plain": [
       "  UserID  Days_Ttl Ttl_Stakes Ttl_Winnings Ttl_Bets Segments\n",
       "1 1324354 118      11976.6100 11736.6100   279      Platinum\n",
       "2 1324355 101        425.5600   464.5000   252      Platinum\n",
       "3 1324356  54       1365.2600   910.6600   214      Silver  \n",
       "4 1324358   8        336.2898   209.8575    11      Bronze  \n",
       "5 1324360  29         65.7427    43.1573    47      Bronze  \n",
       "6 1324362   7         22.0000     0.0000     7      Bronze  "
      ]
     },
     "metadata": {},
     "output_type": "display_data"
    }
   ],
   "source": [
    "head(Daily_Aggregation)"
   ]
  },
  {
   "cell_type": "markdown",
   "metadata": {},
   "source": [
    "### Exploring Poker Chip Conversion Table"
   ]
  },
  {
   "cell_type": "code",
   "execution_count": 32,
   "metadata": {},
   "outputs": [
    {
     "data": {
      "text/html": [
       "<table>\n",
       "<thead><tr><th scope=col>UserID</th><th scope=col>TransDateTime</th><th scope=col>TransType</th><th scope=col>TransAmount</th></tr></thead>\n",
       "<tbody>\n",
       "\t<tr><td>1324355            </td><td>2005-06-12 00:37:00</td><td>124                </td><td>8.9999             </td></tr>\n",
       "\t<tr><td>1324355            </td><td>2005-06-12 00:51:00</td><td>124                </td><td>1.9999             </td></tr>\n",
       "\t<tr><td>1324355            </td><td>2005-06-12 01:14:00</td><td>124                </td><td>4.9999             </td></tr>\n",
       "\t<tr><td>1324355            </td><td>2005-06-12 02:01:00</td><td> 24                </td><td>1.8069             </td></tr>\n",
       "\t<tr><td>1324355            </td><td>2005-06-14 23:35:00</td><td>124                </td><td>4.9999             </td></tr>\n",
       "</tbody>\n",
       "</table>\n"
      ],
      "text/latex": [
       "\\begin{tabular}{r|llll}\n",
       " UserID & TransDateTime & TransType & TransAmount\\\\\n",
       "\\hline\n",
       "\t 1324355             & 2005-06-12 00:37:00 & 124                 & 8.9999             \\\\\n",
       "\t 1324355             & 2005-06-12 00:51:00 & 124                 & 1.9999             \\\\\n",
       "\t 1324355             & 2005-06-12 01:14:00 & 124                 & 4.9999             \\\\\n",
       "\t 1324355             & 2005-06-12 02:01:00 &  24                 & 1.8069             \\\\\n",
       "\t 1324355             & 2005-06-14 23:35:00 & 124                 & 4.9999             \\\\\n",
       "\\end{tabular}\n"
      ],
      "text/markdown": [
       "\n",
       "| UserID | TransDateTime | TransType | TransAmount |\n",
       "|---|---|---|---|\n",
       "| 1324355             | 2005-06-12 00:37:00 | 124                 | 8.9999              |\n",
       "| 1324355             | 2005-06-12 00:51:00 | 124                 | 1.9999              |\n",
       "| 1324355             | 2005-06-12 01:14:00 | 124                 | 4.9999              |\n",
       "| 1324355             | 2005-06-12 02:01:00 |  24                 | 1.8069              |\n",
       "| 1324355             | 2005-06-14 23:35:00 | 124                 | 4.9999              |\n",
       "\n"
      ],
      "text/plain": [
       "  UserID  TransDateTime       TransType TransAmount\n",
       "1 1324355 2005-06-12 00:37:00 124       8.9999     \n",
       "2 1324355 2005-06-12 00:51:00 124       1.9999     \n",
       "3 1324355 2005-06-12 01:14:00 124       4.9999     \n",
       "4 1324355 2005-06-12 02:01:00  24       1.8069     \n",
       "5 1324355 2005-06-14 23:35:00 124       4.9999     "
      ]
     },
     "metadata": {},
     "output_type": "display_data"
    }
   ],
   "source": [
    "head(Poker_Chip_Conversion, 5)"
   ]
  },
  {
   "cell_type": "code",
   "execution_count": 33,
   "metadata": {},
   "outputs": [
    {
     "data": {
      "text/html": [
       "<table>\n",
       "<thead><tr><th scope=col>UserID</th><th scope=col>Date</th><th scope=col>Time</th><th scope=col>TransType</th><th scope=col>TransAmount</th></tr></thead>\n",
       "<tbody>\n",
       "\t<tr><td>1324355   </td><td>2005-06-12</td><td>00:37:00  </td><td>124       </td><td>8.9999    </td></tr>\n",
       "\t<tr><td>1324355   </td><td>2005-06-12</td><td>00:51:00  </td><td>124       </td><td>1.9999    </td></tr>\n",
       "\t<tr><td>1324355   </td><td>2005-06-12</td><td>01:14:00  </td><td>124       </td><td>4.9999    </td></tr>\n",
       "\t<tr><td>1324355   </td><td>2005-06-12</td><td>02:01:00  </td><td> 24       </td><td>1.8069    </td></tr>\n",
       "\t<tr><td>1324355   </td><td>2005-06-14</td><td>23:35:00  </td><td>124       </td><td>4.9999    </td></tr>\n",
       "\t<tr><td>1324355   </td><td>2005-06-14</td><td>23:45:00  </td><td>124       </td><td>4.9999    </td></tr>\n",
       "</tbody>\n",
       "</table>\n"
      ],
      "text/latex": [
       "\\begin{tabular}{r|lllll}\n",
       " UserID & Date & Time & TransType & TransAmount\\\\\n",
       "\\hline\n",
       "\t 1324355    & 2005-06-12 & 00:37:00   & 124        & 8.9999    \\\\\n",
       "\t 1324355    & 2005-06-12 & 00:51:00   & 124        & 1.9999    \\\\\n",
       "\t 1324355    & 2005-06-12 & 01:14:00   & 124        & 4.9999    \\\\\n",
       "\t 1324355    & 2005-06-12 & 02:01:00   &  24        & 1.8069    \\\\\n",
       "\t 1324355    & 2005-06-14 & 23:35:00   & 124        & 4.9999    \\\\\n",
       "\t 1324355    & 2005-06-14 & 23:45:00   & 124        & 4.9999    \\\\\n",
       "\\end{tabular}\n"
      ],
      "text/markdown": [
       "\n",
       "| UserID | Date | Time | TransType | TransAmount |\n",
       "|---|---|---|---|---|\n",
       "| 1324355    | 2005-06-12 | 00:37:00   | 124        | 8.9999     |\n",
       "| 1324355    | 2005-06-12 | 00:51:00   | 124        | 1.9999     |\n",
       "| 1324355    | 2005-06-12 | 01:14:00   | 124        | 4.9999     |\n",
       "| 1324355    | 2005-06-12 | 02:01:00   |  24        | 1.8069     |\n",
       "| 1324355    | 2005-06-14 | 23:35:00   | 124        | 4.9999     |\n",
       "| 1324355    | 2005-06-14 | 23:45:00   | 124        | 4.9999     |\n",
       "\n"
      ],
      "text/plain": [
       "  UserID  Date       Time     TransType TransAmount\n",
       "1 1324355 2005-06-12 00:37:00 124       8.9999     \n",
       "2 1324355 2005-06-12 00:51:00 124       1.9999     \n",
       "3 1324355 2005-06-12 01:14:00 124       4.9999     \n",
       "4 1324355 2005-06-12 02:01:00  24       1.8069     \n",
       "5 1324355 2005-06-14 23:35:00 124       4.9999     \n",
       "6 1324355 2005-06-14 23:45:00 124       4.9999     "
      ]
     },
     "metadata": {},
     "output_type": "display_data"
    }
   ],
   "source": [
    "# Cleaning the data to be able to make some analysis on the date and time of the transactions\n",
    "\n",
    "Poker_Chip_Conversion <- separate(Poker_Chip_Conversion,TransDateTime, c(\"Date\", \"Time\"),sep =\" \")\n",
    "\n",
    "Poker_Chip_Conversion$Date <- as.Date(Poker_Chip_Conversion$Date)\n",
    "\n",
    "head (Poker_Chip_Conversion)"
   ]
  },
  {
   "cell_type": "code",
   "execution_count": 34,
   "metadata": {
    "scrolled": true
   },
   "outputs": [
    {
     "data": {
      "text/html": [
       "<table>\n",
       "<thead><tr><th scope=col>UserID</th><th scope=col>Date</th><th scope=col>TransTime</th><th scope=col>TransType</th><th scope=col>TransAmount</th></tr></thead>\n",
       "<tbody>\n",
       "\t<tr><td>1324355   </td><td>2005-06-12</td><td>00        </td><td>124       </td><td>8.9999    </td></tr>\n",
       "\t<tr><td>1324355   </td><td>2005-06-12</td><td>00        </td><td>124       </td><td>1.9999    </td></tr>\n",
       "\t<tr><td>1324355   </td><td>2005-06-12</td><td>01        </td><td>124       </td><td>4.9999    </td></tr>\n",
       "\t<tr><td>1324355   </td><td>2005-06-12</td><td>02        </td><td> 24       </td><td>1.8069    </td></tr>\n",
       "\t<tr><td>1324355   </td><td>2005-06-14</td><td>23        </td><td>124       </td><td>4.9999    </td></tr>\n",
       "\t<tr><td>1324355   </td><td>2005-06-14</td><td>23        </td><td>124       </td><td>4.9999    </td></tr>\n",
       "</tbody>\n",
       "</table>\n"
      ],
      "text/latex": [
       "\\begin{tabular}{r|lllll}\n",
       " UserID & Date & TransTime & TransType & TransAmount\\\\\n",
       "\\hline\n",
       "\t 1324355    & 2005-06-12 & 00         & 124        & 8.9999    \\\\\n",
       "\t 1324355    & 2005-06-12 & 00         & 124        & 1.9999    \\\\\n",
       "\t 1324355    & 2005-06-12 & 01         & 124        & 4.9999    \\\\\n",
       "\t 1324355    & 2005-06-12 & 02         &  24        & 1.8069    \\\\\n",
       "\t 1324355    & 2005-06-14 & 23         & 124        & 4.9999    \\\\\n",
       "\t 1324355    & 2005-06-14 & 23         & 124        & 4.9999    \\\\\n",
       "\\end{tabular}\n"
      ],
      "text/markdown": [
       "\n",
       "| UserID | Date | TransTime | TransType | TransAmount |\n",
       "|---|---|---|---|---|\n",
       "| 1324355    | 2005-06-12 | 00         | 124        | 8.9999     |\n",
       "| 1324355    | 2005-06-12 | 00         | 124        | 1.9999     |\n",
       "| 1324355    | 2005-06-12 | 01         | 124        | 4.9999     |\n",
       "| 1324355    | 2005-06-12 | 02         |  24        | 1.8069     |\n",
       "| 1324355    | 2005-06-14 | 23         | 124        | 4.9999     |\n",
       "| 1324355    | 2005-06-14 | 23         | 124        | 4.9999     |\n",
       "\n"
      ],
      "text/plain": [
       "  UserID  Date       TransTime TransType TransAmount\n",
       "1 1324355 2005-06-12 00        124       8.9999     \n",
       "2 1324355 2005-06-12 00        124       1.9999     \n",
       "3 1324355 2005-06-12 01        124       4.9999     \n",
       "4 1324355 2005-06-12 02         24       1.8069     \n",
       "5 1324355 2005-06-14 23        124       4.9999     \n",
       "6 1324355 2005-06-14 23        124       4.9999     "
      ]
     },
     "metadata": {},
     "output_type": "display_data"
    }
   ],
   "source": [
    "# To get the hour of the day of transaction from time\n",
    "Poker_new <- Poker_Chip_Conversion\n",
    "Poker_new$TransTime <- format(as.POSIXct(Poker_new$Time, format=\"%H:%M:%S\"),\"%H\")\n",
    "\n",
    "# To drop the time column\n",
    "Poker_new <- Poker_new %>%\n",
    "select (UserID, Date, TransTime, TransType, TransAmount, -Time)  #to get my order back (date, transtime...)\n",
    "\n",
    "head(Poker_new)"
   ]
  },
  {
   "cell_type": "markdown",
   "metadata": {},
   "source": [
    "In order to distinguish between Buying and Selling assigning the values `124` and `24` under Transaction Type as `Sell` and `Buy` "
   ]
  },
  {
   "cell_type": "code",
   "execution_count": 35,
   "metadata": {},
   "outputs": [
    {
     "data": {
      "text/html": [
       "<table>\n",
       "<thead><tr><th scope=col>UserID</th><th scope=col>Date</th><th scope=col>TransTime</th><th scope=col>TransType</th><th scope=col>TransAmount</th></tr></thead>\n",
       "<tbody>\n",
       "\t<tr><td>1324355   </td><td>2005-06-12</td><td>00        </td><td>Sell      </td><td>8.9999    </td></tr>\n",
       "\t<tr><td>1324355   </td><td>2005-06-12</td><td>00        </td><td>Sell      </td><td>1.9999    </td></tr>\n",
       "\t<tr><td>1324355   </td><td>2005-06-12</td><td>01        </td><td>Sell      </td><td>4.9999    </td></tr>\n",
       "\t<tr><td>1324355   </td><td>2005-06-12</td><td>02        </td><td>Buy       </td><td>1.8069    </td></tr>\n",
       "\t<tr><td>1324355   </td><td>2005-06-14</td><td>23        </td><td>Sell      </td><td>4.9999    </td></tr>\n",
       "\t<tr><td>1324355   </td><td>2005-06-14</td><td>23        </td><td>Sell      </td><td>4.9999    </td></tr>\n",
       "</tbody>\n",
       "</table>\n"
      ],
      "text/latex": [
       "\\begin{tabular}{r|lllll}\n",
       " UserID & Date & TransTime & TransType & TransAmount\\\\\n",
       "\\hline\n",
       "\t 1324355    & 2005-06-12 & 00         & Sell       & 8.9999    \\\\\n",
       "\t 1324355    & 2005-06-12 & 00         & Sell       & 1.9999    \\\\\n",
       "\t 1324355    & 2005-06-12 & 01         & Sell       & 4.9999    \\\\\n",
       "\t 1324355    & 2005-06-12 & 02         & Buy        & 1.8069    \\\\\n",
       "\t 1324355    & 2005-06-14 & 23         & Sell       & 4.9999    \\\\\n",
       "\t 1324355    & 2005-06-14 & 23         & Sell       & 4.9999    \\\\\n",
       "\\end{tabular}\n"
      ],
      "text/markdown": [
       "\n",
       "| UserID | Date | TransTime | TransType | TransAmount |\n",
       "|---|---|---|---|---|\n",
       "| 1324355    | 2005-06-12 | 00         | Sell       | 8.9999     |\n",
       "| 1324355    | 2005-06-12 | 00         | Sell       | 1.9999     |\n",
       "| 1324355    | 2005-06-12 | 01         | Sell       | 4.9999     |\n",
       "| 1324355    | 2005-06-12 | 02         | Buy        | 1.8069     |\n",
       "| 1324355    | 2005-06-14 | 23         | Sell       | 4.9999     |\n",
       "| 1324355    | 2005-06-14 | 23         | Sell       | 4.9999     |\n",
       "\n"
      ],
      "text/plain": [
       "  UserID  Date       TransTime TransType TransAmount\n",
       "1 1324355 2005-06-12 00        Sell      8.9999     \n",
       "2 1324355 2005-06-12 00        Sell      1.9999     \n",
       "3 1324355 2005-06-12 01        Sell      4.9999     \n",
       "4 1324355 2005-06-12 02        Buy       1.8069     \n",
       "5 1324355 2005-06-14 23        Sell      4.9999     \n",
       "6 1324355 2005-06-14 23        Sell      4.9999     "
      ]
     },
     "metadata": {},
     "output_type": "display_data"
    }
   ],
   "source": [
    "Poker_new$TransType <- \n",
    "  ifelse(Poker_new$TransType == 124, \"Sell\", \"Buy\")\n",
    "\n",
    "head (Poker_new)"
   ]
  },
  {
   "cell_type": "code",
   "execution_count": 36,
   "metadata": {
    "scrolled": true
   },
   "outputs": [
    {
     "data": {
      "text/html": [
       "<table>\n",
       "<thead><tr><th scope=col>UserID</th><th scope=col>Date</th><th scope=col>TransTime</th><th scope=col>TransType</th><th scope=col>TransAmount</th><th scope=col>Week_Day</th></tr></thead>\n",
       "<tbody>\n",
       "\t<tr><td>1324355   </td><td>2005-06-12</td><td>00        </td><td>Sell      </td><td>8.9999    </td><td>Sunday    </td></tr>\n",
       "\t<tr><td>1324355   </td><td>2005-06-12</td><td>00        </td><td>Sell      </td><td>1.9999    </td><td>Sunday    </td></tr>\n",
       "\t<tr><td>1324355   </td><td>2005-06-12</td><td>01        </td><td>Sell      </td><td>4.9999    </td><td>Sunday    </td></tr>\n",
       "\t<tr><td>1324355   </td><td>2005-06-12</td><td>02        </td><td>Buy       </td><td>1.8069    </td><td>Sunday    </td></tr>\n",
       "\t<tr><td>1324355   </td><td>2005-06-14</td><td>23        </td><td>Sell      </td><td>4.9999    </td><td>Tuesday   </td></tr>\n",
       "\t<tr><td>1324355   </td><td>2005-06-14</td><td>23        </td><td>Sell      </td><td>4.9999    </td><td>Tuesday   </td></tr>\n",
       "</tbody>\n",
       "</table>\n"
      ],
      "text/latex": [
       "\\begin{tabular}{r|llllll}\n",
       " UserID & Date & TransTime & TransType & TransAmount & Week\\_Day\\\\\n",
       "\\hline\n",
       "\t 1324355    & 2005-06-12 & 00         & Sell       & 8.9999     & Sunday    \\\\\n",
       "\t 1324355    & 2005-06-12 & 00         & Sell       & 1.9999     & Sunday    \\\\\n",
       "\t 1324355    & 2005-06-12 & 01         & Sell       & 4.9999     & Sunday    \\\\\n",
       "\t 1324355    & 2005-06-12 & 02         & Buy        & 1.8069     & Sunday    \\\\\n",
       "\t 1324355    & 2005-06-14 & 23         & Sell       & 4.9999     & Tuesday   \\\\\n",
       "\t 1324355    & 2005-06-14 & 23         & Sell       & 4.9999     & Tuesday   \\\\\n",
       "\\end{tabular}\n"
      ],
      "text/markdown": [
       "\n",
       "| UserID | Date | TransTime | TransType | TransAmount | Week_Day |\n",
       "|---|---|---|---|---|---|\n",
       "| 1324355    | 2005-06-12 | 00         | Sell       | 8.9999     | Sunday     |\n",
       "| 1324355    | 2005-06-12 | 00         | Sell       | 1.9999     | Sunday     |\n",
       "| 1324355    | 2005-06-12 | 01         | Sell       | 4.9999     | Sunday     |\n",
       "| 1324355    | 2005-06-12 | 02         | Buy        | 1.8069     | Sunday     |\n",
       "| 1324355    | 2005-06-14 | 23         | Sell       | 4.9999     | Tuesday    |\n",
       "| 1324355    | 2005-06-14 | 23         | Sell       | 4.9999     | Tuesday    |\n",
       "\n"
      ],
      "text/plain": [
       "  UserID  Date       TransTime TransType TransAmount Week_Day\n",
       "1 1324355 2005-06-12 00        Sell      8.9999      Sunday  \n",
       "2 1324355 2005-06-12 00        Sell      1.9999      Sunday  \n",
       "3 1324355 2005-06-12 01        Sell      4.9999      Sunday  \n",
       "4 1324355 2005-06-12 02        Buy       1.8069      Sunday  \n",
       "5 1324355 2005-06-14 23        Sell      4.9999      Tuesday \n",
       "6 1324355 2005-06-14 23        Sell      4.9999      Tuesday "
      ]
     },
     "metadata": {},
     "output_type": "display_data"
    }
   ],
   "source": [
    "# Finding which Day of the week \n",
    "Poker_new$Week_Day <- weekdays(as.Date(Poker_new$Date))\n",
    "head(Poker_new)"
   ]
  },
  {
   "cell_type": "markdown",
   "metadata": {},
   "source": [
    "As per the time of the day subsetting the dataset further as - `Morning`, `Afternoon`, `Evening` and `Midnight`"
   ]
  },
  {
   "cell_type": "code",
   "execution_count": 37,
   "metadata": {
    "scrolled": true
   },
   "outputs": [
    {
     "data": {
      "text/html": [
       "<table>\n",
       "<thead><tr><th scope=col>UserID</th><th scope=col>Date</th><th scope=col>TransTime</th><th scope=col>TransType</th><th scope=col>TransAmount</th><th scope=col>Week_Day</th><th scope=col>MorningTrans</th><th scope=col>AfternoonTrans</th><th scope=col>EveningTrans</th><th scope=col>MidNightTrans</th></tr></thead>\n",
       "<tbody>\n",
       "\t<tr><td>1324355   </td><td>2005-06-12</td><td>00        </td><td>Sell      </td><td>8.9999    </td><td>Sunday    </td><td>0         </td><td>0         </td><td>0         </td><td>1         </td></tr>\n",
       "\t<tr><td>1324355   </td><td>2005-06-12</td><td>00        </td><td>Sell      </td><td>1.9999    </td><td>Sunday    </td><td>0         </td><td>0         </td><td>0         </td><td>1         </td></tr>\n",
       "\t<tr><td>1324355   </td><td>2005-06-12</td><td>01        </td><td>Sell      </td><td>4.9999    </td><td>Sunday    </td><td>0         </td><td>0         </td><td>0         </td><td>1         </td></tr>\n",
       "\t<tr><td>1324355   </td><td>2005-06-12</td><td>02        </td><td>Buy       </td><td>1.8069    </td><td>Sunday    </td><td>0         </td><td>0         </td><td>0         </td><td>1         </td></tr>\n",
       "\t<tr><td>1324355   </td><td>2005-06-14</td><td>23        </td><td>Sell      </td><td>4.9999    </td><td>Tuesday   </td><td>0         </td><td>0         </td><td>0         </td><td>1         </td></tr>\n",
       "\t<tr><td>1324355   </td><td>2005-06-14</td><td>23        </td><td>Sell      </td><td>4.9999    </td><td>Tuesday   </td><td>0         </td><td>0         </td><td>0         </td><td>1         </td></tr>\n",
       "</tbody>\n",
       "</table>\n"
      ],
      "text/latex": [
       "\\begin{tabular}{r|llllllllll}\n",
       " UserID & Date & TransTime & TransType & TransAmount & Week\\_Day & MorningTrans & AfternoonTrans & EveningTrans & MidNightTrans\\\\\n",
       "\\hline\n",
       "\t 1324355    & 2005-06-12 & 00         & Sell       & 8.9999     & Sunday     & 0          & 0          & 0          & 1         \\\\\n",
       "\t 1324355    & 2005-06-12 & 00         & Sell       & 1.9999     & Sunday     & 0          & 0          & 0          & 1         \\\\\n",
       "\t 1324355    & 2005-06-12 & 01         & Sell       & 4.9999     & Sunday     & 0          & 0          & 0          & 1         \\\\\n",
       "\t 1324355    & 2005-06-12 & 02         & Buy        & 1.8069     & Sunday     & 0          & 0          & 0          & 1         \\\\\n",
       "\t 1324355    & 2005-06-14 & 23         & Sell       & 4.9999     & Tuesday    & 0          & 0          & 0          & 1         \\\\\n",
       "\t 1324355    & 2005-06-14 & 23         & Sell       & 4.9999     & Tuesday    & 0          & 0          & 0          & 1         \\\\\n",
       "\\end{tabular}\n"
      ],
      "text/markdown": [
       "\n",
       "| UserID | Date | TransTime | TransType | TransAmount | Week_Day | MorningTrans | AfternoonTrans | EveningTrans | MidNightTrans |\n",
       "|---|---|---|---|---|---|---|---|---|---|\n",
       "| 1324355    | 2005-06-12 | 00         | Sell       | 8.9999     | Sunday     | 0          | 0          | 0          | 1          |\n",
       "| 1324355    | 2005-06-12 | 00         | Sell       | 1.9999     | Sunday     | 0          | 0          | 0          | 1          |\n",
       "| 1324355    | 2005-06-12 | 01         | Sell       | 4.9999     | Sunday     | 0          | 0          | 0          | 1          |\n",
       "| 1324355    | 2005-06-12 | 02         | Buy        | 1.8069     | Sunday     | 0          | 0          | 0          | 1          |\n",
       "| 1324355    | 2005-06-14 | 23         | Sell       | 4.9999     | Tuesday    | 0          | 0          | 0          | 1          |\n",
       "| 1324355    | 2005-06-14 | 23         | Sell       | 4.9999     | Tuesday    | 0          | 0          | 0          | 1          |\n",
       "\n"
      ],
      "text/plain": [
       "  UserID  Date       TransTime TransType TransAmount Week_Day MorningTrans\n",
       "1 1324355 2005-06-12 00        Sell      8.9999      Sunday   0           \n",
       "2 1324355 2005-06-12 00        Sell      1.9999      Sunday   0           \n",
       "3 1324355 2005-06-12 01        Sell      4.9999      Sunday   0           \n",
       "4 1324355 2005-06-12 02        Buy       1.8069      Sunday   0           \n",
       "5 1324355 2005-06-14 23        Sell      4.9999      Tuesday  0           \n",
       "6 1324355 2005-06-14 23        Sell      4.9999      Tuesday  0           \n",
       "  AfternoonTrans EveningTrans MidNightTrans\n",
       "1 0              0            1            \n",
       "2 0              0            1            \n",
       "3 0              0            1            \n",
       "4 0              0            1            \n",
       "5 0              0            1            \n",
       "6 0              0            1            "
      ]
     },
     "metadata": {},
     "output_type": "display_data"
    }
   ],
   "source": [
    "# 06 am - 12 pm Morning \n",
    "# 12 pm - 18 pm Afternoon \n",
    "# 18 pm - 00 am Evening\n",
    "# 00 am - 06 am Midnight\n",
    "\n",
    "Poker_new$MorningTrans <- \n",
    "  ifelse(Poker_new$TransTime >= 6 & Poker_new$TransTime < 12, 1, 0)\n",
    "\n",
    "Poker_new$AfternoonTrans <- \n",
    "  ifelse(Poker_new$TransTime >= 12 & Poker_new$TransTime < 18, 1, 0)\n",
    "\n",
    "Poker_new$EveningTrans <- \n",
    "  ifelse(Poker_new$TransTime >= 18 & Poker_new$TransTime < 0, 1, 0)\n",
    "\n",
    "Poker_new$MidNightTrans <- \n",
    "  ifelse(Poker_new$MorningTrans == 0 & Poker_new$AfternoonTrans == 0 & Poker_new$EveningTrans == 0, 1, 0)\n",
    "\n",
    "head (Poker_new)"
   ]
  },
  {
   "cell_type": "markdown",
   "metadata": {},
   "source": [
    "Creating following Variables which will be later used for insights - <br/>\n",
    "1) Nbr_Days_Played = How many different days has he played   <br/>\n",
    "2) Most_Played_Month = Which month has the User played the most   <br/>\n",
    "3) Most_Played_Day = Which Day has User Played the most   <br/>\n",
    "4) Average and Max Amount Sold and Bought Per User   <br/>\n",
    "5) Morning_Trans = No of Transactions Done in the Morning   <br/>\n",
    "6) Afternoon_Trans = No of Transactions Done in the Morning   <br/>\n",
    "7) Evening_Trans = No of Transactions Done in the Evening    <br/>\n",
    "8) MidNight_Trans = No of Transactions Done in the Night   <br/>"
   ]
  },
  {
   "cell_type": "code",
   "execution_count": 38,
   "metadata": {},
   "outputs": [
    {
     "name": "stdout",
     "output_type": "stream",
     "text": [
      "tibble [277,907 x 10] (S3: tbl_df/tbl/data.frame)\n",
      " $ UserID        : num [1:277907] 1324355 1324355 1324355 1324355 1324355 ...\n",
      " $ Date          : Date[1:277907], format: \"2005-06-12\" \"2005-06-12\" ...\n",
      " $ TransTime     : chr [1:277907] \"00\" \"00\" \"01\" \"02\" ...\n",
      " $ TransType     : chr [1:277907] \"Sell\" \"Sell\" \"Sell\" \"Buy\" ...\n",
      " $ TransAmount   : num [1:277907] 9 2 5 1.81 5 ...\n",
      " $ Week_Day      : chr [1:277907] \"Sunday\" \"Sunday\" \"Sunday\" \"Sunday\" ...\n",
      " $ MorningTrans  : num [1:277907] 0 0 0 0 0 0 0 0 0 0 ...\n",
      " $ AfternoonTrans: num [1:277907] 0 0 0 0 0 0 0 0 1 0 ...\n",
      " $ EveningTrans  : num [1:277907] 0 0 0 0 0 0 0 0 0 0 ...\n",
      " $ MidNightTrans : num [1:277907] 1 1 1 1 1 1 1 1 0 1 ...\n"
     ]
    }
   ],
   "source": [
    "Poker_new <- as_tibble(Poker_new)\n",
    "\n",
    "str(Poker_new)\n",
    "Poker_new$UserID <- as.integer(Poker_new$UserID)\n",
    "\n",
    "Poker_new <-ddply(Poker_new,.(UserID),summarize,\n",
    "                                       Nbr_Days_Played = n_distinct(Date),\n",
    "                                       Most_Played_Month = names(which.max(table(month(Date)))),\n",
    "                                       Most_Played_Day = names(which.max(table(Week_Day))),\n",
    "                                       Avg_Sold = mean(TransAmount[TransType == \"Sell\"]),\n",
    "                                       Avg_Bought = mean(TransAmount[TransType == \"Buy\"]),\n",
    "                                       Max_Sold = max(TransAmount[TransType == \"Sell\"]),\n",
    "                                       Max_Bought = max(TransAmount[TransType == \"Buy\"]),\n",
    "                                       Morning_Plays = sum(MorningTrans),\n",
    "                                       Noon_Plays = sum(AfternoonTrans),\n",
    "                                       Evening_Plays = sum(EveningTrans),\n",
    "                                       Midnight_Plays = sum(MidNightTrans),.drop = FALSE)"
   ]
  },
  {
   "cell_type": "code",
   "execution_count": 39,
   "metadata": {
    "scrolled": false
   },
   "outputs": [
    {
     "data": {
      "text/html": [
       "<table>\n",
       "<thead><tr><th scope=col>UserID</th><th scope=col>Nbr_Days_Played</th><th scope=col>Most_Played_Month</th><th scope=col>Most_Played_Day</th><th scope=col>Avg_Sold</th><th scope=col>Avg_Bought</th><th scope=col>Max_Sold</th><th scope=col>Max_Bought</th><th scope=col>Morning_Plays</th><th scope=col>Noon_Plays</th><th scope=col>Evening_Plays</th><th scope=col>Midnight_Plays</th></tr></thead>\n",
       "<tbody>\n",
       "\t<tr><td>1324355  </td><td> 3       </td><td>6        </td><td>Sunday   </td><td>  5.13825</td><td>  4.12965</td><td>  8.9999 </td><td>  6.4524 </td><td>0        </td><td> 0       </td><td>0        </td><td> 8       </td></tr>\n",
       "\t<tr><td>1324368  </td><td>23       </td><td>4        </td><td>Sunday   </td><td>136.74117</td><td>300.65046</td><td>494.9999 </td><td>805.2394 </td><td>0        </td><td>20       </td><td>0        </td><td>79       </td></tr>\n",
       "</tbody>\n",
       "</table>\n"
      ],
      "text/latex": [
       "\\begin{tabular}{r|llllllllllll}\n",
       " UserID & Nbr\\_Days\\_Played & Most\\_Played\\_Month & Most\\_Played\\_Day & Avg\\_Sold & Avg\\_Bought & Max\\_Sold & Max\\_Bought & Morning\\_Plays & Noon\\_Plays & Evening\\_Plays & Midnight\\_Plays\\\\\n",
       "\\hline\n",
       "\t 1324355   &  3        & 6         & Sunday    &   5.13825 &   4.12965 &   8.9999  &   6.4524  & 0         &  0        & 0         &  8       \\\\\n",
       "\t 1324368   & 23        & 4         & Sunday    & 136.74117 & 300.65046 & 494.9999  & 805.2394  & 0         & 20        & 0         & 79       \\\\\n",
       "\\end{tabular}\n"
      ],
      "text/markdown": [
       "\n",
       "| UserID | Nbr_Days_Played | Most_Played_Month | Most_Played_Day | Avg_Sold | Avg_Bought | Max_Sold | Max_Bought | Morning_Plays | Noon_Plays | Evening_Plays | Midnight_Plays |\n",
       "|---|---|---|---|---|---|---|---|---|---|---|---|\n",
       "| 1324355   |  3        | 6         | Sunday    |   5.13825 |   4.12965 |   8.9999  |   6.4524  | 0         |  0        | 0         |  8        |\n",
       "| 1324368   | 23        | 4         | Sunday    | 136.74117 | 300.65046 | 494.9999  | 805.2394  | 0         | 20        | 0         | 79        |\n",
       "\n"
      ],
      "text/plain": [
       "  UserID  Nbr_Days_Played Most_Played_Month Most_Played_Day Avg_Sold \n",
       "1 1324355  3              6                 Sunday            5.13825\n",
       "2 1324368 23              4                 Sunday          136.74117\n",
       "  Avg_Bought Max_Sold Max_Bought Morning_Plays Noon_Plays Evening_Plays\n",
       "1   4.12965    8.9999   6.4524   0              0         0            \n",
       "2 300.65046  494.9999 805.2394   0             20         0            \n",
       "  Midnight_Plays\n",
       "1  8            \n",
       "2 79            "
      ]
     },
     "metadata": {},
     "output_type": "display_data"
    }
   ],
   "source": [
    "head(Poker_new, 2)"
   ]
  },
  {
   "cell_type": "markdown",
   "metadata": {},
   "source": [
    "Importing our external data to replace all encoded values in Most played Day column"
   ]
  },
  {
   "cell_type": "code",
   "execution_count": 40,
   "metadata": {},
   "outputs": [],
   "source": [
    "# Reading the \"Days\" excel file to get the names into the table\n",
    "\n",
    "days <- read_excel(\"days.xlsx\")\n",
    "\n",
    "Poker_new <- merge(x = Poker_new, y = days, by = \"Most_Played_Month\", all.x = TRUE)\n",
    "\n",
    "Poker_new$Most_Played_Month <- NULL"
   ]
  },
  {
   "cell_type": "code",
   "execution_count": 41,
   "metadata": {},
   "outputs": [],
   "source": [
    "# Renaming our above created Column as per our Format used for all variables\n",
    "Poker_new <- Poker_new %>%\n",
    "                dplyr::rename(Most_Played_Month = Most_PlayedMonth)"
   ]
  },
  {
   "cell_type": "code",
   "execution_count": 42,
   "metadata": {},
   "outputs": [
    {
     "data": {
      "text/html": [
       "<table>\n",
       "<thead><tr><th scope=col>UserID</th><th scope=col>Nbr_Days_Played</th><th scope=col>Most_Played_Day</th><th scope=col>Avg_Sold</th><th scope=col>Avg_Bought</th><th scope=col>Max_Sold</th><th scope=col>Max_Bought</th><th scope=col>Morning_Plays</th><th scope=col>Noon_Plays</th><th scope=col>Evening_Plays</th><th scope=col>Midnight_Plays</th><th scope=col>Most_Played_Month</th></tr></thead>\n",
       "<tbody>\n",
       "\t<tr><td>1365785 </td><td>1       </td><td>Sunday  </td><td>14.55495</td><td>14.11095</td><td>15      </td><td>14.112  </td><td>0       </td><td>3       </td><td>0       </td><td>1       </td><td>Oct     </td></tr>\n",
       "\t<tr><td>1333298 </td><td>2       </td><td>Saturday</td><td> 8.00000</td><td> 8.00000</td><td> 8      </td><td> 8.000  </td><td>0       </td><td>0       </td><td>0       </td><td>2       </td><td>Oct     </td></tr>\n",
       "</tbody>\n",
       "</table>\n"
      ],
      "text/latex": [
       "\\begin{tabular}{r|llllllllllll}\n",
       " UserID & Nbr\\_Days\\_Played & Most\\_Played\\_Day & Avg\\_Sold & Avg\\_Bought & Max\\_Sold & Max\\_Bought & Morning\\_Plays & Noon\\_Plays & Evening\\_Plays & Midnight\\_Plays & Most\\_Played\\_Month\\\\\n",
       "\\hline\n",
       "\t 1365785  & 1        & Sunday   & 14.55495 & 14.11095 & 15       & 14.112   & 0        & 3        & 0        & 1        & Oct     \\\\\n",
       "\t 1333298  & 2        & Saturday &  8.00000 &  8.00000 &  8       &  8.000   & 0        & 0        & 0        & 2        & Oct     \\\\\n",
       "\\end{tabular}\n"
      ],
      "text/markdown": [
       "\n",
       "| UserID | Nbr_Days_Played | Most_Played_Day | Avg_Sold | Avg_Bought | Max_Sold | Max_Bought | Morning_Plays | Noon_Plays | Evening_Plays | Midnight_Plays | Most_Played_Month |\n",
       "|---|---|---|---|---|---|---|---|---|---|---|---|\n",
       "| 1365785  | 1        | Sunday   | 14.55495 | 14.11095 | 15       | 14.112   | 0        | 3        | 0        | 1        | Oct      |\n",
       "| 1333298  | 2        | Saturday |  8.00000 |  8.00000 |  8       |  8.000   | 0        | 0        | 0        | 2        | Oct      |\n",
       "\n"
      ],
      "text/plain": [
       "  UserID  Nbr_Days_Played Most_Played_Day Avg_Sold Avg_Bought Max_Sold\n",
       "1 1365785 1               Sunday          14.55495 14.11095   15      \n",
       "2 1333298 2               Saturday         8.00000  8.00000    8      \n",
       "  Max_Bought Morning_Plays Noon_Plays Evening_Plays Midnight_Plays\n",
       "1 14.112     0             3          0             1             \n",
       "2  8.000     0             0          0             2             \n",
       "  Most_Played_Month\n",
       "1 Oct              \n",
       "2 Oct              "
      ]
     },
     "metadata": {},
     "output_type": "display_data"
    }
   ],
   "source": [
    "head(Poker_new, 2)"
   ]
  },
  {
   "cell_type": "markdown",
   "metadata": {},
   "source": [
    "### Analytic_Internal_Gabling "
   ]
  },
  {
   "cell_type": "code",
   "execution_count": 43,
   "metadata": {
    "scrolled": true
   },
   "outputs": [
    {
     "data": {
      "text/html": [
       "<table>\n",
       "<thead><tr><th scope=col>USERID</th><th scope=col>COUNTRY</th><th scope=col>LANGUAGE</th><th scope=col>RegistrationDate</th><th scope=col>AGE</th><th scope=col>GENDER</th><th scope=col>FOTotalStakes</th><th scope=col>FOTotalWinnings</th><th scope=col>FOTotalBets</th><th scope=col>FOFirstActiveDate</th><th scope=col>FOLastActiveDate</th><th scope=col>FOTotalDaysActive</th><th scope=col>LATotalStakes</th><th scope=col>LATotalWinnings</th><th scope=col>LATotalBets</th><th scope=col>LAFirstActiveDate</th><th scope=col>LALastActiveDate</th><th scope=col>LATotalDaysActive</th><th scope=col>FirstSportsActiveDate</th></tr></thead>\n",
       "<tbody>\n",
       "\t<tr><td>1324354 </td><td>276     </td><td>2       </td><td>16468   </td><td>42      </td><td>1       </td><td>10137.33</td><td>10224.12</td><td>236     </td><td>16491   </td><td>16709   </td><td>97      </td><td>1839.28 </td><td>1512.49 </td><td>43      </td><td>16560   </td><td>16705   </td><td>18      </td><td>16491   </td></tr>\n",
       "\t<tr><td>1324355 </td><td>300     </td><td>8       </td><td>16468   </td><td>22      </td><td>1       </td><td>  400.86</td><td>  453.30</td><td>231     </td><td>16468   </td><td>16708   </td><td>72      </td><td>  24.70 </td><td>  11.20 </td><td>21      </td><td>16468   </td><td>16474   </td><td> 7      </td><td>16468   </td></tr>\n",
       "</tbody>\n",
       "</table>\n"
      ],
      "text/latex": [
       "\\begin{tabular}{r|lllllllllllllllllll}\n",
       " USERID & COUNTRY & LANGUAGE & RegistrationDate & AGE & GENDER & FOTotalStakes & FOTotalWinnings & FOTotalBets & FOFirstActiveDate & FOLastActiveDate & FOTotalDaysActive & LATotalStakes & LATotalWinnings & LATotalBets & LAFirstActiveDate & LALastActiveDate & LATotalDaysActive & FirstSportsActiveDate\\\\\n",
       "\\hline\n",
       "\t 1324354  & 276      & 2        & 16468    & 42       & 1        & 10137.33 & 10224.12 & 236      & 16491    & 16709    & 97       & 1839.28  & 1512.49  & 43       & 16560    & 16705    & 18       & 16491   \\\\\n",
       "\t 1324355  & 300      & 8        & 16468    & 22       & 1        &   400.86 &   453.30 & 231      & 16468    & 16708    & 72       &   24.70  &   11.20  & 21       & 16468    & 16474    &  7       & 16468   \\\\\n",
       "\\end{tabular}\n"
      ],
      "text/markdown": [
       "\n",
       "| USERID | COUNTRY | LANGUAGE | RegistrationDate | AGE | GENDER | FOTotalStakes | FOTotalWinnings | FOTotalBets | FOFirstActiveDate | FOLastActiveDate | FOTotalDaysActive | LATotalStakes | LATotalWinnings | LATotalBets | LAFirstActiveDate | LALastActiveDate | LATotalDaysActive | FirstSportsActiveDate |\n",
       "|---|---|---|---|---|---|---|---|---|---|---|---|---|---|---|---|---|---|---|\n",
       "| 1324354  | 276      | 2        | 16468    | 42       | 1        | 10137.33 | 10224.12 | 236      | 16491    | 16709    | 97       | 1839.28  | 1512.49  | 43       | 16560    | 16705    | 18       | 16491    |\n",
       "| 1324355  | 300      | 8        | 16468    | 22       | 1        |   400.86 |   453.30 | 231      | 16468    | 16708    | 72       |   24.70  |   11.20  | 21       | 16468    | 16474    |  7       | 16468    |\n",
       "\n"
      ],
      "text/plain": [
       "  USERID  COUNTRY LANGUAGE RegistrationDate AGE GENDER FOTotalStakes\n",
       "1 1324354 276     2        16468            42  1      10137.33     \n",
       "2 1324355 300     8        16468            22  1        400.86     \n",
       "  FOTotalWinnings FOTotalBets FOFirstActiveDate FOLastActiveDate\n",
       "1 10224.12        236         16491             16709           \n",
       "2   453.30        231         16468             16708           \n",
       "  FOTotalDaysActive LATotalStakes LATotalWinnings LATotalBets LAFirstActiveDate\n",
       "1 97                1839.28       1512.49         43          16560            \n",
       "2 72                  24.70         11.20         21          16468            \n",
       "  LALastActiveDate LATotalDaysActive FirstSportsActiveDate\n",
       "1 16705            18                16491                \n",
       "2 16474             7                16468                "
      ]
     },
     "metadata": {},
     "output_type": "display_data"
    }
   ],
   "source": [
    "head(Analytic_Internal_Gabling, 2)"
   ]
  },
  {
   "cell_type": "code",
   "execution_count": 44,
   "metadata": {},
   "outputs": [],
   "source": [
    "#Format date is sasformat from 1/1/1960\n",
    "Analytic_Internal_Gabling$RegistrationDate<-as.Date(Analytic_Internal_Gabling$RegistrationDate, '1960-01-01')\n",
    "Analytic_Internal_Gabling$FOFirstActiveDate<-as.Date(Analytic_Internal_Gabling$FOFirstActiveDate, '1960-01-01')\n",
    "Analytic_Internal_Gabling$FOLastActiveDate<-as.Date(Analytic_Internal_Gabling$FOLastActiveDate, '1960-01-01')\n",
    "Analytic_Internal_Gabling$LAFirstActiveDate<-as.Date(Analytic_Internal_Gabling$LAFirstActiveDate, '1960-01-01')\n",
    "Analytic_Internal_Gabling$LALastActiveDate<-as.Date(Analytic_Internal_Gabling$LALastActiveDate, '1960-01-01')\n",
    "Analytic_Internal_Gabling$FirstSportsActiveDate<-as.Date(Analytic_Internal_Gabling$FirstSportsActiveDate, '1960-01-01')"
   ]
  },
  {
   "cell_type": "code",
   "execution_count": 45,
   "metadata": {
    "scrolled": false
   },
   "outputs": [
    {
     "data": {
      "text/html": [
       "<table>\n",
       "<thead><tr><th scope=col>USERID</th><th scope=col>COUNTRY</th><th scope=col>LANGUAGE</th><th scope=col>RegistrationDate</th><th scope=col>AGE</th><th scope=col>GENDER</th><th scope=col>FOTotalStakes</th><th scope=col>FOTotalWinnings</th><th scope=col>FOTotalBets</th><th scope=col>FOFirstActiveDate</th><th scope=col>FOLastActiveDate</th><th scope=col>FOTotalDaysActive</th><th scope=col>LATotalStakes</th><th scope=col>LATotalWinnings</th><th scope=col>LATotalBets</th><th scope=col>LAFirstActiveDate</th><th scope=col>LALastActiveDate</th><th scope=col>LATotalDaysActive</th><th scope=col>FirstSportsActiveDate</th></tr></thead>\n",
       "<tbody>\n",
       "\t<tr><td>1324354   </td><td>276       </td><td>2         </td><td>2005-02-01</td><td>42        </td><td>1         </td><td>10137.33  </td><td>10224.12  </td><td>236       </td><td>2005-02-24</td><td>2005-09-30</td><td>97        </td><td>1839.28   </td><td>1512.49   </td><td>43        </td><td>2005-05-04</td><td>2005-09-26</td><td>18        </td><td>2005-02-24</td></tr>\n",
       "\t<tr><td>1324355   </td><td>300       </td><td>8         </td><td>2005-02-01</td><td>22        </td><td>1         </td><td>  400.86  </td><td>  453.30  </td><td>231       </td><td>2005-02-01</td><td>2005-09-29</td><td>72        </td><td>  24.70   </td><td>  11.20   </td><td>21        </td><td>2005-02-01</td><td>2005-02-07</td><td> 7        </td><td>2005-02-01</td></tr>\n",
       "</tbody>\n",
       "</table>\n"
      ],
      "text/latex": [
       "\\begin{tabular}{r|lllllllllllllllllll}\n",
       " USERID & COUNTRY & LANGUAGE & RegistrationDate & AGE & GENDER & FOTotalStakes & FOTotalWinnings & FOTotalBets & FOFirstActiveDate & FOLastActiveDate & FOTotalDaysActive & LATotalStakes & LATotalWinnings & LATotalBets & LAFirstActiveDate & LALastActiveDate & LATotalDaysActive & FirstSportsActiveDate\\\\\n",
       "\\hline\n",
       "\t 1324354    & 276        & 2          & 2005-02-01 & 42         & 1          & 10137.33   & 10224.12   & 236        & 2005-02-24 & 2005-09-30 & 97         & 1839.28    & 1512.49    & 43         & 2005-05-04 & 2005-09-26 & 18         & 2005-02-24\\\\\n",
       "\t 1324355    & 300        & 8          & 2005-02-01 & 22         & 1          &   400.86   &   453.30   & 231        & 2005-02-01 & 2005-09-29 & 72         &   24.70    &   11.20    & 21         & 2005-02-01 & 2005-02-07 &  7         & 2005-02-01\\\\\n",
       "\\end{tabular}\n"
      ],
      "text/markdown": [
       "\n",
       "| USERID | COUNTRY | LANGUAGE | RegistrationDate | AGE | GENDER | FOTotalStakes | FOTotalWinnings | FOTotalBets | FOFirstActiveDate | FOLastActiveDate | FOTotalDaysActive | LATotalStakes | LATotalWinnings | LATotalBets | LAFirstActiveDate | LALastActiveDate | LATotalDaysActive | FirstSportsActiveDate |\n",
       "|---|---|---|---|---|---|---|---|---|---|---|---|---|---|---|---|---|---|---|\n",
       "| 1324354    | 276        | 2          | 2005-02-01 | 42         | 1          | 10137.33   | 10224.12   | 236        | 2005-02-24 | 2005-09-30 | 97         | 1839.28    | 1512.49    | 43         | 2005-05-04 | 2005-09-26 | 18         | 2005-02-24 |\n",
       "| 1324355    | 300        | 8          | 2005-02-01 | 22         | 1          |   400.86   |   453.30   | 231        | 2005-02-01 | 2005-09-29 | 72         |   24.70    |   11.20    | 21         | 2005-02-01 | 2005-02-07 |  7         | 2005-02-01 |\n",
       "\n"
      ],
      "text/plain": [
       "  USERID  COUNTRY LANGUAGE RegistrationDate AGE GENDER FOTotalStakes\n",
       "1 1324354 276     2        2005-02-01       42  1      10137.33     \n",
       "2 1324355 300     8        2005-02-01       22  1        400.86     \n",
       "  FOTotalWinnings FOTotalBets FOFirstActiveDate FOLastActiveDate\n",
       "1 10224.12        236         2005-02-24        2005-09-30      \n",
       "2   453.30        231         2005-02-01        2005-09-29      \n",
       "  FOTotalDaysActive LATotalStakes LATotalWinnings LATotalBets LAFirstActiveDate\n",
       "1 97                1839.28       1512.49         43          2005-05-04       \n",
       "2 72                  24.70         11.20         21          2005-02-01       \n",
       "  LALastActiveDate LATotalDaysActive FirstSportsActiveDate\n",
       "1 2005-09-26       18                2005-02-24           \n",
       "2 2005-02-07        7                2005-02-01           "
      ]
     },
     "metadata": {},
     "output_type": "display_data"
    }
   ],
   "source": [
    "head(Analytic_Internal_Gabling,2)"
   ]
  },
  {
   "cell_type": "markdown",
   "metadata": {},
   "source": [
    "Renaming all the Column Names to make them more Readable!"
   ]
  },
  {
   "cell_type": "code",
   "execution_count": 46,
   "metadata": {},
   "outputs": [],
   "source": [
    " Analytics_Table <- Analytic_Internal_Gabling %>%\n",
    "                        dplyr::rename(UserID = USERID, Country = COUNTRY, Language = LANGUAGE, Age = AGE, Gender = GENDER)"
   ]
  },
  {
   "cell_type": "code",
   "execution_count": 47,
   "metadata": {},
   "outputs": [
    {
     "data": {
      "text/html": [
       "<table>\n",
       "<thead><tr><th scope=col>UserID</th><th scope=col>Country</th><th scope=col>Language</th><th scope=col>RegistrationDate</th><th scope=col>Age</th><th scope=col>Gender</th><th scope=col>FOTotalStakes</th><th scope=col>FOTotalWinnings</th><th scope=col>FOTotalBets</th><th scope=col>FOFirstActiveDate</th><th scope=col>FOLastActiveDate</th><th scope=col>FOTotalDaysActive</th><th scope=col>LATotalStakes</th><th scope=col>LATotalWinnings</th><th scope=col>LATotalBets</th><th scope=col>LAFirstActiveDate</th><th scope=col>LALastActiveDate</th><th scope=col>LATotalDaysActive</th><th scope=col>FirstSportsActiveDate</th></tr></thead>\n",
       "<tbody>\n",
       "\t<tr><td>1324354   </td><td>276       </td><td>2         </td><td>2005-02-01</td><td>42        </td><td>1         </td><td>10137.33  </td><td>10224.12  </td><td>236       </td><td>2005-02-24</td><td>2005-09-30</td><td>97        </td><td>1839.28   </td><td>1512.49   </td><td>43        </td><td>2005-05-04</td><td>2005-09-26</td><td>18        </td><td>2005-02-24</td></tr>\n",
       "\t<tr><td>1324355   </td><td>300       </td><td>8         </td><td>2005-02-01</td><td>22        </td><td>1         </td><td>  400.86  </td><td>  453.30  </td><td>231       </td><td>2005-02-01</td><td>2005-09-29</td><td>72        </td><td>  24.70   </td><td>  11.20   </td><td>21        </td><td>2005-02-01</td><td>2005-02-07</td><td> 7        </td><td>2005-02-01</td></tr>\n",
       "</tbody>\n",
       "</table>\n"
      ],
      "text/latex": [
       "\\begin{tabular}{r|lllllllllllllllllll}\n",
       " UserID & Country & Language & RegistrationDate & Age & Gender & FOTotalStakes & FOTotalWinnings & FOTotalBets & FOFirstActiveDate & FOLastActiveDate & FOTotalDaysActive & LATotalStakes & LATotalWinnings & LATotalBets & LAFirstActiveDate & LALastActiveDate & LATotalDaysActive & FirstSportsActiveDate\\\\\n",
       "\\hline\n",
       "\t 1324354    & 276        & 2          & 2005-02-01 & 42         & 1          & 10137.33   & 10224.12   & 236        & 2005-02-24 & 2005-09-30 & 97         & 1839.28    & 1512.49    & 43         & 2005-05-04 & 2005-09-26 & 18         & 2005-02-24\\\\\n",
       "\t 1324355    & 300        & 8          & 2005-02-01 & 22         & 1          &   400.86   &   453.30   & 231        & 2005-02-01 & 2005-09-29 & 72         &   24.70    &   11.20    & 21         & 2005-02-01 & 2005-02-07 &  7         & 2005-02-01\\\\\n",
       "\\end{tabular}\n"
      ],
      "text/markdown": [
       "\n",
       "| UserID | Country | Language | RegistrationDate | Age | Gender | FOTotalStakes | FOTotalWinnings | FOTotalBets | FOFirstActiveDate | FOLastActiveDate | FOTotalDaysActive | LATotalStakes | LATotalWinnings | LATotalBets | LAFirstActiveDate | LALastActiveDate | LATotalDaysActive | FirstSportsActiveDate |\n",
       "|---|---|---|---|---|---|---|---|---|---|---|---|---|---|---|---|---|---|---|\n",
       "| 1324354    | 276        | 2          | 2005-02-01 | 42         | 1          | 10137.33   | 10224.12   | 236        | 2005-02-24 | 2005-09-30 | 97         | 1839.28    | 1512.49    | 43         | 2005-05-04 | 2005-09-26 | 18         | 2005-02-24 |\n",
       "| 1324355    | 300        | 8          | 2005-02-01 | 22         | 1          |   400.86   |   453.30   | 231        | 2005-02-01 | 2005-09-29 | 72         |   24.70    |   11.20    | 21         | 2005-02-01 | 2005-02-07 |  7         | 2005-02-01 |\n",
       "\n"
      ],
      "text/plain": [
       "  UserID  Country Language RegistrationDate Age Gender FOTotalStakes\n",
       "1 1324354 276     2        2005-02-01       42  1      10137.33     \n",
       "2 1324355 300     8        2005-02-01       22  1        400.86     \n",
       "  FOTotalWinnings FOTotalBets FOFirstActiveDate FOLastActiveDate\n",
       "1 10224.12        236         2005-02-24        2005-09-30      \n",
       "2   453.30        231         2005-02-01        2005-09-29      \n",
       "  FOTotalDaysActive LATotalStakes LATotalWinnings LATotalBets LAFirstActiveDate\n",
       "1 97                1839.28       1512.49         43          2005-05-04       \n",
       "2 72                  24.70         11.20         21          2005-02-01       \n",
       "  LALastActiveDate LATotalDaysActive FirstSportsActiveDate\n",
       "1 2005-09-26       18                2005-02-24           \n",
       "2 2005-02-07        7                2005-02-01           "
      ]
     },
     "metadata": {},
     "output_type": "display_data"
    }
   ],
   "source": [
    "head(Analytics_Table,2)"
   ]
  },
  {
   "cell_type": "code",
   "execution_count": 48,
   "metadata": {},
   "outputs": [],
   "source": [
    "# Improving the number encodings in the Columns of Analytics Table by replacing them with more interpretable names\n",
    "\n",
    "Analytics_Table <- merge(x = Analytics_Table, y = language, by = \"Language\", all.x = TRUE)\n",
    "\n",
    "Analytics_Table <- merge(x = Analytics_Table, y = country, by = \"Country\", all.x = TRUE)\n",
    "\n",
    "Analytics_Table$Gender <- ifelse(Analytics_Table$Gender == 0,\"Female\",\"Male\" )"
   ]
  },
  {
   "cell_type": "code",
   "execution_count": 49,
   "metadata": {},
   "outputs": [],
   "source": [
    "Analytics_Table$Country <- Analytics_Table$Language <- NULL "
   ]
  },
  {
   "cell_type": "code",
   "execution_count": 50,
   "metadata": {
    "scrolled": true
   },
   "outputs": [
    {
     "data": {
      "text/html": [
       "<table>\n",
       "<thead><tr><th scope=col>UserID</th><th scope=col>RegistrationDate</th><th scope=col>Age</th><th scope=col>Gender</th><th scope=col>FOTotalStakes</th><th scope=col>FOTotalWinnings</th><th scope=col>FOTotalBets</th><th scope=col>FOFirstActiveDate</th><th scope=col>FOLastActiveDate</th><th scope=col>FOTotalDaysActive</th><th scope=col>LATotalStakes</th><th scope=col>LATotalWinnings</th><th scope=col>LATotalBets</th><th scope=col>LAFirstActiveDate</th><th scope=col>LALastActiveDate</th><th scope=col>LATotalDaysActive</th><th scope=col>FirstSportsActiveDate</th><th scope=col>LanguageName</th><th scope=col>CountryName</th></tr></thead>\n",
       "<tbody>\n",
       "\t<tr><td>1329937   </td><td>2005-02-03</td><td>33        </td><td>Male      </td><td>4818.01   </td><td>3302.36   </td><td>451       </td><td>2005-02-08</td><td>2005-07-28</td><td>13        </td><td>11456.63  </td><td>11311.84  </td><td>162       </td><td>2005-02-09</td><td>2005-07-27</td><td>13        </td><td>2005-02-08</td><td>Italian   </td><td>Albania   </td></tr>\n",
       "\t<tr><td>1399049   </td><td>2005-02-27</td><td>35        </td><td>Male      </td><td>1059.27   </td><td>1121.68   </td><td>181       </td><td>2005-03-21</td><td>2005-06-05</td><td>23        </td><td>  890.76  </td><td>  758.35  </td><td>111       </td><td>2005-04-24</td><td>2005-05-07</td><td>12        </td><td>2005-03-21</td><td>German    </td><td>Albania   </td></tr>\n",
       "</tbody>\n",
       "</table>\n"
      ],
      "text/latex": [
       "\\begin{tabular}{r|lllllllllllllllllll}\n",
       " UserID & RegistrationDate & Age & Gender & FOTotalStakes & FOTotalWinnings & FOTotalBets & FOFirstActiveDate & FOLastActiveDate & FOTotalDaysActive & LATotalStakes & LATotalWinnings & LATotalBets & LAFirstActiveDate & LALastActiveDate & LATotalDaysActive & FirstSportsActiveDate & LanguageName & CountryName\\\\\n",
       "\\hline\n",
       "\t 1329937    & 2005-02-03 & 33         & Male       & 4818.01    & 3302.36    & 451        & 2005-02-08 & 2005-07-28 & 13         & 11456.63   & 11311.84   & 162        & 2005-02-09 & 2005-07-27 & 13         & 2005-02-08 & Italian    & Albania   \\\\\n",
       "\t 1399049    & 2005-02-27 & 35         & Male       & 1059.27    & 1121.68    & 181        & 2005-03-21 & 2005-06-05 & 23         &   890.76   &   758.35   & 111        & 2005-04-24 & 2005-05-07 & 12         & 2005-03-21 & German     & Albania   \\\\\n",
       "\\end{tabular}\n"
      ],
      "text/markdown": [
       "\n",
       "| UserID | RegistrationDate | Age | Gender | FOTotalStakes | FOTotalWinnings | FOTotalBets | FOFirstActiveDate | FOLastActiveDate | FOTotalDaysActive | LATotalStakes | LATotalWinnings | LATotalBets | LAFirstActiveDate | LALastActiveDate | LATotalDaysActive | FirstSportsActiveDate | LanguageName | CountryName |\n",
       "|---|---|---|---|---|---|---|---|---|---|---|---|---|---|---|---|---|---|---|\n",
       "| 1329937    | 2005-02-03 | 33         | Male       | 4818.01    | 3302.36    | 451        | 2005-02-08 | 2005-07-28 | 13         | 11456.63   | 11311.84   | 162        | 2005-02-09 | 2005-07-27 | 13         | 2005-02-08 | Italian    | Albania    |\n",
       "| 1399049    | 2005-02-27 | 35         | Male       | 1059.27    | 1121.68    | 181        | 2005-03-21 | 2005-06-05 | 23         |   890.76   |   758.35   | 111        | 2005-04-24 | 2005-05-07 | 12         | 2005-03-21 | German     | Albania    |\n",
       "\n"
      ],
      "text/plain": [
       "  UserID  RegistrationDate Age Gender FOTotalStakes FOTotalWinnings FOTotalBets\n",
       "1 1329937 2005-02-03       33  Male   4818.01       3302.36         451        \n",
       "2 1399049 2005-02-27       35  Male   1059.27       1121.68         181        \n",
       "  FOFirstActiveDate FOLastActiveDate FOTotalDaysActive LATotalStakes\n",
       "1 2005-02-08        2005-07-28       13                11456.63     \n",
       "2 2005-03-21        2005-06-05       23                  890.76     \n",
       "  LATotalWinnings LATotalBets LAFirstActiveDate LALastActiveDate\n",
       "1 11311.84        162         2005-02-09        2005-07-27      \n",
       "2   758.35        111         2005-04-24        2005-05-07      \n",
       "  LATotalDaysActive FirstSportsActiveDate LanguageName CountryName\n",
       "1 13                2005-02-08            Italian      Albania    \n",
       "2 12                2005-03-21            German       Albania    "
      ]
     },
     "metadata": {},
     "output_type": "display_data"
    }
   ],
   "source": [
    "head(Analytics_Table, 2)"
   ]
  },
  {
   "cell_type": "markdown",
   "metadata": {},
   "source": [
    "# EXPLORING THE PRODUCTS"
   ]
  },
  {
   "cell_type": "markdown",
   "metadata": {},
   "source": [
    "SPORTS"
   ]
  },
  {
   "cell_type": "markdown",
   "metadata": {},
   "source": [
    "Creating following Variables which will be later used for insights - <br/>\n",
    "1) Sum_Stakes_Sp = Total numbers of Stakes for Sports   <br/>\n",
    "2) Avg_Stakes_Sp = Average number of Stakes for Sports    <br/>\n",
    "3) Sum_Winnings_Sp = Total number of Winnings for Sports    <br/>\n",
    "4) Avg_Winnings_Sp = Average number of Winnings for Sports    <br/>\n",
    "5) Total_Bets_Sp = Total number of Bets for Sports    <br/>\n",
    "6) Nbr_Days_Played_Sp = Total number of Days Sports has been played    <br/>\n",
    "7) Most_Played_Month_Sp = The month for which maximum plays happened    <br/>\n",
    "8) Most_Played_Day_Sp = The weekday for which maximum plays happened    <br/>"
   ]
  },
  {
   "cell_type": "code",
   "execution_count": 51,
   "metadata": {},
   "outputs": [],
   "source": [
    "# summary stats for Sports products (fixed odds, and live action)\n",
    "\n",
    "DailyAggr_Sports <- temp %>% \n",
    "                        filter(ProductID == 1 | ProductID == 2)\n",
    "\n",
    "DailyAggregation_Sp<-ddply(DailyAggr_Sports,.(UserID),summarize,\n",
    "                                 Sum_Stakes_Sp = round(sum(Stakes),1),  \n",
    "                                 Avg_Stakes_Sp = round(mean(Stakes),1),\n",
    "                                 Sum_Winnings_Sp = round(sum(Winnings),1),\n",
    "                                 Avg_Winnings_Sp = round(mean(Winnings),1),\n",
    "                                 Total_Bets_Sp = round(sum(Bets),1), \n",
    "                                 Nbr_Days_Played_Sp = n_distinct(Date),\n",
    "                                 Most_Played_Month_Sp = names(which.max(table(month(as.Date(Date,format=\"%Y%m%d\"))))),\n",
    "                                 Most_Played_Day_Sp = names(which.max(table(weekdays(as.Date(Date))))), \n",
    "                                 .drop = FALSE)"
   ]
  },
  {
   "cell_type": "code",
   "execution_count": 52,
   "metadata": {
    "scrolled": true
   },
   "outputs": [
    {
     "data": {
      "text/html": [
       "<table>\n",
       "<thead><tr><th scope=col>UserID</th><th scope=col>Sum_Stakes_Sp</th><th scope=col>Avg_Stakes_Sp</th><th scope=col>Sum_Winnings_Sp</th><th scope=col>Avg_Winnings_Sp</th><th scope=col>Total_Bets_Sp</th><th scope=col>Nbr_Days_Played_Sp</th><th scope=col>Most_Played_Month_Sp</th><th scope=col>Most_Played_Day_Sp</th></tr></thead>\n",
       "<tbody>\n",
       "\t<tr><td>1324354  </td><td>11976.6  </td><td>88.1     </td><td>11736.6  </td><td>86.3     </td><td>279      </td><td>118      </td><td>4        </td><td>Saturday </td></tr>\n",
       "\t<tr><td>1324355  </td><td>  425.6  </td><td> 4.0     </td><td>  464.5  </td><td> 4.4     </td><td>252      </td><td>101      </td><td>2        </td><td>Wednesday</td></tr>\n",
       "</tbody>\n",
       "</table>\n"
      ],
      "text/latex": [
       "\\begin{tabular}{r|lllllllll}\n",
       " UserID & Sum\\_Stakes\\_Sp & Avg\\_Stakes\\_Sp & Sum\\_Winnings\\_Sp & Avg\\_Winnings\\_Sp & Total\\_Bets\\_Sp & Nbr\\_Days\\_Played\\_Sp & Most\\_Played\\_Month\\_Sp & Most\\_Played\\_Day\\_Sp\\\\\n",
       "\\hline\n",
       "\t 1324354   & 11976.6   & 88.1      & 11736.6   & 86.3      & 279       & 118       & 4         & Saturday \\\\\n",
       "\t 1324355   &   425.6   &  4.0      &   464.5   &  4.4      & 252       & 101       & 2         & Wednesday\\\\\n",
       "\\end{tabular}\n"
      ],
      "text/markdown": [
       "\n",
       "| UserID | Sum_Stakes_Sp | Avg_Stakes_Sp | Sum_Winnings_Sp | Avg_Winnings_Sp | Total_Bets_Sp | Nbr_Days_Played_Sp | Most_Played_Month_Sp | Most_Played_Day_Sp |\n",
       "|---|---|---|---|---|---|---|---|---|\n",
       "| 1324354   | 11976.6   | 88.1      | 11736.6   | 86.3      | 279       | 118       | 4         | Saturday  |\n",
       "| 1324355   |   425.6   |  4.0      |   464.5   |  4.4      | 252       | 101       | 2         | Wednesday |\n",
       "\n"
      ],
      "text/plain": [
       "  UserID  Sum_Stakes_Sp Avg_Stakes_Sp Sum_Winnings_Sp Avg_Winnings_Sp\n",
       "1 1324354 11976.6       88.1          11736.6         86.3           \n",
       "2 1324355   425.6        4.0            464.5          4.4           \n",
       "  Total_Bets_Sp Nbr_Days_Played_Sp Most_Played_Month_Sp Most_Played_Day_Sp\n",
       "1 279           118                4                    Saturday          \n",
       "2 252           101                2                    Wednesday         "
      ]
     },
     "metadata": {},
     "output_type": "display_data"
    }
   ],
   "source": [
    "head(DailyAggregation_Sp, 2)"
   ]
  },
  {
   "cell_type": "markdown",
   "metadata": {},
   "source": [
    "CASINO"
   ]
  },
  {
   "cell_type": "markdown",
   "metadata": {},
   "source": [
    "Creating following Variables which will be later used for insights - <br/>\n",
    "1) Sum_Stakes_Ca = Total numbers of Stakes for Casino   <br/>\n",
    "2) Avg_Stakes_Ca = Average number of Stakes for Casino     <br/>\n",
    "3) Sum_Winnings_Ca = Total number of Winnings for Casino     <br/>\n",
    "4) Avg_Winnings_Ca = Average number of Winnings for Casino     <br/>\n",
    "5) Total_Bets_Ca = Total number of Bets for Casino     <br/>\n",
    "6) Nbr_Days_Played_Ca = Total number of Days Casino  has been played    <br/>\n",
    "7) Most_Played_Month_Ca = The month for which maximum plays happened    <br/>\n",
    "8) Most_Played_Day_Ca = The weekday for which maximum plays happened    <br/>"
   ]
  },
  {
   "cell_type": "code",
   "execution_count": 53,
   "metadata": {},
   "outputs": [],
   "source": [
    "DailyAggr_Casino <- temp %>% \n",
    "                        filter(ProductID == 4 | ProductID == 8)\n",
    "\n",
    "DailyAggregation_Ca<-ddply(DailyAggr_Casino,.(UserID),summarize,\n",
    "                                 Sum_Stakes_Ca = round(sum(Stakes),1),  \n",
    "                                 Avg_Stakes_Ca = round(mean(Stakes),1),\n",
    "                                 Sum_Winnings_Ca = round(sum(Winnings),1),\n",
    "                                 Avg_Winnings_Ca = round(mean(Winnings),1),\n",
    "                                 Total_Bets_Ca = round(sum(Bets),1), \n",
    "                                 Nbr_Days_Played_Ca = n_distinct(Date),\n",
    "                                 Most_Played_Month_Ca = names(which.max(table(month(as.Date(Date,format=\"%Y%m%d\"))))),\n",
    "                                 Most_Played_Day_Ca = names(which.max(table(weekdays(as.Date(Date))))), \n",
    "                                 .drop = FALSE)"
   ]
  },
  {
   "cell_type": "code",
   "execution_count": 54,
   "metadata": {
    "scrolled": true
   },
   "outputs": [
    {
     "data": {
      "text/html": [
       "<table>\n",
       "<thead><tr><th scope=col>UserID</th><th scope=col>Sum_Stakes_Ca</th><th scope=col>Avg_Stakes_Ca</th><th scope=col>Sum_Winnings_Ca</th><th scope=col>Avg_Winnings_Ca</th><th scope=col>Total_Bets_Ca</th><th scope=col>Nbr_Days_Played_Ca</th><th scope=col>Most_Played_Month_Ca</th><th scope=col>Most_Played_Day_Ca</th></tr></thead>\n",
       "<tbody>\n",
       "\t<tr><td>1324360 </td><td>  4     </td><td> 4      </td><td>  2.0   </td><td> 2.0    </td><td>  4     </td><td>1       </td><td>2       </td><td>Thursday</td></tr>\n",
       "\t<tr><td>1324363 </td><td>234     </td><td>78      </td><td>181.5   </td><td>60.5    </td><td>139     </td><td>3       </td><td>2       </td><td>Friday  </td></tr>\n",
       "</tbody>\n",
       "</table>\n"
      ],
      "text/latex": [
       "\\begin{tabular}{r|lllllllll}\n",
       " UserID & Sum\\_Stakes\\_Ca & Avg\\_Stakes\\_Ca & Sum\\_Winnings\\_Ca & Avg\\_Winnings\\_Ca & Total\\_Bets\\_Ca & Nbr\\_Days\\_Played\\_Ca & Most\\_Played\\_Month\\_Ca & Most\\_Played\\_Day\\_Ca\\\\\n",
       "\\hline\n",
       "\t 1324360  &   4      &  4       &   2.0    &  2.0     &   4      & 1        & 2        & Thursday\\\\\n",
       "\t 1324363  & 234      & 78       & 181.5    & 60.5     & 139      & 3        & 2        & Friday  \\\\\n",
       "\\end{tabular}\n"
      ],
      "text/markdown": [
       "\n",
       "| UserID | Sum_Stakes_Ca | Avg_Stakes_Ca | Sum_Winnings_Ca | Avg_Winnings_Ca | Total_Bets_Ca | Nbr_Days_Played_Ca | Most_Played_Month_Ca | Most_Played_Day_Ca |\n",
       "|---|---|---|---|---|---|---|---|---|\n",
       "| 1324360  |   4      |  4       |   2.0    |  2.0     |   4      | 1        | 2        | Thursday |\n",
       "| 1324363  | 234      | 78       | 181.5    | 60.5     | 139      | 3        | 2        | Friday   |\n",
       "\n"
      ],
      "text/plain": [
       "  UserID  Sum_Stakes_Ca Avg_Stakes_Ca Sum_Winnings_Ca Avg_Winnings_Ca\n",
       "1 1324360   4            4              2.0            2.0           \n",
       "2 1324363 234           78            181.5           60.5           \n",
       "  Total_Bets_Ca Nbr_Days_Played_Ca Most_Played_Month_Ca Most_Played_Day_Ca\n",
       "1   4           1                  2                    Thursday          \n",
       "2 139           3                  2                    Friday            "
      ]
     },
     "metadata": {},
     "output_type": "display_data"
    }
   ],
   "source": [
    "head(DailyAggregation_Ca, 2)"
   ]
  },
  {
   "cell_type": "markdown",
   "metadata": {},
   "source": [
    "GAMES"
   ]
  },
  {
   "cell_type": "markdown",
   "metadata": {},
   "source": [
    "Creating following Variables which will be later used for insights - <br/>\n",
    "1) Sum_Stakes_Ga = Total numbers of Stakes for Games   <br/>\n",
    "2) Avg_Stakes_Ga = Average number of Stakes for Games     <br/>\n",
    "3) Sum_Winnings_Ga = Total number of Winnings for Games     <br/>\n",
    "4) Avg_Winnings_Ga = Average number of Winnings for Games     <br/>\n",
    "5) Total_Bets_Ga = Total number of Bets for Games     <br/>\n",
    "6) Nbr_Days_Played_Ga = Total number of Days Games  has been played    <br/>\n",
    "7) Most_Played_Month_Ga = The month for which maximum plays happened    <br/>\n",
    "8) Most_Played_Day_Ga = The weekday for which maximum plays happened    <br/>"
   ]
  },
  {
   "cell_type": "code",
   "execution_count": 55,
   "metadata": {},
   "outputs": [],
   "source": [
    "DailyAggr_Games <- temp %>% \n",
    "                       filter(ProductID == 5 | ProductID == 6 | ProductID == 7)\n",
    "\n",
    "DailyAggregation_Ga<-ddply(DailyAggr_Games,.(UserID),summarize,\n",
    "                                 Sum_Stakes_Ga = round(sum(Stakes),1),  \n",
    "                                 Avg_Stakes_Ga = round(mean(Stakes),1),\n",
    "                                 Sum_Winnings_Ga = round(sum(Winnings),1),\n",
    "                                 Avg_Winnings_Ga = round(mean(Winnings),1),\n",
    "                                 Total_Bets_Ga = round(sum(Bets),1), \n",
    "                                 Nbr_Days_Played_Ga = n_distinct(Date),\n",
    "                                 Most_Played_Month_Ga = names(which.max(table(month(as.Date(Date,format=\"%Y%m%d\"))))),\n",
    "                                 Most_Played_Day_Ga = names(which.max(table(weekdays(as.Date(Date))))), \n",
    "                                 .drop = FALSE)"
   ]
  },
  {
   "cell_type": "code",
   "execution_count": 56,
   "metadata": {},
   "outputs": [
    {
     "data": {
      "text/html": [
       "<table>\n",
       "<thead><tr><th scope=col>UserID</th><th scope=col>Sum_Stakes_Ga</th><th scope=col>Avg_Stakes_Ga</th><th scope=col>Sum_Winnings_Ga</th><th scope=col>Avg_Winnings_Ga</th><th scope=col>Total_Bets_Ga</th><th scope=col>Nbr_Days_Played_Ga</th><th scope=col>Most_Played_Month_Ga</th><th scope=col>Most_Played_Day_Ga</th></tr></thead>\n",
       "<tbody>\n",
       "\t<tr><td>1324368 </td><td> 1.0    </td><td>1.0     </td><td>0.0     </td><td>0.0     </td><td>1       </td><td>1       </td><td>8       </td><td>Sunday  </td></tr>\n",
       "\t<tr><td>1324369 </td><td>10.8    </td><td>3.6     </td><td>4.9     </td><td>1.6     </td><td>9       </td><td>3       </td><td>2       </td><td>Saturday</td></tr>\n",
       "</tbody>\n",
       "</table>\n"
      ],
      "text/latex": [
       "\\begin{tabular}{r|lllllllll}\n",
       " UserID & Sum\\_Stakes\\_Ga & Avg\\_Stakes\\_Ga & Sum\\_Winnings\\_Ga & Avg\\_Winnings\\_Ga & Total\\_Bets\\_Ga & Nbr\\_Days\\_Played\\_Ga & Most\\_Played\\_Month\\_Ga & Most\\_Played\\_Day\\_Ga\\\\\n",
       "\\hline\n",
       "\t 1324368  &  1.0     & 1.0      & 0.0      & 0.0      & 1        & 1        & 8        & Sunday  \\\\\n",
       "\t 1324369  & 10.8     & 3.6      & 4.9      & 1.6      & 9        & 3        & 2        & Saturday\\\\\n",
       "\\end{tabular}\n"
      ],
      "text/markdown": [
       "\n",
       "| UserID | Sum_Stakes_Ga | Avg_Stakes_Ga | Sum_Winnings_Ga | Avg_Winnings_Ga | Total_Bets_Ga | Nbr_Days_Played_Ga | Most_Played_Month_Ga | Most_Played_Day_Ga |\n",
       "|---|---|---|---|---|---|---|---|---|\n",
       "| 1324368  |  1.0     | 1.0      | 0.0      | 0.0      | 1        | 1        | 8        | Sunday   |\n",
       "| 1324369  | 10.8     | 3.6      | 4.9      | 1.6      | 9        | 3        | 2        | Saturday |\n",
       "\n"
      ],
      "text/plain": [
       "  UserID  Sum_Stakes_Ga Avg_Stakes_Ga Sum_Winnings_Ga Avg_Winnings_Ga\n",
       "1 1324368  1.0          1.0           0.0             0.0            \n",
       "2 1324369 10.8          3.6           4.9             1.6            \n",
       "  Total_Bets_Ga Nbr_Days_Played_Ga Most_Played_Month_Ga Most_Played_Day_Ga\n",
       "1 1             1                  8                    Sunday            \n",
       "2 9             3                  2                    Saturday          "
      ]
     },
     "metadata": {},
     "output_type": "display_data"
    }
   ],
   "source": [
    "head(DailyAggregation_Ga, 2)"
   ]
  },
  {
   "cell_type": "markdown",
   "metadata": {},
   "source": [
    "# CREATING THE DATA MART"
   ]
  },
  {
   "cell_type": "code",
   "execution_count": 57,
   "metadata": {},
   "outputs": [],
   "source": [
    "# We are keeping only the column of interest for the 4 categories of Plays to construct our DataMart\n",
    "\n",
    "Sports <- DailyAggregation_Sp[,c(\"UserID\", \"Sum_Stakes_Sp\", \"Avg_Stakes_Sp\", \"Sum_Winnings_Sp\", \"Avg_Winnings_Sp\", \n",
    "                                 \"Total_Bets_Sp\", \"Nbr_Days_Played_Sp\", \"Most_Played_Month_Sp\", \"Most_Played_Day_Sp\")]\n",
    "                            \n",
    "Casino <- DailyAggregation_Ca[,c(\"UserID\", \"Sum_Stakes_Ca\", \"Avg_Stakes_Ca\", \"Sum_Winnings_Ca\", \"Avg_Winnings_Ca\", \n",
    "                                 \"Total_Bets_Ca\", \"Nbr_Days_Played_Ca\", \"Most_Played_Month_Ca\", \"Most_Played_Day_Ca\")]\n",
    "\n",
    "Games <- DailyAggregation_Ga[,c(\"UserID\", \"Sum_Stakes_Ga\", \"Avg_Stakes_Ga\", \"Sum_Winnings_Ga\", \"Avg_Winnings_Ga\", \n",
    "                                 \"Total_Bets_Ga\", \"Nbr_Days_Played_Ga\", \"Most_Played_Month_Ga\", \"Most_Played_Day_Ga\")]\n",
    "\n",
    "Poker <- Poker_new[,c(\"UserID\",\"Nbr_Days_Played\",\"Most_Played_Day\",\"Most_Played_Month\",\"Avg_Sold\",\"Avg_Bought\", \n",
    "                       \"Max_Sold\",\"Max_Bought\",\"Morning_Plays\", \"Noon_Plays\", \"Evening_Plays\", \"Midnight_Plays\")]\n",
    "\n",
    "Sports_Analytics <- Analytics_Table[,c(\"UserID\",\"Age\",\"FOTotalStakes\", \"FOTotalWinnings\", \"FOTotalBets\",\n",
    "                            \"FOTotalDaysActive\",\"LATotalStakes\",\"LATotalWinnings\",\"LATotalBets\",\"LATotalDaysActive\")]"
   ]
  },
  {
   "cell_type": "code",
   "execution_count": 58,
   "metadata": {},
   "outputs": [],
   "source": [
    "# Merging Sports with Sports Analytics to have an overall summary of Sports data (including FO and LA)\n",
    "Sports_Complete <- merge(x=Sports_Analytics, y=Sports, by = \"UserID\", all.x = T)"
   ]
  },
  {
   "cell_type": "code",
   "execution_count": 59,
   "metadata": {},
   "outputs": [
    {
     "data": {
      "text/html": [
       "<table>\n",
       "<thead><tr><th scope=col>UserID</th><th scope=col>RegDate</th><th scope=col>FirstPay</th><th scope=col>FirstAct</th><th scope=col>FirstSp</th><th scope=col>FirstCa</th><th scope=col>FirstGa</th><th scope=col>FirstPo</th><th scope=col>Gender</th><th scope=col>CountryName</th><th scope=col>LanguageName</th><th scope=col>ApplicationName</th><th scope=col>Activation_Period</th></tr></thead>\n",
       "<tbody>\n",
       "\t<tr><td>1328412      </td><td>2005-02-02   </td><td>2005-02-06   </td><td>2005-02-06   </td><td>2005-02-06   </td><td>NA           </td><td>NA           </td><td>NA           </td><td>Male         </td><td>Germany      </td><td>English      </td><td>BETANDWIN.COM</td><td>  4 days     </td></tr>\n",
       "\t<tr><td>1328922      </td><td>2005-02-03   </td><td>2005-07-14   </td><td>2005-07-14   </td><td>NA           </td><td>2005-07-14   </td><td>NA           </td><td>NA           </td><td>Male         </td><td>Spain        </td><td>Spanish      </td><td>BETANDWIN.COM</td><td>161 days     </td></tr>\n",
       "</tbody>\n",
       "</table>\n"
      ],
      "text/latex": [
       "\\begin{tabular}{r|lllllllllllll}\n",
       " UserID & RegDate & FirstPay & FirstAct & FirstSp & FirstCa & FirstGa & FirstPo & Gender & CountryName & LanguageName & ApplicationName & Activation\\_Period\\\\\n",
       "\\hline\n",
       "\t 1328412       & 2005-02-02    & 2005-02-06    & 2005-02-06    & 2005-02-06    & NA            & NA            & NA            & Male          & Germany       & English       & BETANDWIN.COM &   4 days     \\\\\n",
       "\t 1328922       & 2005-02-03    & 2005-07-14    & 2005-07-14    & NA            & 2005-07-14    & NA            & NA            & Male          & Spain         & Spanish       & BETANDWIN.COM & 161 days     \\\\\n",
       "\\end{tabular}\n"
      ],
      "text/markdown": [
       "\n",
       "| UserID | RegDate | FirstPay | FirstAct | FirstSp | FirstCa | FirstGa | FirstPo | Gender | CountryName | LanguageName | ApplicationName | Activation_Period |\n",
       "|---|---|---|---|---|---|---|---|---|---|---|---|---|\n",
       "| 1328412       | 2005-02-02    | 2005-02-06    | 2005-02-06    | 2005-02-06    | NA            | NA            | NA            | Male          | Germany       | English       | BETANDWIN.COM |   4 days      |\n",
       "| 1328922       | 2005-02-03    | 2005-07-14    | 2005-07-14    | NA            | 2005-07-14    | NA            | NA            | Male          | Spain         | Spanish       | BETANDWIN.COM | 161 days      |\n",
       "\n"
      ],
      "text/plain": [
       "  UserID  RegDate    FirstPay   FirstAct   FirstSp    FirstCa    FirstGa\n",
       "1 1328412 2005-02-02 2005-02-06 2005-02-06 2005-02-06 <NA>       <NA>   \n",
       "2 1328922 2005-02-03 2005-07-14 2005-07-14 <NA>       2005-07-14 <NA>   \n",
       "  FirstPo Gender CountryName LanguageName ApplicationName Activation_Period\n",
       "1 <NA>    Male   Germany     English      BETANDWIN.COM     4 days         \n",
       "2 <NA>    Male   Spain       Spanish      BETANDWIN.COM   161 days         "
      ]
     },
     "metadata": {},
     "output_type": "display_data"
    }
   ],
   "source": [
    "head(Demographic,2)"
   ]
  },
  {
   "cell_type": "code",
   "execution_count": 60,
   "metadata": {},
   "outputs": [
    {
     "data": {
      "text/html": [
       "<table>\n",
       "<thead><tr><th scope=col>UserID</th><th scope=col>RegDate</th><th scope=col>FirstPay</th><th scope=col>FirstAct</th><th scope=col>FirstSp</th><th scope=col>FirstCa</th><th scope=col>FirstGa</th><th scope=col>FirstPo</th><th scope=col>Gender</th><th scope=col>CountryName</th><th scope=col>...</th><th scope=col>Most_Played_Month_Ga</th><th scope=col>Most_Played_Day_Ga</th><th scope=col>Sum_Stakes_Ca</th><th scope=col>Avg_Stakes_Ca</th><th scope=col>Sum_Winnings_Ca</th><th scope=col>Avg_Winnings_Ca</th><th scope=col>Total_Bets_Ca</th><th scope=col>Nbr_Days_Played_Ca</th><th scope=col>Most_Played_Month_Ca</th><th scope=col>Most_Played_Day_Ca</th></tr></thead>\n",
       "<tbody>\n",
       "\t<tr><td>1324354   </td><td>2005-02-01</td><td>2005-02-24</td><td>2005-02-24</td><td>2005-02-24</td><td>NA        </td><td>NA        </td><td>NA        </td><td>Male      </td><td>Germany   </td><td>...       </td><td>NA        </td><td>NA        </td><td>NA        </td><td>NA        </td><td>NA        </td><td>NA        </td><td>NA        </td><td>NA        </td><td>NA        </td><td>NA        </td></tr>\n",
       "\t<tr><td>1324355   </td><td>2005-02-01</td><td>2005-02-01</td><td>2005-02-01</td><td>2005-02-01</td><td>NA        </td><td>NA        </td><td>2005-06-11</td><td>Male      </td><td>Greece    </td><td>...       </td><td>NA        </td><td>NA        </td><td>NA        </td><td>NA        </td><td>NA        </td><td>NA        </td><td>NA        </td><td>NA        </td><td>NA        </td><td>NA        </td></tr>\n",
       "\t<tr><td>1324356   </td><td>2005-02-01</td><td>2005-02-01</td><td>2005-02-02</td><td>2005-02-02</td><td>NA        </td><td>NA        </td><td>NA        </td><td>Male      </td><td>Germany   </td><td>...       </td><td>NA        </td><td>NA        </td><td>NA        </td><td>NA        </td><td>NA        </td><td>NA        </td><td>NA        </td><td>NA        </td><td>NA        </td><td>NA        </td></tr>\n",
       "\t<tr><td>1324358   </td><td>2005-02-01</td><td>2005-02-01</td><td>2005-02-01</td><td>2005-02-01</td><td>NA        </td><td>NA        </td><td>NA        </td><td>Male      </td><td>Sweden    </td><td>...       </td><td>NA        </td><td>NA        </td><td>NA        </td><td>NA        </td><td>NA        </td><td>NA        </td><td>NA        </td><td>NA        </td><td>NA        </td><td>NA        </td></tr>\n",
       "\t<tr><td>1324360   </td><td>2005-02-01</td><td>2005-02-02</td><td>2005-02-02</td><td>2005-02-02</td><td>2005-02-03</td><td>NA        </td><td>NA        </td><td>Male      </td><td>Turkey    </td><td>...       </td><td>NA        </td><td>NA        </td><td> 4        </td><td> 4        </td><td> 2        </td><td> 2        </td><td> 4        </td><td> 1        </td><td>2         </td><td>Thursday  </td></tr>\n",
       "\t<tr><td>1324362   </td><td>2005-02-01</td><td>2005-02-11</td><td>2005-02-11</td><td>2005-02-11</td><td>NA        </td><td>NA        </td><td>NA        </td><td>Male      </td><td>Germany   </td><td>...       </td><td>NA        </td><td>NA        </td><td>NA        </td><td>NA        </td><td>NA        </td><td>NA        </td><td>NA        </td><td>NA        </td><td>NA        </td><td>NA        </td></tr>\n",
       "</tbody>\n",
       "</table>\n"
      ],
      "text/latex": [
       "\\begin{tabular}{r|lllllllllllllllllllllllllllllllllllllllllllllllllllllllll}\n",
       " UserID & RegDate & FirstPay & FirstAct & FirstSp & FirstCa & FirstGa & FirstPo & Gender & CountryName & ... & Most\\_Played\\_Month\\_Ga & Most\\_Played\\_Day\\_Ga & Sum\\_Stakes\\_Ca & Avg\\_Stakes\\_Ca & Sum\\_Winnings\\_Ca & Avg\\_Winnings\\_Ca & Total\\_Bets\\_Ca & Nbr\\_Days\\_Played\\_Ca & Most\\_Played\\_Month\\_Ca & Most\\_Played\\_Day\\_Ca\\\\\n",
       "\\hline\n",
       "\t 1324354    & 2005-02-01 & 2005-02-24 & 2005-02-24 & 2005-02-24 & NA         & NA         & NA         & Male       & Germany    & ...        & NA         & NA         & NA         & NA         & NA         & NA         & NA         & NA         & NA         & NA        \\\\\n",
       "\t 1324355    & 2005-02-01 & 2005-02-01 & 2005-02-01 & 2005-02-01 & NA         & NA         & 2005-06-11 & Male       & Greece     & ...        & NA         & NA         & NA         & NA         & NA         & NA         & NA         & NA         & NA         & NA        \\\\\n",
       "\t 1324356    & 2005-02-01 & 2005-02-01 & 2005-02-02 & 2005-02-02 & NA         & NA         & NA         & Male       & Germany    & ...        & NA         & NA         & NA         & NA         & NA         & NA         & NA         & NA         & NA         & NA        \\\\\n",
       "\t 1324358    & 2005-02-01 & 2005-02-01 & 2005-02-01 & 2005-02-01 & NA         & NA         & NA         & Male       & Sweden     & ...        & NA         & NA         & NA         & NA         & NA         & NA         & NA         & NA         & NA         & NA        \\\\\n",
       "\t 1324360    & 2005-02-01 & 2005-02-02 & 2005-02-02 & 2005-02-02 & 2005-02-03 & NA         & NA         & Male       & Turkey     & ...        & NA         & NA         &  4         &  4         &  2         &  2         &  4         &  1         & 2          & Thursday  \\\\\n",
       "\t 1324362    & 2005-02-01 & 2005-02-11 & 2005-02-11 & 2005-02-11 & NA         & NA         & NA         & Male       & Germany    & ...        & NA         & NA         & NA         & NA         & NA         & NA         & NA         & NA         & NA         & NA        \\\\\n",
       "\\end{tabular}\n"
      ],
      "text/markdown": [
       "\n",
       "| UserID | RegDate | FirstPay | FirstAct | FirstSp | FirstCa | FirstGa | FirstPo | Gender | CountryName | ... | Most_Played_Month_Ga | Most_Played_Day_Ga | Sum_Stakes_Ca | Avg_Stakes_Ca | Sum_Winnings_Ca | Avg_Winnings_Ca | Total_Bets_Ca | Nbr_Days_Played_Ca | Most_Played_Month_Ca | Most_Played_Day_Ca |\n",
       "|---|---|---|---|---|---|---|---|---|---|---|---|---|---|---|---|---|---|---|---|---|\n",
       "| 1324354    | 2005-02-01 | 2005-02-24 | 2005-02-24 | 2005-02-24 | NA         | NA         | NA         | Male       | Germany    | ...        | NA         | NA         | NA         | NA         | NA         | NA         | NA         | NA         | NA         | NA         |\n",
       "| 1324355    | 2005-02-01 | 2005-02-01 | 2005-02-01 | 2005-02-01 | NA         | NA         | 2005-06-11 | Male       | Greece     | ...        | NA         | NA         | NA         | NA         | NA         | NA         | NA         | NA         | NA         | NA         |\n",
       "| 1324356    | 2005-02-01 | 2005-02-01 | 2005-02-02 | 2005-02-02 | NA         | NA         | NA         | Male       | Germany    | ...        | NA         | NA         | NA         | NA         | NA         | NA         | NA         | NA         | NA         | NA         |\n",
       "| 1324358    | 2005-02-01 | 2005-02-01 | 2005-02-01 | 2005-02-01 | NA         | NA         | NA         | Male       | Sweden     | ...        | NA         | NA         | NA         | NA         | NA         | NA         | NA         | NA         | NA         | NA         |\n",
       "| 1324360    | 2005-02-01 | 2005-02-02 | 2005-02-02 | 2005-02-02 | 2005-02-03 | NA         | NA         | Male       | Turkey     | ...        | NA         | NA         |  4         |  4         |  2         |  2         |  4         |  1         | 2          | Thursday   |\n",
       "| 1324362    | 2005-02-01 | 2005-02-11 | 2005-02-11 | 2005-02-11 | NA         | NA         | NA         | Male       | Germany    | ...        | NA         | NA         | NA         | NA         | NA         | NA         | NA         | NA         | NA         | NA         |\n",
       "\n"
      ],
      "text/plain": [
       "  UserID  RegDate    FirstPay   FirstAct   FirstSp    FirstCa    FirstGa\n",
       "1 1324354 2005-02-01 2005-02-24 2005-02-24 2005-02-24 <NA>       <NA>   \n",
       "2 1324355 2005-02-01 2005-02-01 2005-02-01 2005-02-01 <NA>       <NA>   \n",
       "3 1324356 2005-02-01 2005-02-01 2005-02-02 2005-02-02 <NA>       <NA>   \n",
       "4 1324358 2005-02-01 2005-02-01 2005-02-01 2005-02-01 <NA>       <NA>   \n",
       "5 1324360 2005-02-01 2005-02-02 2005-02-02 2005-02-02 2005-02-03 <NA>   \n",
       "6 1324362 2005-02-01 2005-02-11 2005-02-11 2005-02-11 <NA>       <NA>   \n",
       "  FirstPo    Gender CountryName ... Most_Played_Month_Ga Most_Played_Day_Ga\n",
       "1 <NA>       Male   Germany     ... NA                   NA                \n",
       "2 2005-06-11 Male   Greece      ... NA                   NA                \n",
       "3 <NA>       Male   Germany     ... NA                   NA                \n",
       "4 <NA>       Male   Sweden      ... NA                   NA                \n",
       "5 <NA>       Male   Turkey      ... NA                   NA                \n",
       "6 <NA>       Male   Germany     ... NA                   NA                \n",
       "  Sum_Stakes_Ca Avg_Stakes_Ca Sum_Winnings_Ca Avg_Winnings_Ca Total_Bets_Ca\n",
       "1 NA            NA            NA              NA              NA           \n",
       "2 NA            NA            NA              NA              NA           \n",
       "3 NA            NA            NA              NA              NA           \n",
       "4 NA            NA            NA              NA              NA           \n",
       "5  4             4             2               2               4           \n",
       "6 NA            NA            NA              NA              NA           \n",
       "  Nbr_Days_Played_Ca Most_Played_Month_Ca Most_Played_Day_Ca\n",
       "1 NA                 NA                   NA                \n",
       "2 NA                 NA                   NA                \n",
       "3 NA                 NA                   NA                \n",
       "4 NA                 NA                   NA                \n",
       "5  1                 2                    Thursday          \n",
       "6 NA                 NA                   NA                "
      ]
     },
     "metadata": {},
     "output_type": "display_data"
    }
   ],
   "source": [
    "q        <- merge(x=Demographic, y=Sports_Complete, by = \"UserID\", all.x = T)\n",
    "r        <- merge(x=q, y=Poker, by = \"UserID\", all.x = T)\n",
    "s        <- merge(x=r, y=Games, by = \"UserID\", all.x = T)\n",
    "t        <- merge(x=s, y=Casino, by = \"UserID\", all.x = T)\n",
    "Datamart <- t\n",
    "\n",
    "head(Datamart)"
   ]
  },
  {
   "cell_type": "markdown",
   "metadata": {},
   "source": [
    "Replacing all `NAN` or `NA` values in our Datamart with `0` (except for Dates)"
   ]
  },
  {
   "cell_type": "code",
   "execution_count": 61,
   "metadata": {},
   "outputs": [],
   "source": [
    "Datamart$LATotalBets[is.na(Datamart$LATotalBets)] = 0\n",
    "Datamart$LATotalDaysActive[is.na(Datamart$LATotalDaysActive)] = 0\n",
    "Datamart$Nbr_Days_Played[is.na(Datamart$Nbr_Days_Played)] = 0\n",
    "Datamart$Most_Played_Day [is.na(Datamart$Most_Played_Day )] = 0\n",
    "Datamart$Most_Played_Month[is.na(Datamart$Most_Played_Month)] = 0\n",
    "Datamart$Avg_Sold[is.na(Datamart$Avg_Sold)] = 0\n",
    "Datamart$Avg_Bought[is.na(Datamart$Avg_Bought)] = 0\n",
    "Datamart$Max_Sold[is.na(Datamart$Max_Sold)] = 0\n",
    "Datamart$Max_Bought[is.na(Datamart$Max_Bought)] = 0\n",
    "Datamart$Morning_Plays[is.na(Datamart$Morning_Plays)] = 0\n",
    "Datamart$Noon_Plays[is.na(Datamart$Noon_Plays)] = 0\n",
    "Datamart$Evening_Plays[is.na(Datamart$Evening_Plays)] = 0\n",
    "Datamart$Midnight_Plays[is.na(Datamart$Midnight_Plays)] = 0\n",
    "Datamart$Sum_Stakes_Ga[is.na(Datamart$Sum_Stakes_Ga)] = 0\n",
    "Datamart$Avg_Stakes_Ga[is.na(Datamart$Avg_Stakes_Ga)] = 0\n",
    "Datamart$Sum_Winnings_Ga[is.na(Datamart$Sum_Winnings_Ga)] = 0\n",
    "Datamart$Avg_Winnings_Ga[is.na(Datamart$Avg_Winnings_Ga)] = 0\n",
    "Datamart$Total_Bets_Ga[is.na(Datamart$Total_Bets_Ga)] = 0\n",
    "Datamart$Nbr_Days_Played_Ga[is.na(Datamart$Nbr_Days_Played_Ga)] = 0\n",
    "Datamart$Most_Played_Month_Ga[is.na(Datamart$Most_Played_Month_Ga)] = 0\n",
    "Datamart$Most_Played_Day_Ga[is.na(Datamart$Most_Played_Day_Ga)] = 0\n",
    "Datamart$Most_Played_Day_Ga[is.na(Datamart$Most_Played_Day_Ga)] = 0\n",
    "Datamart$Sum_Stakes_Ca[is.na(Datamart$Sum_Stakes_Ca)] = 0\n",
    "Datamart$Avg_Stakes_Ca[is.na(Datamart$Avg_Stakes_Ca)] = 0\n",
    "Datamart$Sum_Winnings_Ca[is.na(Datamart$Sum_Winnings_Ca)] = 0\n",
    "Datamart$Avg_Winnings_Ca[is.na(Datamart$Avg_Winnings_Ca)] = 0\n",
    "Datamart$Total_Bets_Ca[is.na(Datamart$Total_Bets_Ca)] = 0\n",
    "Datamart$Nbr_Days_Played_Ca[is.na(Datamart$Nbr_Days_Played_Ca)] = 0\n",
    "Datamart$Most_Played_Month_Ca[is.na(Datamart$Most_Played_Month_Ca)] = 0\n",
    "Datamart$Most_Played_Day_Ca[is.na(Datamart$Most_Played_Day_Ca)] = 0"
   ]
  },
  {
   "cell_type": "code",
   "execution_count": 62,
   "metadata": {
    "scrolled": true
   },
   "outputs": [
    {
     "data": {
      "text/html": [
       "<table>\n",
       "<thead><tr><th scope=col>UserID</th><th scope=col>RegDate</th><th scope=col>FirstPay</th><th scope=col>FirstAct</th><th scope=col>FirstSp</th><th scope=col>FirstCa</th><th scope=col>FirstGa</th><th scope=col>FirstPo</th><th scope=col>Gender</th><th scope=col>CountryName</th><th scope=col>...</th><th scope=col>Most_Played_Month_Ga</th><th scope=col>Most_Played_Day_Ga</th><th scope=col>Sum_Stakes_Ca</th><th scope=col>Avg_Stakes_Ca</th><th scope=col>Sum_Winnings_Ca</th><th scope=col>Avg_Winnings_Ca</th><th scope=col>Total_Bets_Ca</th><th scope=col>Nbr_Days_Played_Ca</th><th scope=col>Most_Played_Month_Ca</th><th scope=col>Most_Played_Day_Ca</th></tr></thead>\n",
       "<tbody>\n",
       "\t<tr><td>1324354   </td><td>2005-02-01</td><td>2005-02-24</td><td>2005-02-24</td><td>2005-02-24</td><td>NA        </td><td>NA        </td><td>NA        </td><td>Male      </td><td>Germany   </td><td>...       </td><td>0         </td><td>0         </td><td>0         </td><td>0         </td><td>0         </td><td>0         </td><td>0         </td><td>0         </td><td>0         </td><td>0         </td></tr>\n",
       "\t<tr><td>1324355   </td><td>2005-02-01</td><td>2005-02-01</td><td>2005-02-01</td><td>2005-02-01</td><td>NA        </td><td>NA        </td><td>2005-06-11</td><td>Male      </td><td>Greece    </td><td>...       </td><td>0         </td><td>0         </td><td>0         </td><td>0         </td><td>0         </td><td>0         </td><td>0         </td><td>0         </td><td>0         </td><td>0         </td></tr>\n",
       "\t<tr><td>1324356   </td><td>2005-02-01</td><td>2005-02-01</td><td>2005-02-02</td><td>2005-02-02</td><td>NA        </td><td>NA        </td><td>NA        </td><td>Male      </td><td>Germany   </td><td>...       </td><td>0         </td><td>0         </td><td>0         </td><td>0         </td><td>0         </td><td>0         </td><td>0         </td><td>0         </td><td>0         </td><td>0         </td></tr>\n",
       "\t<tr><td>1324358   </td><td>2005-02-01</td><td>2005-02-01</td><td>2005-02-01</td><td>2005-02-01</td><td>NA        </td><td>NA        </td><td>NA        </td><td>Male      </td><td>Sweden    </td><td>...       </td><td>0         </td><td>0         </td><td>0         </td><td>0         </td><td>0         </td><td>0         </td><td>0         </td><td>0         </td><td>0         </td><td>0         </td></tr>\n",
       "\t<tr><td>1324360   </td><td>2005-02-01</td><td>2005-02-02</td><td>2005-02-02</td><td>2005-02-02</td><td>2005-02-03</td><td>NA        </td><td>NA        </td><td>Male      </td><td>Turkey    </td><td>...       </td><td>0         </td><td>0         </td><td>4         </td><td>4         </td><td>2         </td><td>2         </td><td>4         </td><td>1         </td><td>2         </td><td>Thursday  </td></tr>\n",
       "\t<tr><td>1324362   </td><td>2005-02-01</td><td>2005-02-11</td><td>2005-02-11</td><td>2005-02-11</td><td>NA        </td><td>NA        </td><td>NA        </td><td>Male      </td><td>Germany   </td><td>...       </td><td>0         </td><td>0         </td><td>0         </td><td>0         </td><td>0         </td><td>0         </td><td>0         </td><td>0         </td><td>0         </td><td>0         </td></tr>\n",
       "</tbody>\n",
       "</table>\n"
      ],
      "text/latex": [
       "\\begin{tabular}{r|lllllllllllllllllllllllllllllllllllllllllllllllllllllllll}\n",
       " UserID & RegDate & FirstPay & FirstAct & FirstSp & FirstCa & FirstGa & FirstPo & Gender & CountryName & ... & Most\\_Played\\_Month\\_Ga & Most\\_Played\\_Day\\_Ga & Sum\\_Stakes\\_Ca & Avg\\_Stakes\\_Ca & Sum\\_Winnings\\_Ca & Avg\\_Winnings\\_Ca & Total\\_Bets\\_Ca & Nbr\\_Days\\_Played\\_Ca & Most\\_Played\\_Month\\_Ca & Most\\_Played\\_Day\\_Ca\\\\\n",
       "\\hline\n",
       "\t 1324354    & 2005-02-01 & 2005-02-24 & 2005-02-24 & 2005-02-24 & NA         & NA         & NA         & Male       & Germany    & ...        & 0          & 0          & 0          & 0          & 0          & 0          & 0          & 0          & 0          & 0         \\\\\n",
       "\t 1324355    & 2005-02-01 & 2005-02-01 & 2005-02-01 & 2005-02-01 & NA         & NA         & 2005-06-11 & Male       & Greece     & ...        & 0          & 0          & 0          & 0          & 0          & 0          & 0          & 0          & 0          & 0         \\\\\n",
       "\t 1324356    & 2005-02-01 & 2005-02-01 & 2005-02-02 & 2005-02-02 & NA         & NA         & NA         & Male       & Germany    & ...        & 0          & 0          & 0          & 0          & 0          & 0          & 0          & 0          & 0          & 0         \\\\\n",
       "\t 1324358    & 2005-02-01 & 2005-02-01 & 2005-02-01 & 2005-02-01 & NA         & NA         & NA         & Male       & Sweden     & ...        & 0          & 0          & 0          & 0          & 0          & 0          & 0          & 0          & 0          & 0         \\\\\n",
       "\t 1324360    & 2005-02-01 & 2005-02-02 & 2005-02-02 & 2005-02-02 & 2005-02-03 & NA         & NA         & Male       & Turkey     & ...        & 0          & 0          & 4          & 4          & 2          & 2          & 4          & 1          & 2          & Thursday  \\\\\n",
       "\t 1324362    & 2005-02-01 & 2005-02-11 & 2005-02-11 & 2005-02-11 & NA         & NA         & NA         & Male       & Germany    & ...        & 0          & 0          & 0          & 0          & 0          & 0          & 0          & 0          & 0          & 0         \\\\\n",
       "\\end{tabular}\n"
      ],
      "text/markdown": [
       "\n",
       "| UserID | RegDate | FirstPay | FirstAct | FirstSp | FirstCa | FirstGa | FirstPo | Gender | CountryName | ... | Most_Played_Month_Ga | Most_Played_Day_Ga | Sum_Stakes_Ca | Avg_Stakes_Ca | Sum_Winnings_Ca | Avg_Winnings_Ca | Total_Bets_Ca | Nbr_Days_Played_Ca | Most_Played_Month_Ca | Most_Played_Day_Ca |\n",
       "|---|---|---|---|---|---|---|---|---|---|---|---|---|---|---|---|---|---|---|---|---|\n",
       "| 1324354    | 2005-02-01 | 2005-02-24 | 2005-02-24 | 2005-02-24 | NA         | NA         | NA         | Male       | Germany    | ...        | 0          | 0          | 0          | 0          | 0          | 0          | 0          | 0          | 0          | 0          |\n",
       "| 1324355    | 2005-02-01 | 2005-02-01 | 2005-02-01 | 2005-02-01 | NA         | NA         | 2005-06-11 | Male       | Greece     | ...        | 0          | 0          | 0          | 0          | 0          | 0          | 0          | 0          | 0          | 0          |\n",
       "| 1324356    | 2005-02-01 | 2005-02-01 | 2005-02-02 | 2005-02-02 | NA         | NA         | NA         | Male       | Germany    | ...        | 0          | 0          | 0          | 0          | 0          | 0          | 0          | 0          | 0          | 0          |\n",
       "| 1324358    | 2005-02-01 | 2005-02-01 | 2005-02-01 | 2005-02-01 | NA         | NA         | NA         | Male       | Sweden     | ...        | 0          | 0          | 0          | 0          | 0          | 0          | 0          | 0          | 0          | 0          |\n",
       "| 1324360    | 2005-02-01 | 2005-02-02 | 2005-02-02 | 2005-02-02 | 2005-02-03 | NA         | NA         | Male       | Turkey     | ...        | 0          | 0          | 4          | 4          | 2          | 2          | 4          | 1          | 2          | Thursday   |\n",
       "| 1324362    | 2005-02-01 | 2005-02-11 | 2005-02-11 | 2005-02-11 | NA         | NA         | NA         | Male       | Germany    | ...        | 0          | 0          | 0          | 0          | 0          | 0          | 0          | 0          | 0          | 0          |\n",
       "\n"
      ],
      "text/plain": [
       "  UserID  RegDate    FirstPay   FirstAct   FirstSp    FirstCa    FirstGa\n",
       "1 1324354 2005-02-01 2005-02-24 2005-02-24 2005-02-24 <NA>       <NA>   \n",
       "2 1324355 2005-02-01 2005-02-01 2005-02-01 2005-02-01 <NA>       <NA>   \n",
       "3 1324356 2005-02-01 2005-02-01 2005-02-02 2005-02-02 <NA>       <NA>   \n",
       "4 1324358 2005-02-01 2005-02-01 2005-02-01 2005-02-01 <NA>       <NA>   \n",
       "5 1324360 2005-02-01 2005-02-02 2005-02-02 2005-02-02 2005-02-03 <NA>   \n",
       "6 1324362 2005-02-01 2005-02-11 2005-02-11 2005-02-11 <NA>       <NA>   \n",
       "  FirstPo    Gender CountryName ... Most_Played_Month_Ga Most_Played_Day_Ga\n",
       "1 <NA>       Male   Germany     ... 0                    0                 \n",
       "2 2005-06-11 Male   Greece      ... 0                    0                 \n",
       "3 <NA>       Male   Germany     ... 0                    0                 \n",
       "4 <NA>       Male   Sweden      ... 0                    0                 \n",
       "5 <NA>       Male   Turkey      ... 0                    0                 \n",
       "6 <NA>       Male   Germany     ... 0                    0                 \n",
       "  Sum_Stakes_Ca Avg_Stakes_Ca Sum_Winnings_Ca Avg_Winnings_Ca Total_Bets_Ca\n",
       "1 0             0             0               0               0            \n",
       "2 0             0             0               0               0            \n",
       "3 0             0             0               0               0            \n",
       "4 0             0             0               0               0            \n",
       "5 4             4             2               2               4            \n",
       "6 0             0             0               0               0            \n",
       "  Nbr_Days_Played_Ca Most_Played_Month_Ca Most_Played_Day_Ca\n",
       "1 0                  0                    0                 \n",
       "2 0                  0                    0                 \n",
       "3 0                  0                    0                 \n",
       "4 0                  0                    0                 \n",
       "5 1                  2                    Thursday          \n",
       "6 0                  0                    0                 "
      ]
     },
     "metadata": {},
     "output_type": "display_data"
    }
   ],
   "source": [
    "head(Datamart)"
   ]
  },
  {
   "cell_type": "markdown",
   "metadata": {},
   "source": [
    "Now we will merge our `Datamart` with the `Daily_Aggregation`"
   ]
  },
  {
   "cell_type": "code",
   "execution_count": 63,
   "metadata": {},
   "outputs": [],
   "source": [
    "Datamart <- merge(x=Datamart, y=Daily_Aggregation, by = \"UserID\", all.x = T)"
   ]
  },
  {
   "cell_type": "code",
   "execution_count": 64,
   "metadata": {
    "scrolled": false
   },
   "outputs": [
    {
     "data": {
      "text/html": [
       "<table>\n",
       "<thead><tr><th scope=col>UserID</th><th scope=col>RegDate</th><th scope=col>FirstPay</th><th scope=col>FirstAct</th><th scope=col>FirstSp</th><th scope=col>FirstCa</th><th scope=col>FirstGa</th><th scope=col>FirstPo</th><th scope=col>Gender</th><th scope=col>CountryName</th><th scope=col>...</th><th scope=col>Avg_Winnings_Ca</th><th scope=col>Total_Bets_Ca</th><th scope=col>Nbr_Days_Played_Ca</th><th scope=col>Most_Played_Month_Ca</th><th scope=col>Most_Played_Day_Ca</th><th scope=col>Days_Ttl</th><th scope=col>Ttl_Stakes</th><th scope=col>Ttl_Winnings</th><th scope=col>Ttl_Bets</th><th scope=col>Segments</th></tr></thead>\n",
       "<tbody>\n",
       "\t<tr><td>1324354   </td><td>2005-02-01</td><td>2005-02-24</td><td>2005-02-24</td><td>2005-02-24</td><td>NA        </td><td>NA        </td><td>NA        </td><td>Male      </td><td>Germany   </td><td>...       </td><td>0         </td><td>0         </td><td>0         </td><td>0         </td><td>0         </td><td>118       </td><td>11976.61  </td><td>11736.61  </td><td>279       </td><td>Platinum  </td></tr>\n",
       "\t<tr><td>1324355   </td><td>2005-02-01</td><td>2005-02-01</td><td>2005-02-01</td><td>2005-02-01</td><td>NA        </td><td>NA        </td><td>2005-06-11</td><td>Male      </td><td>Greece    </td><td>...       </td><td>0         </td><td>0         </td><td>0         </td><td>0         </td><td>0         </td><td>101       </td><td>  425.56  </td><td>  464.50  </td><td>252       </td><td>Platinum  </td></tr>\n",
       "</tbody>\n",
       "</table>\n"
      ],
      "text/latex": [
       "\\begin{tabular}{r|llllllllllllllllllllllllllllllllllllllllllllllllllllllllllllll}\n",
       " UserID & RegDate & FirstPay & FirstAct & FirstSp & FirstCa & FirstGa & FirstPo & Gender & CountryName & ... & Avg\\_Winnings\\_Ca & Total\\_Bets\\_Ca & Nbr\\_Days\\_Played\\_Ca & Most\\_Played\\_Month\\_Ca & Most\\_Played\\_Day\\_Ca & Days\\_Ttl & Ttl\\_Stakes & Ttl\\_Winnings & Ttl\\_Bets & Segments\\\\\n",
       "\\hline\n",
       "\t 1324354    & 2005-02-01 & 2005-02-24 & 2005-02-24 & 2005-02-24 & NA         & NA         & NA         & Male       & Germany    & ...        & 0          & 0          & 0          & 0          & 0          & 118        & 11976.61   & 11736.61   & 279        & Platinum  \\\\\n",
       "\t 1324355    & 2005-02-01 & 2005-02-01 & 2005-02-01 & 2005-02-01 & NA         & NA         & 2005-06-11 & Male       & Greece     & ...        & 0          & 0          & 0          & 0          & 0          & 101        &   425.56   &   464.50   & 252        & Platinum  \\\\\n",
       "\\end{tabular}\n"
      ],
      "text/markdown": [
       "\n",
       "| UserID | RegDate | FirstPay | FirstAct | FirstSp | FirstCa | FirstGa | FirstPo | Gender | CountryName | ... | Avg_Winnings_Ca | Total_Bets_Ca | Nbr_Days_Played_Ca | Most_Played_Month_Ca | Most_Played_Day_Ca | Days_Ttl | Ttl_Stakes | Ttl_Winnings | Ttl_Bets | Segments |\n",
       "|---|---|---|---|---|---|---|---|---|---|---|---|---|---|---|---|---|---|---|---|---|\n",
       "| 1324354    | 2005-02-01 | 2005-02-24 | 2005-02-24 | 2005-02-24 | NA         | NA         | NA         | Male       | Germany    | ...        | 0          | 0          | 0          | 0          | 0          | 118        | 11976.61   | 11736.61   | 279        | Platinum   |\n",
       "| 1324355    | 2005-02-01 | 2005-02-01 | 2005-02-01 | 2005-02-01 | NA         | NA         | 2005-06-11 | Male       | Greece     | ...        | 0          | 0          | 0          | 0          | 0          | 101        |   425.56   |   464.50   | 252        | Platinum   |\n",
       "\n"
      ],
      "text/plain": [
       "  UserID  RegDate    FirstPay   FirstAct   FirstSp    FirstCa FirstGa\n",
       "1 1324354 2005-02-01 2005-02-24 2005-02-24 2005-02-24 <NA>    <NA>   \n",
       "2 1324355 2005-02-01 2005-02-01 2005-02-01 2005-02-01 <NA>    <NA>   \n",
       "  FirstPo    Gender CountryName ... Avg_Winnings_Ca Total_Bets_Ca\n",
       "1 <NA>       Male   Germany     ... 0               0            \n",
       "2 2005-06-11 Male   Greece      ... 0               0            \n",
       "  Nbr_Days_Played_Ca Most_Played_Month_Ca Most_Played_Day_Ca Days_Ttl\n",
       "1 0                  0                    0                  118     \n",
       "2 0                  0                    0                  101     \n",
       "  Ttl_Stakes Ttl_Winnings Ttl_Bets Segments\n",
       "1 11976.61   11736.61     279      Platinum\n",
       "2   425.56     464.50     252      Platinum"
      ]
     },
     "metadata": {},
     "output_type": "display_data"
    }
   ],
   "source": [
    "head(Datamart,2)"
   ]
  },
  {
   "cell_type": "code",
   "execution_count": 65,
   "metadata": {},
   "outputs": [
    {
     "data": {
      "text/html": [
       "<ol class=list-inline>\n",
       "\t<li>'UserID'</li>\n",
       "\t<li>'RegDate'</li>\n",
       "\t<li>'FirstPay'</li>\n",
       "\t<li>'FirstAct'</li>\n",
       "\t<li>'FirstSp'</li>\n",
       "\t<li>'FirstCa'</li>\n",
       "\t<li>'FirstGa'</li>\n",
       "\t<li>'FirstPo'</li>\n",
       "\t<li>'Gender'</li>\n",
       "\t<li>'CountryName'</li>\n",
       "\t<li>'LanguageName'</li>\n",
       "\t<li>'ApplicationName'</li>\n",
       "\t<li>'Activation_Period'</li>\n",
       "\t<li>'Age'</li>\n",
       "\t<li>'FOTotalStakes'</li>\n",
       "\t<li>'FOTotalWinnings'</li>\n",
       "\t<li>'FOTotalBets'</li>\n",
       "\t<li>'FOTotalDaysActive'</li>\n",
       "\t<li>'LATotalStakes'</li>\n",
       "\t<li>'LATotalWinnings'</li>\n",
       "\t<li>'LATotalBets'</li>\n",
       "\t<li>'LATotalDaysActive'</li>\n",
       "\t<li>'Sum_Stakes_Sp'</li>\n",
       "\t<li>'Avg_Stakes_Sp'</li>\n",
       "\t<li>'Sum_Winnings_Sp'</li>\n",
       "\t<li>'Avg_Winnings_Sp'</li>\n",
       "\t<li>'Total_Bets_Sp'</li>\n",
       "\t<li>'Nbr_Days_Played_Sp'</li>\n",
       "\t<li>'Most_Played_Month_Sp'</li>\n",
       "\t<li>'Most_Played_Day_Sp'</li>\n",
       "\t<li>'Nbr_Days_Played'</li>\n",
       "\t<li>'Most_Played_Day'</li>\n",
       "\t<li>'Most_Played_Month'</li>\n",
       "\t<li>'Avg_Sold'</li>\n",
       "\t<li>'Avg_Bought'</li>\n",
       "\t<li>'Max_Sold'</li>\n",
       "\t<li>'Max_Bought'</li>\n",
       "\t<li>'Morning_Plays'</li>\n",
       "\t<li>'Noon_Plays'</li>\n",
       "\t<li>'Evening_Plays'</li>\n",
       "\t<li>'Midnight_Plays'</li>\n",
       "\t<li>'Sum_Stakes_Ga'</li>\n",
       "\t<li>'Avg_Stakes_Ga'</li>\n",
       "\t<li>'Sum_Winnings_Ga'</li>\n",
       "\t<li>'Avg_Winnings_Ga'</li>\n",
       "\t<li>'Total_Bets_Ga'</li>\n",
       "\t<li>'Nbr_Days_Played_Ga'</li>\n",
       "\t<li>'Most_Played_Month_Ga'</li>\n",
       "\t<li>'Most_Played_Day_Ga'</li>\n",
       "\t<li>'Sum_Stakes_Ca'</li>\n",
       "\t<li>'Avg_Stakes_Ca'</li>\n",
       "\t<li>'Sum_Winnings_Ca'</li>\n",
       "\t<li>'Avg_Winnings_Ca'</li>\n",
       "\t<li>'Total_Bets_Ca'</li>\n",
       "\t<li>'Nbr_Days_Played_Ca'</li>\n",
       "\t<li>'Most_Played_Month_Ca'</li>\n",
       "\t<li>'Most_Played_Day_Ca'</li>\n",
       "\t<li>'Days_Ttl'</li>\n",
       "\t<li>'Ttl_Stakes'</li>\n",
       "\t<li>'Ttl_Winnings'</li>\n",
       "\t<li>'Ttl_Bets'</li>\n",
       "\t<li>'Segments'</li>\n",
       "</ol>\n"
      ],
      "text/latex": [
       "\\begin{enumerate*}\n",
       "\\item 'UserID'\n",
       "\\item 'RegDate'\n",
       "\\item 'FirstPay'\n",
       "\\item 'FirstAct'\n",
       "\\item 'FirstSp'\n",
       "\\item 'FirstCa'\n",
       "\\item 'FirstGa'\n",
       "\\item 'FirstPo'\n",
       "\\item 'Gender'\n",
       "\\item 'CountryName'\n",
       "\\item 'LanguageName'\n",
       "\\item 'ApplicationName'\n",
       "\\item 'Activation\\_Period'\n",
       "\\item 'Age'\n",
       "\\item 'FOTotalStakes'\n",
       "\\item 'FOTotalWinnings'\n",
       "\\item 'FOTotalBets'\n",
       "\\item 'FOTotalDaysActive'\n",
       "\\item 'LATotalStakes'\n",
       "\\item 'LATotalWinnings'\n",
       "\\item 'LATotalBets'\n",
       "\\item 'LATotalDaysActive'\n",
       "\\item 'Sum\\_Stakes\\_Sp'\n",
       "\\item 'Avg\\_Stakes\\_Sp'\n",
       "\\item 'Sum\\_Winnings\\_Sp'\n",
       "\\item 'Avg\\_Winnings\\_Sp'\n",
       "\\item 'Total\\_Bets\\_Sp'\n",
       "\\item 'Nbr\\_Days\\_Played\\_Sp'\n",
       "\\item 'Most\\_Played\\_Month\\_Sp'\n",
       "\\item 'Most\\_Played\\_Day\\_Sp'\n",
       "\\item 'Nbr\\_Days\\_Played'\n",
       "\\item 'Most\\_Played\\_Day'\n",
       "\\item 'Most\\_Played\\_Month'\n",
       "\\item 'Avg\\_Sold'\n",
       "\\item 'Avg\\_Bought'\n",
       "\\item 'Max\\_Sold'\n",
       "\\item 'Max\\_Bought'\n",
       "\\item 'Morning\\_Plays'\n",
       "\\item 'Noon\\_Plays'\n",
       "\\item 'Evening\\_Plays'\n",
       "\\item 'Midnight\\_Plays'\n",
       "\\item 'Sum\\_Stakes\\_Ga'\n",
       "\\item 'Avg\\_Stakes\\_Ga'\n",
       "\\item 'Sum\\_Winnings\\_Ga'\n",
       "\\item 'Avg\\_Winnings\\_Ga'\n",
       "\\item 'Total\\_Bets\\_Ga'\n",
       "\\item 'Nbr\\_Days\\_Played\\_Ga'\n",
       "\\item 'Most\\_Played\\_Month\\_Ga'\n",
       "\\item 'Most\\_Played\\_Day\\_Ga'\n",
       "\\item 'Sum\\_Stakes\\_Ca'\n",
       "\\item 'Avg\\_Stakes\\_Ca'\n",
       "\\item 'Sum\\_Winnings\\_Ca'\n",
       "\\item 'Avg\\_Winnings\\_Ca'\n",
       "\\item 'Total\\_Bets\\_Ca'\n",
       "\\item 'Nbr\\_Days\\_Played\\_Ca'\n",
       "\\item 'Most\\_Played\\_Month\\_Ca'\n",
       "\\item 'Most\\_Played\\_Day\\_Ca'\n",
       "\\item 'Days\\_Ttl'\n",
       "\\item 'Ttl\\_Stakes'\n",
       "\\item 'Ttl\\_Winnings'\n",
       "\\item 'Ttl\\_Bets'\n",
       "\\item 'Segments'\n",
       "\\end{enumerate*}\n"
      ],
      "text/markdown": [
       "1. 'UserID'\n",
       "2. 'RegDate'\n",
       "3. 'FirstPay'\n",
       "4. 'FirstAct'\n",
       "5. 'FirstSp'\n",
       "6. 'FirstCa'\n",
       "7. 'FirstGa'\n",
       "8. 'FirstPo'\n",
       "9. 'Gender'\n",
       "10. 'CountryName'\n",
       "11. 'LanguageName'\n",
       "12. 'ApplicationName'\n",
       "13. 'Activation_Period'\n",
       "14. 'Age'\n",
       "15. 'FOTotalStakes'\n",
       "16. 'FOTotalWinnings'\n",
       "17. 'FOTotalBets'\n",
       "18. 'FOTotalDaysActive'\n",
       "19. 'LATotalStakes'\n",
       "20. 'LATotalWinnings'\n",
       "21. 'LATotalBets'\n",
       "22. 'LATotalDaysActive'\n",
       "23. 'Sum_Stakes_Sp'\n",
       "24. 'Avg_Stakes_Sp'\n",
       "25. 'Sum_Winnings_Sp'\n",
       "26. 'Avg_Winnings_Sp'\n",
       "27. 'Total_Bets_Sp'\n",
       "28. 'Nbr_Days_Played_Sp'\n",
       "29. 'Most_Played_Month_Sp'\n",
       "30. 'Most_Played_Day_Sp'\n",
       "31. 'Nbr_Days_Played'\n",
       "32. 'Most_Played_Day'\n",
       "33. 'Most_Played_Month'\n",
       "34. 'Avg_Sold'\n",
       "35. 'Avg_Bought'\n",
       "36. 'Max_Sold'\n",
       "37. 'Max_Bought'\n",
       "38. 'Morning_Plays'\n",
       "39. 'Noon_Plays'\n",
       "40. 'Evening_Plays'\n",
       "41. 'Midnight_Plays'\n",
       "42. 'Sum_Stakes_Ga'\n",
       "43. 'Avg_Stakes_Ga'\n",
       "44. 'Sum_Winnings_Ga'\n",
       "45. 'Avg_Winnings_Ga'\n",
       "46. 'Total_Bets_Ga'\n",
       "47. 'Nbr_Days_Played_Ga'\n",
       "48. 'Most_Played_Month_Ga'\n",
       "49. 'Most_Played_Day_Ga'\n",
       "50. 'Sum_Stakes_Ca'\n",
       "51. 'Avg_Stakes_Ca'\n",
       "52. 'Sum_Winnings_Ca'\n",
       "53. 'Avg_Winnings_Ca'\n",
       "54. 'Total_Bets_Ca'\n",
       "55. 'Nbr_Days_Played_Ca'\n",
       "56. 'Most_Played_Month_Ca'\n",
       "57. 'Most_Played_Day_Ca'\n",
       "58. 'Days_Ttl'\n",
       "59. 'Ttl_Stakes'\n",
       "60. 'Ttl_Winnings'\n",
       "61. 'Ttl_Bets'\n",
       "62. 'Segments'\n",
       "\n",
       "\n"
      ],
      "text/plain": [
       " [1] \"UserID\"               \"RegDate\"              \"FirstPay\"            \n",
       " [4] \"FirstAct\"             \"FirstSp\"              \"FirstCa\"             \n",
       " [7] \"FirstGa\"              \"FirstPo\"              \"Gender\"              \n",
       "[10] \"CountryName\"          \"LanguageName\"         \"ApplicationName\"     \n",
       "[13] \"Activation_Period\"    \"Age\"                  \"FOTotalStakes\"       \n",
       "[16] \"FOTotalWinnings\"      \"FOTotalBets\"          \"FOTotalDaysActive\"   \n",
       "[19] \"LATotalStakes\"        \"LATotalWinnings\"      \"LATotalBets\"         \n",
       "[22] \"LATotalDaysActive\"    \"Sum_Stakes_Sp\"        \"Avg_Stakes_Sp\"       \n",
       "[25] \"Sum_Winnings_Sp\"      \"Avg_Winnings_Sp\"      \"Total_Bets_Sp\"       \n",
       "[28] \"Nbr_Days_Played_Sp\"   \"Most_Played_Month_Sp\" \"Most_Played_Day_Sp\"  \n",
       "[31] \"Nbr_Days_Played\"      \"Most_Played_Day\"      \"Most_Played_Month\"   \n",
       "[34] \"Avg_Sold\"             \"Avg_Bought\"           \"Max_Sold\"            \n",
       "[37] \"Max_Bought\"           \"Morning_Plays\"        \"Noon_Plays\"          \n",
       "[40] \"Evening_Plays\"        \"Midnight_Plays\"       \"Sum_Stakes_Ga\"       \n",
       "[43] \"Avg_Stakes_Ga\"        \"Sum_Winnings_Ga\"      \"Avg_Winnings_Ga\"     \n",
       "[46] \"Total_Bets_Ga\"        \"Nbr_Days_Played_Ga\"   \"Most_Played_Month_Ga\"\n",
       "[49] \"Most_Played_Day_Ga\"   \"Sum_Stakes_Ca\"        \"Avg_Stakes_Ca\"       \n",
       "[52] \"Sum_Winnings_Ca\"      \"Avg_Winnings_Ca\"      \"Total_Bets_Ca\"       \n",
       "[55] \"Nbr_Days_Played_Ca\"   \"Most_Played_Month_Ca\" \"Most_Played_Day_Ca\"  \n",
       "[58] \"Days_Ttl\"             \"Ttl_Stakes\"           \"Ttl_Winnings\"        \n",
       "[61] \"Ttl_Bets\"             \"Segments\"            "
      ]
     },
     "metadata": {},
     "output_type": "display_data"
    },
    {
     "data": {
      "text/html": [
       "62"
      ],
      "text/latex": [
       "62"
      ],
      "text/markdown": [
       "62"
      ],
      "text/plain": [
       "[1] 62"
      ]
     },
     "metadata": {},
     "output_type": "display_data"
    }
   ],
   "source": [
    "# Checking the Final Columns in our DataMart and their Total Count\n",
    "colnames(Datamart)\n",
    "length(colnames(Datamart))"
   ]
  },
  {
   "cell_type": "code",
   "execution_count": 66,
   "metadata": {},
   "outputs": [],
   "source": [
    "# Exporting our DataMart to CSV File \n",
    "write.csv(Datamart,\"Datamart.csv\", row.names = FALSE)"
   ]
  },
  {
   "cell_type": "code",
   "execution_count": 67,
   "metadata": {},
   "outputs": [],
   "source": [
    "# For Saving in French Style\n",
    "# write.csv2(Datamart,\"Datamarts.csv\", row.names = FALSE)"
   ]
  },
  {
   "cell_type": "markdown",
   "metadata": {},
   "source": [
    "# NOW LET'S START THE BUSINESS INSIGHTS PART!"
   ]
  },
  {
   "cell_type": "markdown",
   "metadata": {},
   "source": [
    "From all the above derived variables we have made to form the final DataMart, we will now try to correlated and find trends. These can help the Marketing Analyst Teams to make informed decisions in terms of Customer Targeting & Market Growth Strategies."
   ]
  },
  {
   "cell_type": "markdown",
   "metadata": {},
   "source": [
    "## PLOT1  (Player \"AGE\" Distribution Graph)"
   ]
  },
  {
   "cell_type": "code",
   "execution_count": 68,
   "metadata": {},
   "outputs": [
    {
     "data": {
      "image/png": "[encoded data removed]",
      "text/plain": [
       "plot without title"
      ]
     },
     "metadata": {},
     "output_type": "display_data"
    }
   ],
   "source": [
    "plot1 <- ggplot(Datamart,aes(x = Age)) +\n",
    "          geom_histogram(binwidth = 2,color=\"white\", fill=\"black\") + \n",
    "               ylab(\"Count of Customers\")\n",
    "\n",
    "plot1"
   ]
  },
  {
   "cell_type": "markdown",
   "metadata": {},
   "source": [
    "## PLOT2 (Player \"GENDER\" Distribution Graph)"
   ]
  },
  {
   "cell_type": "code",
   "execution_count": 69,
   "metadata": {},
   "outputs": [],
   "source": [
    "# Removing NA values from Gender\n",
    "Gender_new <- subset(Datamart, (!is.na(Datamart[,\"Gender\"])))"
   ]
  },
  {
   "cell_type": "code",
   "execution_count": 70,
   "metadata": {},
   "outputs": [
    {
     "data": {
      "image/png": "[encoded data removed]",
      "text/plain": [
       "plot without title"
      ]
     },
     "metadata": {},
     "output_type": "display_data"
    }
   ],
   "source": [
    "plot2 <- ggplot(Gender_new,aes(x = Gender, fill = Gender)) +\n",
    "            geom_bar() +\n",
    "               ylab(\"Count of Customers\")\n",
    "\n",
    "plot2"
   ]
  },
  {
   "cell_type": "markdown",
   "metadata": {},
   "source": [
    "## PLOT3 (Player \"LANGUAGE\" Distribution Graph)"
   ]
  },
  {
   "cell_type": "code",
   "execution_count": 71,
   "metadata": {},
   "outputs": [],
   "source": [
    "# Removing NA values from Language Description column\n",
    "Language_new <- subset(Datamart, (!is.na(Datamart[,\"LanguageName\"])))"
   ]
  },
  {
   "cell_type": "code",
   "execution_count": 72,
   "metadata": {},
   "outputs": [],
   "source": [
    "# Arranging Segments in Descending Order\n",
    "Lang_arranged <- within(Language_new, \n",
    "                   LanguageName <- factor(LanguageName, \n",
    "                                      levels=names(sort(table(LanguageName), \n",
    "                                                        decreasing=TRUE))))"
   ]
  },
  {
   "cell_type": "code",
   "execution_count": 73,
   "metadata": {},
   "outputs": [
    {
     "data": {
      "image/png": "[encoded data removed]",
      "text/plain": [
       "plot without title"
      ]
     },
     "metadata": {},
     "output_type": "display_data"
    }
   ],
   "source": [
    "plot3 <- ggplot(Lang_arranged,aes(x = LanguageName, fill = LanguageName)) +\n",
    "            geom_bar() +\n",
    "               ylab(\"Count of Customers\") + \n",
    "                    theme(axis.title.x=element_blank(), axis.text.x=element_blank(), axis.ticks.x=element_blank())\n",
    "\n",
    "plot3"
   ]
  },
  {
   "cell_type": "markdown",
   "metadata": {},
   "source": [
    "## PLOT4 (Player \"COUNTRY\" Distribution Graph)"
   ]
  },
  {
   "cell_type": "code",
   "execution_count": 74,
   "metadata": {},
   "outputs": [],
   "source": [
    "# Removing NA values from Country column\n",
    "Country_new <- subset(Datamart, (!is.na(Datamart[,\"CountryName\"])))"
   ]
  },
  {
   "cell_type": "code",
   "execution_count": 75,
   "metadata": {},
   "outputs": [],
   "source": [
    "# Arranging Segments in Descending Order\n",
    "Country_arranged <- within(Country_new, \n",
    "                   CountryName <- factor(CountryName, \n",
    "                                      levels=names(sort(table(CountryName), \n",
    "                                                        decreasing=TRUE))))"
   ]
  },
  {
   "cell_type": "code",
   "execution_count": 76,
   "metadata": {},
   "outputs": [],
   "source": [
    "Country_arranged = head(Country_arranged,8)"
   ]
  },
  {
   "cell_type": "code",
   "execution_count": 77,
   "metadata": {},
   "outputs": [
    {
     "data": {
      "image/png": "[encoded data removed]",
      "text/plain": [
       "plot without title"
      ]
     },
     "metadata": {},
     "output_type": "display_data"
    }
   ],
   "source": [
    "plot4 <- ggplot(Country_arranged, aes(x = CountryName, fill = CountryName)) +\n",
    "            geom_bar() +\n",
    "               ylab(\"Count of Customers\") + \n",
    "                    theme(axis.title.x=element_blank(), axis.text.x=element_blank(), axis.ticks.x=element_blank())\n",
    "\n",
    "plot4"
   ]
  },
  {
   "cell_type": "markdown",
   "metadata": {},
   "source": [
    "## PLOT5 (Player \"APPLICATION\" Distribution Graph)"
   ]
  },
  {
   "cell_type": "code",
   "execution_count": 78,
   "metadata": {},
   "outputs": [],
   "source": [
    "# Removing NA values from Application column\n",
    "Application_new <- subset(Datamart, (!is.na(Datamart[,\"ApplicationName\"])))"
   ]
  },
  {
   "cell_type": "code",
   "execution_count": 79,
   "metadata": {},
   "outputs": [],
   "source": [
    "# Arranging Segments in Descending Order\n",
    "App_arranged <- within(Application_new, \n",
    "                   ApplicationName <- factor(ApplicationName, \n",
    "                                      levels=names(sort(table(ApplicationName), \n",
    "                                                        decreasing=TRUE))))"
   ]
  },
  {
   "cell_type": "code",
   "execution_count": 80,
   "metadata": {},
   "outputs": [
    {
     "data": {
      "image/png": "[encoded data removed]",
      "text/plain": [
       "plot without title"
      ]
     },
     "metadata": {},
     "output_type": "display_data"
    }
   ],
   "source": [
    "plot5 <- ggplot(App_arranged,aes(x = ApplicationName, fill = ApplicationName)) +\n",
    "            geom_bar() +\n",
    "               ylab(\"Count of Customers\") + \n",
    "                      theme(axis.title.x=element_blank(), axis.text.x=element_blank(), axis.ticks.x=element_blank())\n",
    "\n",
    "plot5"
   ]
  },
  {
   "cell_type": "markdown",
   "metadata": {},
   "source": [
    "## PLOT6 (Comparing \"Customer Loyalty\" with \"Activation Period\")"
   ]
  },
  {
   "cell_type": "code",
   "execution_count": 81,
   "metadata": {},
   "outputs": [
    {
     "data": {
      "text/html": [
       "<table>\n",
       "<thead><tr><th scope=col>UserID</th><th scope=col>Activation_Period</th><th scope=col>Days_Ttl</th></tr></thead>\n",
       "<tbody>\n",
       "\t<tr><td>1324354</td><td>23 days</td><td>118    </td></tr>\n",
       "\t<tr><td>1324355</td><td> 0 days</td><td>101    </td></tr>\n",
       "\t<tr><td>1324356</td><td> 1 days</td><td> 54    </td></tr>\n",
       "\t<tr><td>1324358</td><td> 0 days</td><td>  8    </td></tr>\n",
       "\t<tr><td>1324360</td><td> 1 days</td><td> 29    </td></tr>\n",
       "</tbody>\n",
       "</table>\n"
      ],
      "text/latex": [
       "\\begin{tabular}{r|lll}\n",
       " UserID & Activation\\_Period & Days\\_Ttl\\\\\n",
       "\\hline\n",
       "\t 1324354 & 23 days & 118    \\\\\n",
       "\t 1324355 &  0 days & 101    \\\\\n",
       "\t 1324356 &  1 days &  54    \\\\\n",
       "\t 1324358 &  0 days &   8    \\\\\n",
       "\t 1324360 &  1 days &  29    \\\\\n",
       "\\end{tabular}\n"
      ],
      "text/markdown": [
       "\n",
       "| UserID | Activation_Period | Days_Ttl |\n",
       "|---|---|---|\n",
       "| 1324354 | 23 days | 118     |\n",
       "| 1324355 |  0 days | 101     |\n",
       "| 1324356 |  1 days |  54     |\n",
       "| 1324358 |  0 days |   8     |\n",
       "| 1324360 |  1 days |  29     |\n",
       "\n"
      ],
      "text/plain": [
       "  UserID  Activation_Period Days_Ttl\n",
       "1 1324354 23 days           118     \n",
       "2 1324355  0 days           101     \n",
       "3 1324356  1 days            54     \n",
       "4 1324358  0 days             8     \n",
       "5 1324360  1 days            29     "
      ]
     },
     "metadata": {},
     "output_type": "display_data"
    }
   ],
   "source": [
    "ActivationVsLoyalty <- Datamart %>%\n",
    "                    filter (!is.na (Activation_Period), !is.na (Days_Ttl)) %>%\n",
    "                        select (UserID, Activation_Period, Days_Ttl)\n",
    "\n",
    "head(ActivationVsLoyalty,5)"
   ]
  },
  {
   "cell_type": "code",
   "execution_count": 82,
   "metadata": {},
   "outputs": [
    {
     "name": "stderr",
     "output_type": "stream",
     "text": [
      "Don't know how to automatically pick scale for object of type difftime. Defaulting to continuous.\n"
     ]
    },
    {
     "data": {
      "image/png": "[encoded data removed]",
      "text/plain": [
       "plot without title"
      ]
     },
     "metadata": {},
     "output_type": "display_data"
    }
   ],
   "source": [
    "plot6 <- ggplot(ActivationVsLoyalty,aes(x = Days_Ttl, y = Activation_Period))+\n",
    "             geom_tile() +\n",
    "               xlab(\"Loyalty (Total no. of Days Played)\") + \n",
    "               ylab(\"Time Delay from Registration and First Payment (Activation Period)\")\n",
    "\n",
    "plot6"
   ]
  },
  {
   "cell_type": "markdown",
   "metadata": {},
   "source": [
    "## PLOT7 (Player \"SEGEMENT\" Distribution Graph)"
   ]
  },
  {
   "cell_type": "code",
   "execution_count": 83,
   "metadata": {},
   "outputs": [],
   "source": [
    "# Removing all NA values \n",
    "Global_segments <- subset(Datamart, (!is.na(Datamart[,\"Segments\"])))"
   ]
  },
  {
   "cell_type": "code",
   "execution_count": 84,
   "metadata": {},
   "outputs": [],
   "source": [
    "# Arranging Segments in Descending Order\n",
    "Seg_arranged <- within(Global_segments, \n",
    "                   Segments <- factor(Segments, \n",
    "                                      levels=names(sort(table(Segments), \n",
    "                                                        decreasing=TRUE))))"
   ]
  },
  {
   "cell_type": "code",
   "execution_count": 85,
   "metadata": {},
   "outputs": [
    {
     "data": {
      "image/png": "[encoded data removed]",
      "text/plain": [
       "plot without title"
      ]
     },
     "metadata": {},
     "output_type": "display_data"
    }
   ],
   "source": [
    "plot7 <- ggplot(Seg_arranged,aes(x = Segments, fill = Segments)) +\n",
    "            geom_bar() + \n",
    "                scale_fill_manual(values = c(\"#663300\", \"#CCCCCC\", \"#FFFFFF\", \"#FFCC33\")) + \n",
    "                    labs(title = \"Segments were derived as per Customer Loyalty (i.e Total no. of Days played)\", \n",
    "                         subtitle = \"[Bronze<Silver<Gold<Platinum]\",\n",
    "                         x = \"Segments\", y = \"Count of Customers\") \n",
    "\n",
    "plot7"
   ]
  },
  {
   "cell_type": "markdown",
   "metadata": {},
   "source": [
    "## PLOT8 (All  Products comparison for \"BEST PLAY DAYS\")"
   ]
  },
  {
   "cell_type": "code",
   "execution_count": 86,
   "metadata": {},
   "outputs": [
    {
     "data": {
      "image/png": "[encoded data removed]",
      "text/plain": [
       "plot without title"
      ]
     },
     "metadata": {},
     "output_type": "display_data"
    }
   ],
   "source": [
    "# FOR POKER\n",
    "\n",
    "y <- Datamart %>%\n",
    "filter (Most_Played_Day != 0) %>%\n",
    "select (UserID, Most_Played_Day)\n",
    "\n",
    "plot8.1 <-  ggplot(y,aes(x = Most_Played_Day, fill = Most_Played_Day)) +\n",
    "          geom_bar() +\n",
    "          coord_polar() +\n",
    "          theme_void() \n",
    "plot8.1"
   ]
  },
  {
   "cell_type": "code",
   "execution_count": 87,
   "metadata": {},
   "outputs": [
    {
     "data": {
      "image/png": "[encoded data removed]",
      "text/plain": [
       "plot without title"
      ]
     },
     "metadata": {},
     "output_type": "display_data"
    }
   ],
   "source": [
    "# FOR GAMES\n",
    "\n",
    "y <- Datamart %>%\n",
    "filter (Most_Played_Day_Ga != 0) %>%\n",
    "select (UserID, Most_Played_Day_Ga)\n",
    "\n",
    "plot8.2 <-  ggplot(y,aes(x = Most_Played_Day_Ga, fill = Most_Played_Day_Ga)) +\n",
    "          geom_bar() +\n",
    "          coord_polar() +\n",
    "          theme_void() \n",
    "plot8.2"
   ]
  },
  {
   "cell_type": "code",
   "execution_count": 88,
   "metadata": {},
   "outputs": [
    {
     "data": {
      "image/png": "[encoded data removed]",
      "text/plain": [
       "plot without title"
      ]
     },
     "metadata": {},
     "output_type": "display_data"
    }
   ],
   "source": [
    "# FOR CASINO\n",
    "\n",
    "y <- Datamart %>%\n",
    "filter (Most_Played_Day_Ca != 0) %>%\n",
    "select (UserID, Most_Played_Day_Ca)\n",
    "\n",
    "plot8.3 <-  ggplot(y,aes(x = Most_Played_Day_Ca, fill = Most_Played_Day_Ca)) +\n",
    "          geom_bar() +\n",
    "          coord_polar() +\n",
    "          theme_void() \n",
    "plot8.3"
   ]
  },
  {
   "cell_type": "code",
   "execution_count": 89,
   "metadata": {},
   "outputs": [
    {
     "data": {
      "image/png": "[encoded data removed]",
      "text/plain": [
       "plot without title"
      ]
     },
     "metadata": {},
     "output_type": "display_data"
    }
   ],
   "source": [
    "# FOR SPORTS\n",
    "\n",
    "y <- Datamart %>%\n",
    "filter (Most_Played_Day_Sp != 0) %>%\n",
    "select (UserID, Most_Played_Day_Sp)\n",
    "\n",
    "plot8.4 <-  ggplot(y,aes(x = Most_Played_Day_Sp, fill = Most_Played_Day_Sp)) +\n",
    "          geom_bar() +\n",
    "          coord_polar() +\n",
    "          theme_void() \n",
    "plot8.4"
   ]
  },
  {
   "cell_type": "markdown",
   "metadata": {},
   "source": [
    "## PLOT9 (All  Products comparison for \"BEST PLAY MONTHS\")"
   ]
  },
  {
   "cell_type": "code",
   "execution_count": 90,
   "metadata": {},
   "outputs": [
    {
     "data": {
      "image/png": "[encoded data removed]",
      "text/plain": [
       "plot without title"
      ]
     },
     "metadata": {},
     "output_type": "display_data"
    }
   ],
   "source": [
    "# For POKER\n",
    "\n",
    "y <- Datamart %>%\n",
    "filter (Most_Played_Month != 0) %>%\n",
    "select (UserID, Most_Played_Month)\n",
    "\n",
    "\n",
    "plot9.1 <-  ggplot(y,aes(x = Most_Played_Month, fill = Most_Played_Month)) +\n",
    "          geom_bar() +\n",
    "          coord_polar() +\n",
    "          theme_void() \n",
    "\n",
    "plot9.1"
   ]
  },
  {
   "cell_type": "code",
   "execution_count": 91,
   "metadata": {},
   "outputs": [
    {
     "data": {
      "image/png": "[encoded data removed]",
      "text/plain": [
       "plot without title"
      ]
     },
     "metadata": {},
     "output_type": "display_data"
    }
   ],
   "source": [
    "# For GAMES\n",
    "\n",
    "y <- Datamart %>%\n",
    "filter (Most_Played_Month_Ga != 0) %>%\n",
    "select (UserID, Most_Played_Month_Ga)\n",
    "\n",
    "\n",
    "plot9.2 <-  ggplot(y,aes(x = Most_Played_Month_Ga, fill = Most_Played_Month_Ga)) +\n",
    "          geom_bar() +\n",
    "          coord_polar() +\n",
    "          theme_void()\n",
    "\n",
    "plot9.2"
   ]
  },
  {
   "cell_type": "code",
   "execution_count": 92,
   "metadata": {},
   "outputs": [
    {
     "data": {
      "image/png": "[encoded data removed]",
      "text/plain": [
       "plot without title"
      ]
     },
     "metadata": {},
     "output_type": "display_data"
    }
   ],
   "source": [
    "# For CASINO\n",
    "\n",
    "y <- Datamart %>%\n",
    "filter (Most_Played_Month_Ca != 0) %>%\n",
    "select (UserID, Most_Played_Month_Ca)\n",
    "\n",
    "\n",
    "plot9.3 <-  ggplot(y,aes(x = Most_Played_Month_Ca, fill = Most_Played_Month_Ca)) +\n",
    "          geom_bar() +\n",
    "          coord_polar() +\n",
    "          theme_void()\n",
    "\n",
    "plot9.3"
   ]
  },
  {
   "cell_type": "code",
   "execution_count": 93,
   "metadata": {},
   "outputs": [
    {
     "data": {
      "image/png": "[encoded data removed]",
      "text/plain": [
       "plot without title"
      ]
     },
     "metadata": {},
     "output_type": "display_data"
    }
   ],
   "source": [
    "# For SPORTS\n",
    "\n",
    "y <- Datamart %>%\n",
    "filter (Most_Played_Month_Sp != 0) %>%\n",
    "select (UserID, Most_Played_Month_Sp)\n",
    "\n",
    "\n",
    "plot9.4 <-  ggplot(y,aes(x = Most_Played_Month_Sp, fill = Most_Played_Month_Sp)) +\n",
    "          geom_bar() +\n",
    "          coord_polar() +\n",
    "          theme_void() \n",
    "\n",
    "plot9.4"
   ]
  },
  {
   "cell_type": "markdown",
   "metadata": {},
   "source": [
    "## PLOT10 (GLOBAL MAPS - Global_Stakes, Global_Winnings, Global_Bets)"
   ]
  },
  {
   "cell_type": "code",
   "execution_count": 94,
   "metadata": {},
   "outputs": [],
   "source": [
    "Global_Consumption <- as_tibble(Datamart)\n",
    "\n",
    "Global_Consumption <-ddply(Global_Consumption,.(CountryName),summarize,\n",
    "                                        Global_Stakes = sum(Ttl_Stakes),\n",
    "                                        Global_Winnings = sum(Ttl_Winnings),\n",
    "                                        Global_Bets = sum(Ttl_Bets),\n",
    "                                       .drop = FALSE)"
   ]
  },
  {
   "cell_type": "code",
   "execution_count": 95,
   "metadata": {},
   "outputs": [
    {
     "data": {
      "text/html": [
       "<table>\n",
       "<thead><tr><th scope=col>CountryName</th><th scope=col>Global_Stakes</th><th scope=col>Global_Winnings</th><th scope=col>Global_Bets</th></tr></thead>\n",
       "<tbody>\n",
       "\t<tr><td>Albania </td><td>34476.92</td><td>31251.26</td><td>12672   </td></tr>\n",
       "\t<tr><td>Andorra </td><td> 4306.72</td><td> 3947.73</td><td> 1156   </td></tr>\n",
       "</tbody>\n",
       "</table>\n"
      ],
      "text/latex": [
       "\\begin{tabular}{r|llll}\n",
       " CountryName & Global\\_Stakes & Global\\_Winnings & Global\\_Bets\\\\\n",
       "\\hline\n",
       "\t Albania  & 34476.92 & 31251.26 & 12672   \\\\\n",
       "\t Andorra  &  4306.72 &  3947.73 &  1156   \\\\\n",
       "\\end{tabular}\n"
      ],
      "text/markdown": [
       "\n",
       "| CountryName | Global_Stakes | Global_Winnings | Global_Bets |\n",
       "|---|---|---|---|\n",
       "| Albania  | 34476.92 | 31251.26 | 12672    |\n",
       "| Andorra  |  4306.72 |  3947.73 |  1156    |\n",
       "\n"
      ],
      "text/plain": [
       "  CountryName Global_Stakes Global_Winnings Global_Bets\n",
       "1 Albania     34476.92      31251.26        12672      \n",
       "2 Andorra      4306.72       3947.73         1156      "
      ]
     },
     "metadata": {},
     "output_type": "display_data"
    }
   ],
   "source": [
    "head(Global_Consumption,2)"
   ]
  },
  {
   "cell_type": "code",
   "execution_count": 96,
   "metadata": {},
   "outputs": [],
   "source": [
    "# Removing all the NA values\n",
    "Global_Consumption <- subset(Global_Consumption, (!is.na(Global_Consumption[,2])))"
   ]
  },
  {
   "cell_type": "code",
   "execution_count": 97,
   "metadata": {},
   "outputs": [
    {
     "data": {
      "text/html": [
       "<table>\n",
       "<thead><tr><th scope=col>CountryName</th><th scope=col>Global_Stakes</th><th scope=col>Global_Winnings</th><th scope=col>Global_Bets</th></tr></thead>\n",
       "<tbody>\n",
       "\t<tr><td>Albania </td><td>34476.92</td><td>31251.26</td><td>12672   </td></tr>\n",
       "\t<tr><td>Andorra </td><td> 4306.72</td><td> 3947.73</td><td> 1156   </td></tr>\n",
       "</tbody>\n",
       "</table>\n"
      ],
      "text/latex": [
       "\\begin{tabular}{r|llll}\n",
       " CountryName & Global\\_Stakes & Global\\_Winnings & Global\\_Bets\\\\\n",
       "\\hline\n",
       "\t Albania  & 34476.92 & 31251.26 & 12672   \\\\\n",
       "\t Andorra  &  4306.72 &  3947.73 &  1156   \\\\\n",
       "\\end{tabular}\n"
      ],
      "text/markdown": [
       "\n",
       "| CountryName | Global_Stakes | Global_Winnings | Global_Bets |\n",
       "|---|---|---|---|\n",
       "| Albania  | 34476.92 | 31251.26 | 12672    |\n",
       "| Andorra  |  4306.72 |  3947.73 |  1156    |\n",
       "\n"
      ],
      "text/plain": [
       "  CountryName Global_Stakes Global_Winnings Global_Bets\n",
       "1 Albania     34476.92      31251.26        12672      \n",
       "2 Andorra      4306.72       3947.73         1156      "
      ]
     },
     "metadata": {},
     "output_type": "display_data"
    }
   ],
   "source": [
    "head(Global_Consumption, 2)"
   ]
  },
  {
   "cell_type": "code",
   "execution_count": 98,
   "metadata": {},
   "outputs": [
    {
     "name": "stderr",
     "output_type": "stream",
     "text": [
      "Loading required package: rworldmap\n",
      "Loading required package: sp\n",
      "### Welcome to rworldmap ###\n",
      "For a short introduction type : \t vignette('rworldmap')\n"
     ]
    },
    {
     "name": "stdout",
     "output_type": "stream",
     "text": [
      "53 codes from your data successfully matched countries in the map\n",
      "8 codes from your data failed to match with a country code in the map\n",
      "190 codes from the map weren't represented in your data\n"
     ]
    }
   ],
   "source": [
    "if(!require(\"rworldmap\")) install.packages(\"rworldmap\"); library(\"rworldmap\")\n",
    "\n",
    "# Create a map-shaped window\n",
    "mapDevice('x11')\n",
    "\n",
    "# Join to a coarse resolution map\n",
    "spdf <- joinCountryData2Map(Global_Consumption, joinCode=\"NAME\", nameJoinColumn=\"CountryName\")"
   ]
  },
  {
   "cell_type": "code",
   "execution_count": 99,
   "metadata": {},
   "outputs": [
    {
     "data": {
      "text/html": [
       "<dl>\n",
       "\t<dt>$colourVector</dt>\n",
       "\t\t<dd><ol class=list-inline>\n",
       "\t<li>'#FFFF80FF'</li>\n",
       "\t<li>'#FFFF00FF'</li>\n",
       "\t<li>'#FFCC00FF'</li>\n",
       "\t<li>'#FF9900FF'</li>\n",
       "\t<li>'#FF6600FF'</li>\n",
       "\t<li>'#FF3300FF'</li>\n",
       "\t<li>'#FF0000FF'</li>\n",
       "</ol>\n",
       "</dd>\n",
       "\t<dt>$cutVector</dt>\n",
       "\t\t<dd><ol class=list-inline>\n",
       "\t<li>127.0562</li>\n",
       "\t<li>621718.816714286</li>\n",
       "\t<li>1243310.57722857</li>\n",
       "\t<li>1864902.33774286</li>\n",
       "\t<li>2486494.09825714</li>\n",
       "\t<li>3108085.85877143</li>\n",
       "\t<li>3729677.61928571</li>\n",
       "\t<li>4351269.3798</li>\n",
       "</ol>\n",
       "</dd>\n",
       "\t<dt>$plottedData</dt>\n",
       "\t\t<dd><ol class=list-inline>\n",
       "\t<li>&lt;NA&gt;</li>\n",
       "\t<li>&lt;NA&gt;</li>\n",
       "\t<li>34476.9198</li>\n",
       "\t<li>127.0562</li>\n",
       "\t<li>6257.1495</li>\n",
       "\t<li>&lt;NA&gt;</li>\n",
       "\t<li>&lt;NA&gt;</li>\n",
       "\t<li>&lt;NA&gt;</li>\n",
       "\t<li>&lt;NA&gt;</li>\n",
       "\t<li>&lt;NA&gt;</li>\n",
       "\t<li>&lt;NA&gt;</li>\n",
       "\t<li>&lt;NA&gt;</li>\n",
       "\t<li>&lt;NA&gt;</li>\n",
       "\t<li>&lt;NA&gt;</li>\n",
       "\t<li>&lt;NA&gt;</li>\n",
       "\t<li>&lt;NA&gt;</li>\n",
       "\t<li>28630.1433</li>\n",
       "\t<li>&lt;NA&gt;</li>\n",
       "\t<li>890.82</li>\n",
       "\t<li>5384.1914</li>\n",
       "\t<li>&lt;NA&gt;</li>\n",
       "\t<li>&lt;NA&gt;</li>\n",
       "\t<li>&lt;NA&gt;</li>\n",
       "\t<li>&lt;NA&gt;</li>\n",
       "\t<li>&lt;NA&gt;</li>\n",
       "\t<li>&lt;NA&gt;</li>\n",
       "\t<li>&lt;NA&gt;</li>\n",
       "\t<li>&lt;NA&gt;</li>\n",
       "\t<li>4351269.3798</li>\n",
       "\t<li>&lt;NA&gt;</li>\n",
       "\t<li>&lt;NA&gt;</li>\n",
       "\t<li>&lt;NA&gt;</li>\n",
       "\t<li>&lt;NA&gt;</li>\n",
       "\t<li>&lt;NA&gt;</li>\n",
       "\t<li>&lt;NA&gt;</li>\n",
       "\t<li>505.54</li>\n",
       "\t<li>788.5545</li>\n",
       "\t<li>&lt;NA&gt;</li>\n",
       "\t<li>&lt;NA&gt;</li>\n",
       "\t<li>405609.5525</li>\n",
       "\t<li>590919.3426</li>\n",
       "\t<li>&lt;NA&gt;</li>\n",
       "\t<li>&lt;NA&gt;</li>\n",
       "\t<li>&lt;NA&gt;</li>\n",
       "\t<li>&lt;NA&gt;</li>\n",
       "\t<li>&lt;NA&gt;</li>\n",
       "\t<li>&lt;NA&gt;</li>\n",
       "\t<li>&lt;NA&gt;</li>\n",
       "\t<li>&lt;NA&gt;</li>\n",
       "\t<li>&lt;NA&gt;</li>\n",
       "\t<li>3737.2772</li>\n",
       "\t<li>&lt;NA&gt;</li>\n",
       "\t<li>243792.2648</li>\n",
       "\t<li>&lt;NA&gt;</li>\n",
       "\t<li>&lt;NA&gt;</li>\n",
       "\t<li>&lt;NA&gt;</li>\n",
       "\t<li>&lt;NA&gt;</li>\n",
       "\t<li>&lt;NA&gt;</li>\n",
       "\t<li>744.2203</li>\n",
       "\t<li>&lt;NA&gt;</li>\n",
       "\t<li>&lt;NA&gt;</li>\n",
       "\t<li>&lt;NA&gt;</li>\n",
       "\t<li>&lt;NA&gt;</li>\n",
       "\t<li>&lt;NA&gt;</li>\n",
       "\t<li>&lt;NA&gt;</li>\n",
       "\t<li>24093.9451</li>\n",
       "\t<li>&lt;NA&gt;</li>\n",
       "\t<li>&lt;NA&gt;</li>\n",
       "\t<li>&lt;NA&gt;</li>\n",
       "\t<li>803376.8153</li>\n",
       "\t<li>&lt;NA&gt;</li>\n",
       "\t<li>185840.4546</li>\n",
       "\t<li>&lt;NA&gt;</li>\n",
       "\t<li>&lt;NA&gt;</li>\n",
       "\t<li>2279.55</li>\n",
       "\t<li>&lt;NA&gt;</li>\n",
       "\t<li>&lt;NA&gt;</li>\n",
       "\t<li>7169.0415</li>\n",
       "\t<li>94047.3769</li>\n",
       "\t<li>&lt;NA&gt;</li>\n",
       "\t<li>&lt;NA&gt;</li>\n",
       "\t<li>&lt;NA&gt;</li>\n",
       "\t<li>31068.0737</li>\n",
       "\t<li>&lt;NA&gt;</li>\n",
       "\t<li>&lt;NA&gt;</li>\n",
       "\t<li>&lt;NA&gt;</li>\n",
       "\t<li>&lt;NA&gt;</li>\n",
       "\t<li>&lt;NA&gt;</li>\n",
       "\t<li>&lt;NA&gt;</li>\n",
       "\t<li>&lt;NA&gt;</li>\n",
       "\t<li>&lt;NA&gt;</li>\n",
       "\t<li>72352.6179</li>\n",
       "\t<li>&lt;NA&gt;</li>\n",
       "\t<li>&lt;NA&gt;</li>\n",
       "\t<li>&lt;NA&gt;</li>\n",
       "\t<li>&lt;NA&gt;</li>\n",
       "\t<li>46817.9038</li>\n",
       "\t<li>&lt;NA&gt;</li>\n",
       "\t<li>4041.6352</li>\n",
       "\t<li>1411.98</li>\n",
       "\t<li>&lt;NA&gt;</li>\n",
       "\t<li>&lt;NA&gt;</li>\n",
       "\t<li>821.12</li>\n",
       "\t<li>960.8</li>\n",
       "\t<li>&lt;NA&gt;</li>\n",
       "\t<li>&lt;NA&gt;</li>\n",
       "\t<li>&lt;NA&gt;</li>\n",
       "\t<li>153.08</li>\n",
       "\t<li>&lt;NA&gt;</li>\n",
       "\t<li>&lt;NA&gt;</li>\n",
       "\t<li>&lt;NA&gt;</li>\n",
       "\t<li>&lt;NA&gt;</li>\n",
       "\t<li>&lt;NA&gt;</li>\n",
       "\t<li>&lt;NA&gt;</li>\n",
       "\t<li>&lt;NA&gt;</li>\n",
       "\t<li>325.2611</li>\n",
       "\t<li>&lt;NA&gt;</li>\n",
       "\t<li>&lt;NA&gt;</li>\n",
       "\t<li>&lt;NA&gt;</li>\n",
       "\t<li>&lt;NA&gt;</li>\n",
       "\t<li>238.35</li>\n",
       "\t<li>&lt;NA&gt;</li>\n",
       "\t<li>&lt;NA&gt;</li>\n",
       "\t<li>&lt;NA&gt;</li>\n",
       "\t<li>&lt;NA&gt;</li>\n",
       "\t<li>&lt;NA&gt;</li>\n",
       "\t<li>&lt;NA&gt;</li>\n",
       "\t<li>&lt;NA&gt;</li>\n",
       "\t<li>1320.8904</li>\n",
       "\t<li>&lt;NA&gt;</li>\n",
       "\t<li>864901.3567</li>\n",
       "\t<li>&lt;NA&gt;</li>\n",
       "\t<li>&lt;NA&gt;</li>\n",
       "\t<li>23285.0576</li>\n",
       "\t<li>200500.6727</li>\n",
       "\t<li>&lt;NA&gt;</li>\n",
       "\t<li>&lt;NA&gt;</li>\n",
       "\t<li>&lt;NA&gt;</li>\n",
       "\t<li>&lt;NA&gt;</li>\n",
       "\t<li>&lt;NA&gt;</li>\n",
       "\t<li>&lt;NA&gt;</li>\n",
       "\t<li>&lt;NA&gt;</li>\n",
       "\t<li>&lt;NA&gt;</li>\n",
       "\t<li>&lt;NA&gt;</li>\n",
       "\t<li>&lt;NA&gt;</li>\n",
       "\t<li>&lt;NA&gt;</li>\n",
       "\t<li>&lt;NA&gt;</li>\n",
       "\t<li>336309.9406</li>\n",
       "\t<li>277453.9362</li>\n",
       "\t<li>&lt;NA&gt;</li>\n",
       "\t<li>&lt;NA&gt;</li>\n",
       "\t<li>426.41</li>\n",
       "\t<li>&lt;NA&gt;</li>\n",
       "\t<li>&lt;NA&gt;</li>\n",
       "\t<li>1726.8812</li>\n",
       "\t<li>&lt;NA&gt;</li>\n",
       "\t<li>&lt;NA&gt;</li>\n",
       "\t<li>&lt;NA&gt;</li>\n",
       "\t<li>&lt;NA&gt;</li>\n",
       "\t<li>&lt;NA&gt;</li>\n",
       "\t<li>&lt;NA&gt;</li>\n",
       "\t<li>1352.6061</li>\n",
       "\t<li>&lt;NA&gt;</li>\n",
       "\t<li>&lt;NA&gt;</li>\n",
       "\t<li>683.8871</li>\n",
       "\t<li>286.7811</li>\n",
       "\t<li>&lt;NA&gt;</li>\n",
       "\t<li>&lt;NA&gt;</li>\n",
       "\t<li>&lt;NA&gt;</li>\n",
       "\t<li>138.12</li>\n",
       "\t<li>&lt;NA&gt;</li>\n",
       "\t<li>&lt;NA&gt;</li>\n",
       "\t<li>&lt;NA&gt;</li>\n",
       "\t<li>40896.5742</li>\n",
       "\t<li>&lt;NA&gt;</li>\n",
       "\t<li>&lt;NA&gt;</li>\n",
       "\t<li>&lt;NA&gt;</li>\n",
       "\t<li>&lt;NA&gt;</li>\n",
       "\t<li>&lt;NA&gt;</li>\n",
       "\t<li>4306.72</li>\n",
       "\t<li>&lt;NA&gt;</li>\n",
       "\t<li>&lt;NA&gt;</li>\n",
       "\t<li>&lt;NA&gt;</li>\n",
       "\t<li>&lt;NA&gt;</li>\n",
       "\t<li>&lt;NA&gt;</li>\n",
       "\t<li>6977.0531</li>\n",
       "\t<li>&lt;NA&gt;</li>\n",
       "\t<li>&lt;NA&gt;</li>\n",
       "\t<li>&lt;NA&gt;</li>\n",
       "\t<li>&lt;NA&gt;</li>\n",
       "\t<li>&lt;NA&gt;</li>\n",
       "\t<li>&lt;NA&gt;</li>\n",
       "\t<li>&lt;NA&gt;</li>\n",
       "\t<li>&lt;NA&gt;</li>\n",
       "\t<li>&lt;NA&gt;</li>\n",
       "\t<li>&lt;NA&gt;</li>\n",
       "\t<li>&lt;NA&gt;</li>\n",
       "\t<li>&lt;NA&gt;</li>\n",
       "\t<li>&lt;NA&gt;</li>\n",
       "\t<li>&lt;NA&gt;</li>\n",
       "\t<li>&lt;NA&gt;</li>\n",
       "\t<li>&lt;NA&gt;</li>\n",
       "\t<li>&lt;NA&gt;</li>\n",
       "\t<li>&lt;NA&gt;</li>\n",
       "\t<li>&lt;NA&gt;</li>\n",
       "\t<li>&lt;NA&gt;</li>\n",
       "\t<li>&lt;NA&gt;</li>\n",
       "\t<li>&lt;NA&gt;</li>\n",
       "\t<li>&lt;NA&gt;</li>\n",
       "\t<li>96228.9592</li>\n",
       "\t<li>&lt;NA&gt;</li>\n",
       "\t<li>&lt;NA&gt;</li>\n",
       "\t<li>463.5</li>\n",
       "\t<li>&lt;NA&gt;</li>\n",
       "\t<li>&lt;NA&gt;</li>\n",
       "\t<li>17748.2035</li>\n",
       "\t<li>&lt;NA&gt;</li>\n",
       "\t<li>&lt;NA&gt;</li>\n",
       "\t<li>840.8807</li>\n",
       "\t<li>1897.4854</li>\n",
       "\t<li>&lt;NA&gt;</li>\n",
       "\t<li>&lt;NA&gt;</li>\n",
       "\t<li>168.197</li>\n",
       "\t<li>&lt;NA&gt;</li>\n",
       "\t<li>&lt;NA&gt;</li>\n",
       "\t<li>959.97</li>\n",
       "\t<li>&lt;NA&gt;</li>\n",
       "\t<li>&lt;NA&gt;</li>\n",
       "\t<li>&lt;NA&gt;</li>\n",
       "\t<li>&lt;NA&gt;</li>\n",
       "\t<li>&lt;NA&gt;</li>\n",
       "\t<li>&lt;NA&gt;</li>\n",
       "\t<li>&lt;NA&gt;</li>\n",
       "\t<li>&lt;NA&gt;</li>\n",
       "\t<li>&lt;NA&gt;</li>\n",
       "\t<li>&lt;NA&gt;</li>\n",
       "\t<li>&lt;NA&gt;</li>\n",
       "\t<li>&lt;NA&gt;</li>\n",
       "\t<li>4290.4409</li>\n",
       "\t<li>&lt;NA&gt;</li>\n",
       "\t<li>&lt;NA&gt;</li>\n",
       "\t<li>&lt;NA&gt;</li>\n",
       "\t<li>&lt;NA&gt;</li>\n",
       "</ol>\n",
       "</dd>\n",
       "\t<dt>$catMethod</dt>\n",
       "\t\t<dd>'fixedWidth'</dd>\n",
       "\t<dt>$colourPalette</dt>\n",
       "\t\t<dd>'heat'</dd>\n",
       "</dl>\n"
      ],
      "text/latex": [
       "\\begin{description}\n",
       "\\item[\\$colourVector] \\begin{enumerate*}\n",
       "\\item '\\#FFFF80FF'\n",
       "\\item '\\#FFFF00FF'\n",
       "\\item '\\#FFCC00FF'\n",
       "\\item '\\#FF9900FF'\n",
       "\\item '\\#FF6600FF'\n",
       "\\item '\\#FF3300FF'\n",
       "\\item '\\#FF0000FF'\n",
       "\\end{enumerate*}\n",
       "\n",
       "\\item[\\$cutVector] \\begin{enumerate*}\n",
       "\\item 127.0562\n",
       "\\item 621718.816714286\n",
       "\\item 1243310.57722857\n",
       "\\item 1864902.33774286\n",
       "\\item 2486494.09825714\n",
       "\\item 3108085.85877143\n",
       "\\item 3729677.61928571\n",
       "\\item 4351269.3798\n",
       "\\end{enumerate*}\n",
       "\n",
       "\\item[\\$plottedData] \\begin{enumerate*}\n",
       "\\item <NA>\n",
       "\\item <NA>\n",
       "\\item 34476.9198\n",
       "\\item 127.0562\n",
       "\\item 6257.1495\n",
       "\\item <NA>\n",
       "\\item <NA>\n",
       "\\item <NA>\n",
       "\\item <NA>\n",
       "\\item <NA>\n",
       "\\item <NA>\n",
       "\\item <NA>\n",
       "\\item <NA>\n",
       "\\item <NA>\n",
       "\\item <NA>\n",
       "\\item <NA>\n",
       "\\item 28630.1433\n",
       "\\item <NA>\n",
       "\\item 890.82\n",
       "\\item 5384.1914\n",
       "\\item <NA>\n",
       "\\item <NA>\n",
       "\\item <NA>\n",
       "\\item <NA>\n",
       "\\item <NA>\n",
       "\\item <NA>\n",
       "\\item <NA>\n",
       "\\item <NA>\n",
       "\\item 4351269.3798\n",
       "\\item <NA>\n",
       "\\item <NA>\n",
       "\\item <NA>\n",
       "\\item <NA>\n",
       "\\item <NA>\n",
       "\\item <NA>\n",
       "\\item 505.54\n",
       "\\item 788.5545\n",
       "\\item <NA>\n",
       "\\item <NA>\n",
       "\\item 405609.5525\n",
       "\\item 590919.3426\n",
       "\\item <NA>\n",
       "\\item <NA>\n",
       "\\item <NA>\n",
       "\\item <NA>\n",
       "\\item <NA>\n",
       "\\item <NA>\n",
       "\\item <NA>\n",
       "\\item <NA>\n",
       "\\item <NA>\n",
       "\\item 3737.2772\n",
       "\\item <NA>\n",
       "\\item 243792.2648\n",
       "\\item <NA>\n",
       "\\item <NA>\n",
       "\\item <NA>\n",
       "\\item <NA>\n",
       "\\item <NA>\n",
       "\\item 744.2203\n",
       "\\item <NA>\n",
       "\\item <NA>\n",
       "\\item <NA>\n",
       "\\item <NA>\n",
       "\\item <NA>\n",
       "\\item <NA>\n",
       "\\item 24093.9451\n",
       "\\item <NA>\n",
       "\\item <NA>\n",
       "\\item <NA>\n",
       "\\item 803376.8153\n",
       "\\item <NA>\n",
       "\\item 185840.4546\n",
       "\\item <NA>\n",
       "\\item <NA>\n",
       "\\item 2279.55\n",
       "\\item <NA>\n",
       "\\item <NA>\n",
       "\\item 7169.0415\n",
       "\\item 94047.3769\n",
       "\\item <NA>\n",
       "\\item <NA>\n",
       "\\item <NA>\n",
       "\\item 31068.0737\n",
       "\\item <NA>\n",
       "\\item <NA>\n",
       "\\item <NA>\n",
       "\\item <NA>\n",
       "\\item <NA>\n",
       "\\item <NA>\n",
       "\\item <NA>\n",
       "\\item <NA>\n",
       "\\item 72352.6179\n",
       "\\item <NA>\n",
       "\\item <NA>\n",
       "\\item <NA>\n",
       "\\item <NA>\n",
       "\\item 46817.9038\n",
       "\\item <NA>\n",
       "\\item 4041.6352\n",
       "\\item 1411.98\n",
       "\\item <NA>\n",
       "\\item <NA>\n",
       "\\item 821.12\n",
       "\\item 960.8\n",
       "\\item <NA>\n",
       "\\item <NA>\n",
       "\\item <NA>\n",
       "\\item 153.08\n",
       "\\item <NA>\n",
       "\\item <NA>\n",
       "\\item <NA>\n",
       "\\item <NA>\n",
       "\\item <NA>\n",
       "\\item <NA>\n",
       "\\item <NA>\n",
       "\\item 325.2611\n",
       "\\item <NA>\n",
       "\\item <NA>\n",
       "\\item <NA>\n",
       "\\item <NA>\n",
       "\\item 238.35\n",
       "\\item <NA>\n",
       "\\item <NA>\n",
       "\\item <NA>\n",
       "\\item <NA>\n",
       "\\item <NA>\n",
       "\\item <NA>\n",
       "\\item <NA>\n",
       "\\item 1320.8904\n",
       "\\item <NA>\n",
       "\\item 864901.3567\n",
       "\\item <NA>\n",
       "\\item <NA>\n",
       "\\item 23285.0576\n",
       "\\item 200500.6727\n",
       "\\item <NA>\n",
       "\\item <NA>\n",
       "\\item <NA>\n",
       "\\item <NA>\n",
       "\\item <NA>\n",
       "\\item <NA>\n",
       "\\item <NA>\n",
       "\\item <NA>\n",
       "\\item <NA>\n",
       "\\item <NA>\n",
       "\\item <NA>\n",
       "\\item <NA>\n",
       "\\item 336309.9406\n",
       "\\item 277453.9362\n",
       "\\item <NA>\n",
       "\\item <NA>\n",
       "\\item 426.41\n",
       "\\item <NA>\n",
       "\\item <NA>\n",
       "\\item 1726.8812\n",
       "\\item <NA>\n",
       "\\item <NA>\n",
       "\\item <NA>\n",
       "\\item <NA>\n",
       "\\item <NA>\n",
       "\\item <NA>\n",
       "\\item 1352.6061\n",
       "\\item <NA>\n",
       "\\item <NA>\n",
       "\\item 683.8871\n",
       "\\item 286.7811\n",
       "\\item <NA>\n",
       "\\item <NA>\n",
       "\\item <NA>\n",
       "\\item 138.12\n",
       "\\item <NA>\n",
       "\\item <NA>\n",
       "\\item <NA>\n",
       "\\item 40896.5742\n",
       "\\item <NA>\n",
       "\\item <NA>\n",
       "\\item <NA>\n",
       "\\item <NA>\n",
       "\\item <NA>\n",
       "\\item 4306.72\n",
       "\\item <NA>\n",
       "\\item <NA>\n",
       "\\item <NA>\n",
       "\\item <NA>\n",
       "\\item <NA>\n",
       "\\item 6977.0531\n",
       "\\item <NA>\n",
       "\\item <NA>\n",
       "\\item <NA>\n",
       "\\item <NA>\n",
       "\\item <NA>\n",
       "\\item <NA>\n",
       "\\item <NA>\n",
       "\\item <NA>\n",
       "\\item <NA>\n",
       "\\item <NA>\n",
       "\\item <NA>\n",
       "\\item <NA>\n",
       "\\item <NA>\n",
       "\\item <NA>\n",
       "\\item <NA>\n",
       "\\item <NA>\n",
       "\\item <NA>\n",
       "\\item <NA>\n",
       "\\item <NA>\n",
       "\\item <NA>\n",
       "\\item <NA>\n",
       "\\item <NA>\n",
       "\\item <NA>\n",
       "\\item 96228.9592\n",
       "\\item <NA>\n",
       "\\item <NA>\n",
       "\\item 463.5\n",
       "\\item <NA>\n",
       "\\item <NA>\n",
       "\\item 17748.2035\n",
       "\\item <NA>\n",
       "\\item <NA>\n",
       "\\item 840.8807\n",
       "\\item 1897.4854\n",
       "\\item <NA>\n",
       "\\item <NA>\n",
       "\\item 168.197\n",
       "\\item <NA>\n",
       "\\item <NA>\n",
       "\\item 959.97\n",
       "\\item <NA>\n",
       "\\item <NA>\n",
       "\\item <NA>\n",
       "\\item <NA>\n",
       "\\item <NA>\n",
       "\\item <NA>\n",
       "\\item <NA>\n",
       "\\item <NA>\n",
       "\\item <NA>\n",
       "\\item <NA>\n",
       "\\item <NA>\n",
       "\\item <NA>\n",
       "\\item 4290.4409\n",
       "\\item <NA>\n",
       "\\item <NA>\n",
       "\\item <NA>\n",
       "\\item <NA>\n",
       "\\end{enumerate*}\n",
       "\n",
       "\\item[\\$catMethod] 'fixedWidth'\n",
       "\\item[\\$colourPalette] 'heat'\n",
       "\\end{description}\n"
      ],
      "text/markdown": [
       "$colourVector\n",
       ":   1. '#FFFF80FF'\n",
       "2. '#FFFF00FF'\n",
       "3. '#FFCC00FF'\n",
       "4. '#FF9900FF'\n",
       "5. '#FF6600FF'\n",
       "6. '#FF3300FF'\n",
       "7. '#FF0000FF'\n",
       "\n",
       "\n",
       "\n",
       "$cutVector\n",
       ":   1. 127.0562\n",
       "2. 621718.816714286\n",
       "3. 1243310.57722857\n",
       "4. 1864902.33774286\n",
       "5. 2486494.09825714\n",
       "6. 3108085.85877143\n",
       "7. 3729677.61928571\n",
       "8. 4351269.3798\n",
       "\n",
       "\n",
       "\n",
       "$plottedData\n",
       ":   1. &lt;NA&gt;\n",
       "2. &lt;NA&gt;\n",
       "3. 34476.9198\n",
       "4. 127.0562\n",
       "5. 6257.1495\n",
       "6. &lt;NA&gt;\n",
       "7. &lt;NA&gt;\n",
       "8. &lt;NA&gt;\n",
       "9. &lt;NA&gt;\n",
       "10. &lt;NA&gt;\n",
       "11. &lt;NA&gt;\n",
       "12. &lt;NA&gt;\n",
       "13. &lt;NA&gt;\n",
       "14. &lt;NA&gt;\n",
       "15. &lt;NA&gt;\n",
       "16. &lt;NA&gt;\n",
       "17. 28630.1433\n",
       "18. &lt;NA&gt;\n",
       "19. 890.82\n",
       "20. 5384.1914\n",
       "21. &lt;NA&gt;\n",
       "22. &lt;NA&gt;\n",
       "23. &lt;NA&gt;\n",
       "24. &lt;NA&gt;\n",
       "25. &lt;NA&gt;\n",
       "26. &lt;NA&gt;\n",
       "27. &lt;NA&gt;\n",
       "28. &lt;NA&gt;\n",
       "29. 4351269.3798\n",
       "30. &lt;NA&gt;\n",
       "31. &lt;NA&gt;\n",
       "32. &lt;NA&gt;\n",
       "33. &lt;NA&gt;\n",
       "34. &lt;NA&gt;\n",
       "35. &lt;NA&gt;\n",
       "36. 505.54\n",
       "37. 788.5545\n",
       "38. &lt;NA&gt;\n",
       "39. &lt;NA&gt;\n",
       "40. 405609.5525\n",
       "41. 590919.3426\n",
       "42. &lt;NA&gt;\n",
       "43. &lt;NA&gt;\n",
       "44. &lt;NA&gt;\n",
       "45. &lt;NA&gt;\n",
       "46. &lt;NA&gt;\n",
       "47. &lt;NA&gt;\n",
       "48. &lt;NA&gt;\n",
       "49. &lt;NA&gt;\n",
       "50. &lt;NA&gt;\n",
       "51. 3737.2772\n",
       "52. &lt;NA&gt;\n",
       "53. 243792.2648\n",
       "54. &lt;NA&gt;\n",
       "55. &lt;NA&gt;\n",
       "56. &lt;NA&gt;\n",
       "57. &lt;NA&gt;\n",
       "58. &lt;NA&gt;\n",
       "59. 744.2203\n",
       "60. &lt;NA&gt;\n",
       "61. &lt;NA&gt;\n",
       "62. &lt;NA&gt;\n",
       "63. &lt;NA&gt;\n",
       "64. &lt;NA&gt;\n",
       "65. &lt;NA&gt;\n",
       "66. 24093.9451\n",
       "67. &lt;NA&gt;\n",
       "68. &lt;NA&gt;\n",
       "69. &lt;NA&gt;\n",
       "70. 803376.8153\n",
       "71. &lt;NA&gt;\n",
       "72. 185840.4546\n",
       "73. &lt;NA&gt;\n",
       "74. &lt;NA&gt;\n",
       "75. 2279.55\n",
       "76. &lt;NA&gt;\n",
       "77. &lt;NA&gt;\n",
       "78. 7169.0415\n",
       "79. 94047.3769\n",
       "80. &lt;NA&gt;\n",
       "81. &lt;NA&gt;\n",
       "82. &lt;NA&gt;\n",
       "83. 31068.0737\n",
       "84. &lt;NA&gt;\n",
       "85. &lt;NA&gt;\n",
       "86. &lt;NA&gt;\n",
       "87. &lt;NA&gt;\n",
       "88. &lt;NA&gt;\n",
       "89. &lt;NA&gt;\n",
       "90. &lt;NA&gt;\n",
       "91. &lt;NA&gt;\n",
       "92. 72352.6179\n",
       "93. &lt;NA&gt;\n",
       "94. &lt;NA&gt;\n",
       "95. &lt;NA&gt;\n",
       "96. &lt;NA&gt;\n",
       "97. 46817.9038\n",
       "98. &lt;NA&gt;\n",
       "99. 4041.6352\n",
       "100. 1411.98\n",
       "101. &lt;NA&gt;\n",
       "102. &lt;NA&gt;\n",
       "103. 821.12\n",
       "104. 960.8\n",
       "105. &lt;NA&gt;\n",
       "106. &lt;NA&gt;\n",
       "107. &lt;NA&gt;\n",
       "108. 153.08\n",
       "109. &lt;NA&gt;\n",
       "110. &lt;NA&gt;\n",
       "111. &lt;NA&gt;\n",
       "112. &lt;NA&gt;\n",
       "113. &lt;NA&gt;\n",
       "114. &lt;NA&gt;\n",
       "115. &lt;NA&gt;\n",
       "116. 325.2611\n",
       "117. &lt;NA&gt;\n",
       "118. &lt;NA&gt;\n",
       "119. &lt;NA&gt;\n",
       "120. &lt;NA&gt;\n",
       "121. 238.35\n",
       "122. &lt;NA&gt;\n",
       "123. &lt;NA&gt;\n",
       "124. &lt;NA&gt;\n",
       "125. &lt;NA&gt;\n",
       "126. &lt;NA&gt;\n",
       "127. &lt;NA&gt;\n",
       "128. &lt;NA&gt;\n",
       "129. 1320.8904\n",
       "130. &lt;NA&gt;\n",
       "131. 864901.3567\n",
       "132. &lt;NA&gt;\n",
       "133. &lt;NA&gt;\n",
       "134. 23285.0576\n",
       "135. 200500.6727\n",
       "136. &lt;NA&gt;\n",
       "137. &lt;NA&gt;\n",
       "138. &lt;NA&gt;\n",
       "139. &lt;NA&gt;\n",
       "140. &lt;NA&gt;\n",
       "141. &lt;NA&gt;\n",
       "142. &lt;NA&gt;\n",
       "143. &lt;NA&gt;\n",
       "144. &lt;NA&gt;\n",
       "145. &lt;NA&gt;\n",
       "146. &lt;NA&gt;\n",
       "147. &lt;NA&gt;\n",
       "148. 336309.9406\n",
       "149. 277453.9362\n",
       "150. &lt;NA&gt;\n",
       "151. &lt;NA&gt;\n",
       "152. 426.41\n",
       "153. &lt;NA&gt;\n",
       "154. &lt;NA&gt;\n",
       "155. 1726.8812\n",
       "156. &lt;NA&gt;\n",
       "157. &lt;NA&gt;\n",
       "158. &lt;NA&gt;\n",
       "159. &lt;NA&gt;\n",
       "160. &lt;NA&gt;\n",
       "161. &lt;NA&gt;\n",
       "162. 1352.6061\n",
       "163. &lt;NA&gt;\n",
       "164. &lt;NA&gt;\n",
       "165. 683.8871\n",
       "166. 286.7811\n",
       "167. &lt;NA&gt;\n",
       "168. &lt;NA&gt;\n",
       "169. &lt;NA&gt;\n",
       "170. 138.12\n",
       "171. &lt;NA&gt;\n",
       "172. &lt;NA&gt;\n",
       "173. &lt;NA&gt;\n",
       "174. 40896.5742\n",
       "175. &lt;NA&gt;\n",
       "176. &lt;NA&gt;\n",
       "177. &lt;NA&gt;\n",
       "178. &lt;NA&gt;\n",
       "179. &lt;NA&gt;\n",
       "180. 4306.72\n",
       "181. &lt;NA&gt;\n",
       "182. &lt;NA&gt;\n",
       "183. &lt;NA&gt;\n",
       "184. &lt;NA&gt;\n",
       "185. &lt;NA&gt;\n",
       "186. 6977.0531\n",
       "187. &lt;NA&gt;\n",
       "188. &lt;NA&gt;\n",
       "189. &lt;NA&gt;\n",
       "190. &lt;NA&gt;\n",
       "191. &lt;NA&gt;\n",
       "192. &lt;NA&gt;\n",
       "193. &lt;NA&gt;\n",
       "194. &lt;NA&gt;\n",
       "195. &lt;NA&gt;\n",
       "196. &lt;NA&gt;\n",
       "197. &lt;NA&gt;\n",
       "198. &lt;NA&gt;\n",
       "199. &lt;NA&gt;\n",
       "200. &lt;NA&gt;\n",
       "201. &lt;NA&gt;\n",
       "202. &lt;NA&gt;\n",
       "203. &lt;NA&gt;\n",
       "204. &lt;NA&gt;\n",
       "205. &lt;NA&gt;\n",
       "206. &lt;NA&gt;\n",
       "207. &lt;NA&gt;\n",
       "208. &lt;NA&gt;\n",
       "209. &lt;NA&gt;\n",
       "210. 96228.9592\n",
       "211. &lt;NA&gt;\n",
       "212. &lt;NA&gt;\n",
       "213. 463.5\n",
       "214. &lt;NA&gt;\n",
       "215. &lt;NA&gt;\n",
       "216. 17748.2035\n",
       "217. &lt;NA&gt;\n",
       "218. &lt;NA&gt;\n",
       "219. 840.8807\n",
       "220. 1897.4854\n",
       "221. &lt;NA&gt;\n",
       "222. &lt;NA&gt;\n",
       "223. 168.197\n",
       "224. &lt;NA&gt;\n",
       "225. &lt;NA&gt;\n",
       "226. 959.97\n",
       "227. &lt;NA&gt;\n",
       "228. &lt;NA&gt;\n",
       "229. &lt;NA&gt;\n",
       "230. &lt;NA&gt;\n",
       "231. &lt;NA&gt;\n",
       "232. &lt;NA&gt;\n",
       "233. &lt;NA&gt;\n",
       "234. &lt;NA&gt;\n",
       "235. &lt;NA&gt;\n",
       "236. &lt;NA&gt;\n",
       "237. &lt;NA&gt;\n",
       "238. &lt;NA&gt;\n",
       "239. 4290.4409\n",
       "240. &lt;NA&gt;\n",
       "241. &lt;NA&gt;\n",
       "242. &lt;NA&gt;\n",
       "243. &lt;NA&gt;\n",
       "\n",
       "\n",
       "\n",
       "$catMethod\n",
       ":   'fixedWidth'\n",
       "$colourPalette\n",
       ":   'heat'\n",
       "\n",
       "\n"
      ],
      "text/plain": [
       "$colourVector\n",
       "[1] \"#FFFF80FF\" \"#FFFF00FF\" \"#FFCC00FF\" \"#FF9900FF\" \"#FF6600FF\" \"#FF3300FF\"\n",
       "[7] \"#FF0000FF\"\n",
       "\n",
       "$cutVector\n",
       "[1]     127.0562  621718.8167 1243310.5772 1864902.3377 2486494.0983\n",
       "[6] 3108085.8588 3729677.6193 4351269.3798\n",
       "\n",
       "$plottedData\n",
       "  [1]           NA           NA   34476.9198     127.0562    6257.1495\n",
       "  [6]           NA           NA           NA           NA           NA\n",
       " [11]           NA           NA           NA           NA           NA\n",
       " [16]           NA   28630.1433           NA     890.8200    5384.1914\n",
       " [21]           NA           NA           NA           NA           NA\n",
       " [26]           NA           NA           NA 4351269.3798           NA\n",
       " [31]           NA           NA           NA           NA           NA\n",
       " [36]     505.5400     788.5545           NA           NA  405609.5525\n",
       " [41]  590919.3426           NA           NA           NA           NA\n",
       " [46]           NA           NA           NA           NA           NA\n",
       " [51]    3737.2772           NA  243792.2648           NA           NA\n",
       " [56]           NA           NA           NA     744.2203           NA\n",
       " [61]           NA           NA           NA           NA           NA\n",
       " [66]   24093.9451           NA           NA           NA  803376.8153\n",
       " [71]           NA  185840.4546           NA           NA    2279.5500\n",
       " [76]           NA           NA    7169.0415   94047.3769           NA\n",
       " [81]           NA           NA   31068.0737           NA           NA\n",
       " [86]           NA           NA           NA           NA           NA\n",
       " [91]           NA   72352.6179           NA           NA           NA\n",
       " [96]           NA   46817.9038           NA    4041.6352    1411.9800\n",
       "[101]           NA           NA     821.1200     960.8000           NA\n",
       "[106]           NA           NA     153.0800           NA           NA\n",
       "[111]           NA           NA           NA           NA           NA\n",
       "[116]     325.2611           NA           NA           NA           NA\n",
       "[121]     238.3500           NA           NA           NA           NA\n",
       "[126]           NA           NA           NA    1320.8904           NA\n",
       "[131]  864901.3567           NA           NA   23285.0576  200500.6727\n",
       "[136]           NA           NA           NA           NA           NA\n",
       "[141]           NA           NA           NA           NA           NA\n",
       "[146]           NA           NA  336309.9406  277453.9362           NA\n",
       "[151]           NA     426.4100           NA           NA    1726.8812\n",
       "[156]           NA           NA           NA           NA           NA\n",
       "[161]           NA    1352.6061           NA           NA     683.8871\n",
       "[166]     286.7811           NA           NA           NA     138.1200\n",
       "[171]           NA           NA           NA   40896.5742           NA\n",
       "[176]           NA           NA           NA           NA    4306.7200\n",
       "[181]           NA           NA           NA           NA           NA\n",
       "[186]    6977.0531           NA           NA           NA           NA\n",
       "[191]           NA           NA           NA           NA           NA\n",
       "[196]           NA           NA           NA           NA           NA\n",
       "[201]           NA           NA           NA           NA           NA\n",
       "[206]           NA           NA           NA           NA   96228.9592\n",
       "[211]           NA           NA     463.5000           NA           NA\n",
       "[216]   17748.2035           NA           NA     840.8807    1897.4854\n",
       "[221]           NA           NA     168.1970           NA           NA\n",
       "[226]     959.9700           NA           NA           NA           NA\n",
       "[231]           NA           NA           NA           NA           NA\n",
       "[236]           NA           NA           NA    4290.4409           NA\n",
       "[241]           NA           NA           NA\n",
       "\n",
       "$catMethod\n",
       "[1] \"fixedWidth\"\n",
       "\n",
       "$colourPalette\n",
       "[1] \"heat\"\n"
      ]
     },
     "metadata": {},
     "output_type": "display_data"
    },
    {
     "data": {
      "image/png": "[encoded data removed]",
      "text/plain": [
       "Plot with title \"Global_Stakes\""
      ]
     },
     "metadata": {},
     "output_type": "display_data"
    }
   ],
   "source": [
    "plot10.1 <- mapCountryData(spdf, nameColumnToPlot=\"Global_Stakes\", catMethod=\"fixedWidth\")\n",
    "\n",
    "plot10.1"
   ]
  },
  {
   "cell_type": "code",
   "execution_count": 100,
   "metadata": {},
   "outputs": [
    {
     "data": {
      "text/html": [
       "<dl>\n",
       "\t<dt>$colourVector</dt>\n",
       "\t\t<dd><ol class=list-inline>\n",
       "\t<li>'#FFFF80FF'</li>\n",
       "\t<li>'#FFFF00FF'</li>\n",
       "\t<li>'#FFCC00FF'</li>\n",
       "\t<li>'#FF9900FF'</li>\n",
       "\t<li>'#FF6600FF'</li>\n",
       "\t<li>'#FF3300FF'</li>\n",
       "\t<li>'#FF0000FF'</li>\n",
       "</ol>\n",
       "</dd>\n",
       "\t<dt>$cutVector</dt>\n",
       "\t\t<dd><ol class=list-inline>\n",
       "\t<li>53.53</li>\n",
       "\t<li>588888.733771429</li>\n",
       "\t<li>1177723.93754286</li>\n",
       "\t<li>1766559.14131429</li>\n",
       "\t<li>2355394.34508571</li>\n",
       "\t<li>2944229.54885714</li>\n",
       "\t<li>3533064.75262857</li>\n",
       "\t<li>4121899.9564</li>\n",
       "</ol>\n",
       "</dd>\n",
       "\t<dt>$plottedData</dt>\n",
       "\t\t<dd><ol class=list-inline>\n",
       "\t<li>&lt;NA&gt;</li>\n",
       "\t<li>&lt;NA&gt;</li>\n",
       "\t<li>31251.26</li>\n",
       "\t<li>85.75</li>\n",
       "\t<li>6890.0794</li>\n",
       "\t<li>&lt;NA&gt;</li>\n",
       "\t<li>&lt;NA&gt;</li>\n",
       "\t<li>&lt;NA&gt;</li>\n",
       "\t<li>&lt;NA&gt;</li>\n",
       "\t<li>&lt;NA&gt;</li>\n",
       "\t<li>&lt;NA&gt;</li>\n",
       "\t<li>&lt;NA&gt;</li>\n",
       "\t<li>&lt;NA&gt;</li>\n",
       "\t<li>&lt;NA&gt;</li>\n",
       "\t<li>&lt;NA&gt;</li>\n",
       "\t<li>&lt;NA&gt;</li>\n",
       "\t<li>24109.7079</li>\n",
       "\t<li>&lt;NA&gt;</li>\n",
       "\t<li>716.14</li>\n",
       "\t<li>5499.3659</li>\n",
       "\t<li>&lt;NA&gt;</li>\n",
       "\t<li>&lt;NA&gt;</li>\n",
       "\t<li>&lt;NA&gt;</li>\n",
       "\t<li>&lt;NA&gt;</li>\n",
       "\t<li>&lt;NA&gt;</li>\n",
       "\t<li>&lt;NA&gt;</li>\n",
       "\t<li>&lt;NA&gt;</li>\n",
       "\t<li>&lt;NA&gt;</li>\n",
       "\t<li>4121899.9564</li>\n",
       "\t<li>&lt;NA&gt;</li>\n",
       "\t<li>&lt;NA&gt;</li>\n",
       "\t<li>&lt;NA&gt;</li>\n",
       "\t<li>&lt;NA&gt;</li>\n",
       "\t<li>&lt;NA&gt;</li>\n",
       "\t<li>&lt;NA&gt;</li>\n",
       "\t<li>405.54</li>\n",
       "\t<li>482.2793</li>\n",
       "\t<li>&lt;NA&gt;</li>\n",
       "\t<li>&lt;NA&gt;</li>\n",
       "\t<li>383330.2951</li>\n",
       "\t<li>588404.7173</li>\n",
       "\t<li>&lt;NA&gt;</li>\n",
       "\t<li>&lt;NA&gt;</li>\n",
       "\t<li>&lt;NA&gt;</li>\n",
       "\t<li>&lt;NA&gt;</li>\n",
       "\t<li>&lt;NA&gt;</li>\n",
       "\t<li>&lt;NA&gt;</li>\n",
       "\t<li>&lt;NA&gt;</li>\n",
       "\t<li>&lt;NA&gt;</li>\n",
       "\t<li>&lt;NA&gt;</li>\n",
       "\t<li>3717.2737</li>\n",
       "\t<li>&lt;NA&gt;</li>\n",
       "\t<li>247980.2338</li>\n",
       "\t<li>&lt;NA&gt;</li>\n",
       "\t<li>&lt;NA&gt;</li>\n",
       "\t<li>&lt;NA&gt;</li>\n",
       "\t<li>&lt;NA&gt;</li>\n",
       "\t<li>&lt;NA&gt;</li>\n",
       "\t<li>753.9798</li>\n",
       "\t<li>&lt;NA&gt;</li>\n",
       "\t<li>&lt;NA&gt;</li>\n",
       "\t<li>&lt;NA&gt;</li>\n",
       "\t<li>&lt;NA&gt;</li>\n",
       "\t<li>&lt;NA&gt;</li>\n",
       "\t<li>&lt;NA&gt;</li>\n",
       "\t<li>22541.201</li>\n",
       "\t<li>&lt;NA&gt;</li>\n",
       "\t<li>&lt;NA&gt;</li>\n",
       "\t<li>&lt;NA&gt;</li>\n",
       "\t<li>797203.8189</li>\n",
       "\t<li>&lt;NA&gt;</li>\n",
       "\t<li>178632.6375</li>\n",
       "\t<li>&lt;NA&gt;</li>\n",
       "\t<li>&lt;NA&gt;</li>\n",
       "\t<li>1322.47</li>\n",
       "\t<li>&lt;NA&gt;</li>\n",
       "\t<li>&lt;NA&gt;</li>\n",
       "\t<li>6573.4</li>\n",
       "\t<li>91530.554</li>\n",
       "\t<li>&lt;NA&gt;</li>\n",
       "\t<li>&lt;NA&gt;</li>\n",
       "\t<li>&lt;NA&gt;</li>\n",
       "\t<li>29856.0233</li>\n",
       "\t<li>&lt;NA&gt;</li>\n",
       "\t<li>&lt;NA&gt;</li>\n",
       "\t<li>&lt;NA&gt;</li>\n",
       "\t<li>&lt;NA&gt;</li>\n",
       "\t<li>&lt;NA&gt;</li>\n",
       "\t<li>&lt;NA&gt;</li>\n",
       "\t<li>&lt;NA&gt;</li>\n",
       "\t<li>&lt;NA&gt;</li>\n",
       "\t<li>74714.6813</li>\n",
       "\t<li>&lt;NA&gt;</li>\n",
       "\t<li>&lt;NA&gt;</li>\n",
       "\t<li>&lt;NA&gt;</li>\n",
       "\t<li>&lt;NA&gt;</li>\n",
       "\t<li>50040.1036</li>\n",
       "\t<li>&lt;NA&gt;</li>\n",
       "\t<li>5777.7599</li>\n",
       "\t<li>762.68</li>\n",
       "\t<li>&lt;NA&gt;</li>\n",
       "\t<li>&lt;NA&gt;</li>\n",
       "\t<li>742.12</li>\n",
       "\t<li>1020.65</li>\n",
       "\t<li>&lt;NA&gt;</li>\n",
       "\t<li>&lt;NA&gt;</li>\n",
       "\t<li>&lt;NA&gt;</li>\n",
       "\t<li>53.53</li>\n",
       "\t<li>&lt;NA&gt;</li>\n",
       "\t<li>&lt;NA&gt;</li>\n",
       "\t<li>&lt;NA&gt;</li>\n",
       "\t<li>&lt;NA&gt;</li>\n",
       "\t<li>&lt;NA&gt;</li>\n",
       "\t<li>&lt;NA&gt;</li>\n",
       "\t<li>&lt;NA&gt;</li>\n",
       "\t<li>238.181</li>\n",
       "\t<li>&lt;NA&gt;</li>\n",
       "\t<li>&lt;NA&gt;</li>\n",
       "\t<li>&lt;NA&gt;</li>\n",
       "\t<li>&lt;NA&gt;</li>\n",
       "\t<li>205.2</li>\n",
       "\t<li>&lt;NA&gt;</li>\n",
       "\t<li>&lt;NA&gt;</li>\n",
       "\t<li>&lt;NA&gt;</li>\n",
       "\t<li>&lt;NA&gt;</li>\n",
       "\t<li>&lt;NA&gt;</li>\n",
       "\t<li>&lt;NA&gt;</li>\n",
       "\t<li>&lt;NA&gt;</li>\n",
       "\t<li>1226.16</li>\n",
       "\t<li>&lt;NA&gt;</li>\n",
       "\t<li>786904.6426</li>\n",
       "\t<li>&lt;NA&gt;</li>\n",
       "\t<li>&lt;NA&gt;</li>\n",
       "\t<li>23706.3968</li>\n",
       "\t<li>215201.6782</li>\n",
       "\t<li>&lt;NA&gt;</li>\n",
       "\t<li>&lt;NA&gt;</li>\n",
       "\t<li>&lt;NA&gt;</li>\n",
       "\t<li>&lt;NA&gt;</li>\n",
       "\t<li>&lt;NA&gt;</li>\n",
       "\t<li>&lt;NA&gt;</li>\n",
       "\t<li>&lt;NA&gt;</li>\n",
       "\t<li>&lt;NA&gt;</li>\n",
       "\t<li>&lt;NA&gt;</li>\n",
       "\t<li>&lt;NA&gt;</li>\n",
       "\t<li>&lt;NA&gt;</li>\n",
       "\t<li>&lt;NA&gt;</li>\n",
       "\t<li>324512.2224</li>\n",
       "\t<li>266140.9758</li>\n",
       "\t<li>&lt;NA&gt;</li>\n",
       "\t<li>&lt;NA&gt;</li>\n",
       "\t<li>401.41</li>\n",
       "\t<li>&lt;NA&gt;</li>\n",
       "\t<li>&lt;NA&gt;</li>\n",
       "\t<li>1757.0162</li>\n",
       "\t<li>&lt;NA&gt;</li>\n",
       "\t<li>&lt;NA&gt;</li>\n",
       "\t<li>&lt;NA&gt;</li>\n",
       "\t<li>&lt;NA&gt;</li>\n",
       "\t<li>&lt;NA&gt;</li>\n",
       "\t<li>&lt;NA&gt;</li>\n",
       "\t<li>1657.5877</li>\n",
       "\t<li>&lt;NA&gt;</li>\n",
       "\t<li>&lt;NA&gt;</li>\n",
       "\t<li>663.2967</li>\n",
       "\t<li>199.4892</li>\n",
       "\t<li>&lt;NA&gt;</li>\n",
       "\t<li>&lt;NA&gt;</li>\n",
       "\t<li>&lt;NA&gt;</li>\n",
       "\t<li>157.78</li>\n",
       "\t<li>&lt;NA&gt;</li>\n",
       "\t<li>&lt;NA&gt;</li>\n",
       "\t<li>&lt;NA&gt;</li>\n",
       "\t<li>43188.2146</li>\n",
       "\t<li>&lt;NA&gt;</li>\n",
       "\t<li>&lt;NA&gt;</li>\n",
       "\t<li>&lt;NA&gt;</li>\n",
       "\t<li>&lt;NA&gt;</li>\n",
       "\t<li>&lt;NA&gt;</li>\n",
       "\t<li>3947.73</li>\n",
       "\t<li>&lt;NA&gt;</li>\n",
       "\t<li>&lt;NA&gt;</li>\n",
       "\t<li>&lt;NA&gt;</li>\n",
       "\t<li>&lt;NA&gt;</li>\n",
       "\t<li>&lt;NA&gt;</li>\n",
       "\t<li>6266.8672</li>\n",
       "\t<li>&lt;NA&gt;</li>\n",
       "\t<li>&lt;NA&gt;</li>\n",
       "\t<li>&lt;NA&gt;</li>\n",
       "\t<li>&lt;NA&gt;</li>\n",
       "\t<li>&lt;NA&gt;</li>\n",
       "\t<li>&lt;NA&gt;</li>\n",
       "\t<li>&lt;NA&gt;</li>\n",
       "\t<li>&lt;NA&gt;</li>\n",
       "\t<li>&lt;NA&gt;</li>\n",
       "\t<li>&lt;NA&gt;</li>\n",
       "\t<li>&lt;NA&gt;</li>\n",
       "\t<li>&lt;NA&gt;</li>\n",
       "\t<li>&lt;NA&gt;</li>\n",
       "\t<li>&lt;NA&gt;</li>\n",
       "\t<li>&lt;NA&gt;</li>\n",
       "\t<li>&lt;NA&gt;</li>\n",
       "\t<li>&lt;NA&gt;</li>\n",
       "\t<li>&lt;NA&gt;</li>\n",
       "\t<li>&lt;NA&gt;</li>\n",
       "\t<li>&lt;NA&gt;</li>\n",
       "\t<li>&lt;NA&gt;</li>\n",
       "\t<li>&lt;NA&gt;</li>\n",
       "\t<li>&lt;NA&gt;</li>\n",
       "\t<li>87099.8431</li>\n",
       "\t<li>&lt;NA&gt;</li>\n",
       "\t<li>&lt;NA&gt;</li>\n",
       "\t<li>314.18</li>\n",
       "\t<li>&lt;NA&gt;</li>\n",
       "\t<li>&lt;NA&gt;</li>\n",
       "\t<li>17785.9399</li>\n",
       "\t<li>&lt;NA&gt;</li>\n",
       "\t<li>&lt;NA&gt;</li>\n",
       "\t<li>840.1359</li>\n",
       "\t<li>3388.6188</li>\n",
       "\t<li>&lt;NA&gt;</li>\n",
       "\t<li>&lt;NA&gt;</li>\n",
       "\t<li>96.3575</li>\n",
       "\t<li>&lt;NA&gt;</li>\n",
       "\t<li>&lt;NA&gt;</li>\n",
       "\t<li>409.97</li>\n",
       "\t<li>&lt;NA&gt;</li>\n",
       "\t<li>&lt;NA&gt;</li>\n",
       "\t<li>&lt;NA&gt;</li>\n",
       "\t<li>&lt;NA&gt;</li>\n",
       "\t<li>&lt;NA&gt;</li>\n",
       "\t<li>&lt;NA&gt;</li>\n",
       "\t<li>&lt;NA&gt;</li>\n",
       "\t<li>&lt;NA&gt;</li>\n",
       "\t<li>&lt;NA&gt;</li>\n",
       "\t<li>&lt;NA&gt;</li>\n",
       "\t<li>&lt;NA&gt;</li>\n",
       "\t<li>&lt;NA&gt;</li>\n",
       "\t<li>3520.4158</li>\n",
       "\t<li>&lt;NA&gt;</li>\n",
       "\t<li>&lt;NA&gt;</li>\n",
       "\t<li>&lt;NA&gt;</li>\n",
       "\t<li>&lt;NA&gt;</li>\n",
       "</ol>\n",
       "</dd>\n",
       "\t<dt>$catMethod</dt>\n",
       "\t\t<dd>'fixedWidth'</dd>\n",
       "\t<dt>$colourPalette</dt>\n",
       "\t\t<dd>'heat'</dd>\n",
       "</dl>\n"
      ],
      "text/latex": [
       "\\begin{description}\n",
       "\\item[\\$colourVector] \\begin{enumerate*}\n",
       "\\item '\\#FFFF80FF'\n",
       "\\item '\\#FFFF00FF'\n",
       "\\item '\\#FFCC00FF'\n",
       "\\item '\\#FF9900FF'\n",
       "\\item '\\#FF6600FF'\n",
       "\\item '\\#FF3300FF'\n",
       "\\item '\\#FF0000FF'\n",
       "\\end{enumerate*}\n",
       "\n",
       "\\item[\\$cutVector] \\begin{enumerate*}\n",
       "\\item 53.53\n",
       "\\item 588888.733771429\n",
       "\\item 1177723.93754286\n",
       "\\item 1766559.14131429\n",
       "\\item 2355394.34508571\n",
       "\\item 2944229.54885714\n",
       "\\item 3533064.75262857\n",
       "\\item 4121899.9564\n",
       "\\end{enumerate*}\n",
       "\n",
       "\\item[\\$plottedData] \\begin{enumerate*}\n",
       "\\item <NA>\n",
       "\\item <NA>\n",
       "\\item 31251.26\n",
       "\\item 85.75\n",
       "\\item 6890.0794\n",
       "\\item <NA>\n",
       "\\item <NA>\n",
       "\\item <NA>\n",
       "\\item <NA>\n",
       "\\item <NA>\n",
       "\\item <NA>\n",
       "\\item <NA>\n",
       "\\item <NA>\n",
       "\\item <NA>\n",
       "\\item <NA>\n",
       "\\item <NA>\n",
       "\\item 24109.7079\n",
       "\\item <NA>\n",
       "\\item 716.14\n",
       "\\item 5499.3659\n",
       "\\item <NA>\n",
       "\\item <NA>\n",
       "\\item <NA>\n",
       "\\item <NA>\n",
       "\\item <NA>\n",
       "\\item <NA>\n",
       "\\item <NA>\n",
       "\\item <NA>\n",
       "\\item 4121899.9564\n",
       "\\item <NA>\n",
       "\\item <NA>\n",
       "\\item <NA>\n",
       "\\item <NA>\n",
       "\\item <NA>\n",
       "\\item <NA>\n",
       "\\item 405.54\n",
       "\\item 482.2793\n",
       "\\item <NA>\n",
       "\\item <NA>\n",
       "\\item 383330.2951\n",
       "\\item 588404.7173\n",
       "\\item <NA>\n",
       "\\item <NA>\n",
       "\\item <NA>\n",
       "\\item <NA>\n",
       "\\item <NA>\n",
       "\\item <NA>\n",
       "\\item <NA>\n",
       "\\item <NA>\n",
       "\\item <NA>\n",
       "\\item 3717.2737\n",
       "\\item <NA>\n",
       "\\item 247980.2338\n",
       "\\item <NA>\n",
       "\\item <NA>\n",
       "\\item <NA>\n",
       "\\item <NA>\n",
       "\\item <NA>\n",
       "\\item 753.9798\n",
       "\\item <NA>\n",
       "\\item <NA>\n",
       "\\item <NA>\n",
       "\\item <NA>\n",
       "\\item <NA>\n",
       "\\item <NA>\n",
       "\\item 22541.201\n",
       "\\item <NA>\n",
       "\\item <NA>\n",
       "\\item <NA>\n",
       "\\item 797203.8189\n",
       "\\item <NA>\n",
       "\\item 178632.6375\n",
       "\\item <NA>\n",
       "\\item <NA>\n",
       "\\item 1322.47\n",
       "\\item <NA>\n",
       "\\item <NA>\n",
       "\\item 6573.4\n",
       "\\item 91530.554\n",
       "\\item <NA>\n",
       "\\item <NA>\n",
       "\\item <NA>\n",
       "\\item 29856.0233\n",
       "\\item <NA>\n",
       "\\item <NA>\n",
       "\\item <NA>\n",
       "\\item <NA>\n",
       "\\item <NA>\n",
       "\\item <NA>\n",
       "\\item <NA>\n",
       "\\item <NA>\n",
       "\\item 74714.6813\n",
       "\\item <NA>\n",
       "\\item <NA>\n",
       "\\item <NA>\n",
       "\\item <NA>\n",
       "\\item 50040.1036\n",
       "\\item <NA>\n",
       "\\item 5777.7599\n",
       "\\item 762.68\n",
       "\\item <NA>\n",
       "\\item <NA>\n",
       "\\item 742.12\n",
       "\\item 1020.65\n",
       "\\item <NA>\n",
       "\\item <NA>\n",
       "\\item <NA>\n",
       "\\item 53.53\n",
       "\\item <NA>\n",
       "\\item <NA>\n",
       "\\item <NA>\n",
       "\\item <NA>\n",
       "\\item <NA>\n",
       "\\item <NA>\n",
       "\\item <NA>\n",
       "\\item 238.181\n",
       "\\item <NA>\n",
       "\\item <NA>\n",
       "\\item <NA>\n",
       "\\item <NA>\n",
       "\\item 205.2\n",
       "\\item <NA>\n",
       "\\item <NA>\n",
       "\\item <NA>\n",
       "\\item <NA>\n",
       "\\item <NA>\n",
       "\\item <NA>\n",
       "\\item <NA>\n",
       "\\item 1226.16\n",
       "\\item <NA>\n",
       "\\item 786904.6426\n",
       "\\item <NA>\n",
       "\\item <NA>\n",
       "\\item 23706.3968\n",
       "\\item 215201.6782\n",
       "\\item <NA>\n",
       "\\item <NA>\n",
       "\\item <NA>\n",
       "\\item <NA>\n",
       "\\item <NA>\n",
       "\\item <NA>\n",
       "\\item <NA>\n",
       "\\item <NA>\n",
       "\\item <NA>\n",
       "\\item <NA>\n",
       "\\item <NA>\n",
       "\\item <NA>\n",
       "\\item 324512.2224\n",
       "\\item 266140.9758\n",
       "\\item <NA>\n",
       "\\item <NA>\n",
       "\\item 401.41\n",
       "\\item <NA>\n",
       "\\item <NA>\n",
       "\\item 1757.0162\n",
       "\\item <NA>\n",
       "\\item <NA>\n",
       "\\item <NA>\n",
       "\\item <NA>\n",
       "\\item <NA>\n",
       "\\item <NA>\n",
       "\\item 1657.5877\n",
       "\\item <NA>\n",
       "\\item <NA>\n",
       "\\item 663.2967\n",
       "\\item 199.4892\n",
       "\\item <NA>\n",
       "\\item <NA>\n",
       "\\item <NA>\n",
       "\\item 157.78\n",
       "\\item <NA>\n",
       "\\item <NA>\n",
       "\\item <NA>\n",
       "\\item 43188.2146\n",
       "\\item <NA>\n",
       "\\item <NA>\n",
       "\\item <NA>\n",
       "\\item <NA>\n",
       "\\item <NA>\n",
       "\\item 3947.73\n",
       "\\item <NA>\n",
       "\\item <NA>\n",
       "\\item <NA>\n",
       "\\item <NA>\n",
       "\\item <NA>\n",
       "\\item 6266.8672\n",
       "\\item <NA>\n",
       "\\item <NA>\n",
       "\\item <NA>\n",
       "\\item <NA>\n",
       "\\item <NA>\n",
       "\\item <NA>\n",
       "\\item <NA>\n",
       "\\item <NA>\n",
       "\\item <NA>\n",
       "\\item <NA>\n",
       "\\item <NA>\n",
       "\\item <NA>\n",
       "\\item <NA>\n",
       "\\item <NA>\n",
       "\\item <NA>\n",
       "\\item <NA>\n",
       "\\item <NA>\n",
       "\\item <NA>\n",
       "\\item <NA>\n",
       "\\item <NA>\n",
       "\\item <NA>\n",
       "\\item <NA>\n",
       "\\item <NA>\n",
       "\\item 87099.8431\n",
       "\\item <NA>\n",
       "\\item <NA>\n",
       "\\item 314.18\n",
       "\\item <NA>\n",
       "\\item <NA>\n",
       "\\item 17785.9399\n",
       "\\item <NA>\n",
       "\\item <NA>\n",
       "\\item 840.1359\n",
       "\\item 3388.6188\n",
       "\\item <NA>\n",
       "\\item <NA>\n",
       "\\item 96.3575\n",
       "\\item <NA>\n",
       "\\item <NA>\n",
       "\\item 409.97\n",
       "\\item <NA>\n",
       "\\item <NA>\n",
       "\\item <NA>\n",
       "\\item <NA>\n",
       "\\item <NA>\n",
       "\\item <NA>\n",
       "\\item <NA>\n",
       "\\item <NA>\n",
       "\\item <NA>\n",
       "\\item <NA>\n",
       "\\item <NA>\n",
       "\\item <NA>\n",
       "\\item 3520.4158\n",
       "\\item <NA>\n",
       "\\item <NA>\n",
       "\\item <NA>\n",
       "\\item <NA>\n",
       "\\end{enumerate*}\n",
       "\n",
       "\\item[\\$catMethod] 'fixedWidth'\n",
       "\\item[\\$colourPalette] 'heat'\n",
       "\\end{description}\n"
      ],
      "text/markdown": [
       "$colourVector\n",
       ":   1. '#FFFF80FF'\n",
       "2. '#FFFF00FF'\n",
       "3. '#FFCC00FF'\n",
       "4. '#FF9900FF'\n",
       "5. '#FF6600FF'\n",
       "6. '#FF3300FF'\n",
       "7. '#FF0000FF'\n",
       "\n",
       "\n",
       "\n",
       "$cutVector\n",
       ":   1. 53.53\n",
       "2. 588888.733771429\n",
       "3. 1177723.93754286\n",
       "4. 1766559.14131429\n",
       "5. 2355394.34508571\n",
       "6. 2944229.54885714\n",
       "7. 3533064.75262857\n",
       "8. 4121899.9564\n",
       "\n",
       "\n",
       "\n",
       "$plottedData\n",
       ":   1. &lt;NA&gt;\n",
       "2. &lt;NA&gt;\n",
       "3. 31251.26\n",
       "4. 85.75\n",
       "5. 6890.0794\n",
       "6. &lt;NA&gt;\n",
       "7. &lt;NA&gt;\n",
       "8. &lt;NA&gt;\n",
       "9. &lt;NA&gt;\n",
       "10. &lt;NA&gt;\n",
       "11. &lt;NA&gt;\n",
       "12. &lt;NA&gt;\n",
       "13. &lt;NA&gt;\n",
       "14. &lt;NA&gt;\n",
       "15. &lt;NA&gt;\n",
       "16. &lt;NA&gt;\n",
       "17. 24109.7079\n",
       "18. &lt;NA&gt;\n",
       "19. 716.14\n",
       "20. 5499.3659\n",
       "21. &lt;NA&gt;\n",
       "22. &lt;NA&gt;\n",
       "23. &lt;NA&gt;\n",
       "24. &lt;NA&gt;\n",
       "25. &lt;NA&gt;\n",
       "26. &lt;NA&gt;\n",
       "27. &lt;NA&gt;\n",
       "28. &lt;NA&gt;\n",
       "29. 4121899.9564\n",
       "30. &lt;NA&gt;\n",
       "31. &lt;NA&gt;\n",
       "32. &lt;NA&gt;\n",
       "33. &lt;NA&gt;\n",
       "34. &lt;NA&gt;\n",
       "35. &lt;NA&gt;\n",
       "36. 405.54\n",
       "37. 482.2793\n",
       "38. &lt;NA&gt;\n",
       "39. &lt;NA&gt;\n",
       "40. 383330.2951\n",
       "41. 588404.7173\n",
       "42. &lt;NA&gt;\n",
       "43. &lt;NA&gt;\n",
       "44. &lt;NA&gt;\n",
       "45. &lt;NA&gt;\n",
       "46. &lt;NA&gt;\n",
       "47. &lt;NA&gt;\n",
       "48. &lt;NA&gt;\n",
       "49. &lt;NA&gt;\n",
       "50. &lt;NA&gt;\n",
       "51. 3717.2737\n",
       "52. &lt;NA&gt;\n",
       "53. 247980.2338\n",
       "54. &lt;NA&gt;\n",
       "55. &lt;NA&gt;\n",
       "56. &lt;NA&gt;\n",
       "57. &lt;NA&gt;\n",
       "58. &lt;NA&gt;\n",
       "59. 753.9798\n",
       "60. &lt;NA&gt;\n",
       "61. &lt;NA&gt;\n",
       "62. &lt;NA&gt;\n",
       "63. &lt;NA&gt;\n",
       "64. &lt;NA&gt;\n",
       "65. &lt;NA&gt;\n",
       "66. 22541.201\n",
       "67. &lt;NA&gt;\n",
       "68. &lt;NA&gt;\n",
       "69. &lt;NA&gt;\n",
       "70. 797203.8189\n",
       "71. &lt;NA&gt;\n",
       "72. 178632.6375\n",
       "73. &lt;NA&gt;\n",
       "74. &lt;NA&gt;\n",
       "75. 1322.47\n",
       "76. &lt;NA&gt;\n",
       "77. &lt;NA&gt;\n",
       "78. 6573.4\n",
       "79. 91530.554\n",
       "80. &lt;NA&gt;\n",
       "81. &lt;NA&gt;\n",
       "82. &lt;NA&gt;\n",
       "83. 29856.0233\n",
       "84. &lt;NA&gt;\n",
       "85. &lt;NA&gt;\n",
       "86. &lt;NA&gt;\n",
       "87. &lt;NA&gt;\n",
       "88. &lt;NA&gt;\n",
       "89. &lt;NA&gt;\n",
       "90. &lt;NA&gt;\n",
       "91. &lt;NA&gt;\n",
       "92. 74714.6813\n",
       "93. &lt;NA&gt;\n",
       "94. &lt;NA&gt;\n",
       "95. &lt;NA&gt;\n",
       "96. &lt;NA&gt;\n",
       "97. 50040.1036\n",
       "98. &lt;NA&gt;\n",
       "99. 5777.7599\n",
       "100. 762.68\n",
       "101. &lt;NA&gt;\n",
       "102. &lt;NA&gt;\n",
       "103. 742.12\n",
       "104. 1020.65\n",
       "105. &lt;NA&gt;\n",
       "106. &lt;NA&gt;\n",
       "107. &lt;NA&gt;\n",
       "108. 53.53\n",
       "109. &lt;NA&gt;\n",
       "110. &lt;NA&gt;\n",
       "111. &lt;NA&gt;\n",
       "112. &lt;NA&gt;\n",
       "113. &lt;NA&gt;\n",
       "114. &lt;NA&gt;\n",
       "115. &lt;NA&gt;\n",
       "116. 238.181\n",
       "117. &lt;NA&gt;\n",
       "118. &lt;NA&gt;\n",
       "119. &lt;NA&gt;\n",
       "120. &lt;NA&gt;\n",
       "121. 205.2\n",
       "122. &lt;NA&gt;\n",
       "123. &lt;NA&gt;\n",
       "124. &lt;NA&gt;\n",
       "125. &lt;NA&gt;\n",
       "126. &lt;NA&gt;\n",
       "127. &lt;NA&gt;\n",
       "128. &lt;NA&gt;\n",
       "129. 1226.16\n",
       "130. &lt;NA&gt;\n",
       "131. 786904.6426\n",
       "132. &lt;NA&gt;\n",
       "133. &lt;NA&gt;\n",
       "134. 23706.3968\n",
       "135. 215201.6782\n",
       "136. &lt;NA&gt;\n",
       "137. &lt;NA&gt;\n",
       "138. &lt;NA&gt;\n",
       "139. &lt;NA&gt;\n",
       "140. &lt;NA&gt;\n",
       "141. &lt;NA&gt;\n",
       "142. &lt;NA&gt;\n",
       "143. &lt;NA&gt;\n",
       "144. &lt;NA&gt;\n",
       "145. &lt;NA&gt;\n",
       "146. &lt;NA&gt;\n",
       "147. &lt;NA&gt;\n",
       "148. 324512.2224\n",
       "149. 266140.9758\n",
       "150. &lt;NA&gt;\n",
       "151. &lt;NA&gt;\n",
       "152. 401.41\n",
       "153. &lt;NA&gt;\n",
       "154. &lt;NA&gt;\n",
       "155. 1757.0162\n",
       "156. &lt;NA&gt;\n",
       "157. &lt;NA&gt;\n",
       "158. &lt;NA&gt;\n",
       "159. &lt;NA&gt;\n",
       "160. &lt;NA&gt;\n",
       "161. &lt;NA&gt;\n",
       "162. 1657.5877\n",
       "163. &lt;NA&gt;\n",
       "164. &lt;NA&gt;\n",
       "165. 663.2967\n",
       "166. 199.4892\n",
       "167. &lt;NA&gt;\n",
       "168. &lt;NA&gt;\n",
       "169. &lt;NA&gt;\n",
       "170. 157.78\n",
       "171. &lt;NA&gt;\n",
       "172. &lt;NA&gt;\n",
       "173. &lt;NA&gt;\n",
       "174. 43188.2146\n",
       "175. &lt;NA&gt;\n",
       "176. &lt;NA&gt;\n",
       "177. &lt;NA&gt;\n",
       "178. &lt;NA&gt;\n",
       "179. &lt;NA&gt;\n",
       "180. 3947.73\n",
       "181. &lt;NA&gt;\n",
       "182. &lt;NA&gt;\n",
       "183. &lt;NA&gt;\n",
       "184. &lt;NA&gt;\n",
       "185. &lt;NA&gt;\n",
       "186. 6266.8672\n",
       "187. &lt;NA&gt;\n",
       "188. &lt;NA&gt;\n",
       "189. &lt;NA&gt;\n",
       "190. &lt;NA&gt;\n",
       "191. &lt;NA&gt;\n",
       "192. &lt;NA&gt;\n",
       "193. &lt;NA&gt;\n",
       "194. &lt;NA&gt;\n",
       "195. &lt;NA&gt;\n",
       "196. &lt;NA&gt;\n",
       "197. &lt;NA&gt;\n",
       "198. &lt;NA&gt;\n",
       "199. &lt;NA&gt;\n",
       "200. &lt;NA&gt;\n",
       "201. &lt;NA&gt;\n",
       "202. &lt;NA&gt;\n",
       "203. &lt;NA&gt;\n",
       "204. &lt;NA&gt;\n",
       "205. &lt;NA&gt;\n",
       "206. &lt;NA&gt;\n",
       "207. &lt;NA&gt;\n",
       "208. &lt;NA&gt;\n",
       "209. &lt;NA&gt;\n",
       "210. 87099.8431\n",
       "211. &lt;NA&gt;\n",
       "212. &lt;NA&gt;\n",
       "213. 314.18\n",
       "214. &lt;NA&gt;\n",
       "215. &lt;NA&gt;\n",
       "216. 17785.9399\n",
       "217. &lt;NA&gt;\n",
       "218. &lt;NA&gt;\n",
       "219. 840.1359\n",
       "220. 3388.6188\n",
       "221. &lt;NA&gt;\n",
       "222. &lt;NA&gt;\n",
       "223. 96.3575\n",
       "224. &lt;NA&gt;\n",
       "225. &lt;NA&gt;\n",
       "226. 409.97\n",
       "227. &lt;NA&gt;\n",
       "228. &lt;NA&gt;\n",
       "229. &lt;NA&gt;\n",
       "230. &lt;NA&gt;\n",
       "231. &lt;NA&gt;\n",
       "232. &lt;NA&gt;\n",
       "233. &lt;NA&gt;\n",
       "234. &lt;NA&gt;\n",
       "235. &lt;NA&gt;\n",
       "236. &lt;NA&gt;\n",
       "237. &lt;NA&gt;\n",
       "238. &lt;NA&gt;\n",
       "239. 3520.4158\n",
       "240. &lt;NA&gt;\n",
       "241. &lt;NA&gt;\n",
       "242. &lt;NA&gt;\n",
       "243. &lt;NA&gt;\n",
       "\n",
       "\n",
       "\n",
       "$catMethod\n",
       ":   'fixedWidth'\n",
       "$colourPalette\n",
       ":   'heat'\n",
       "\n",
       "\n"
      ],
      "text/plain": [
       "$colourVector\n",
       "[1] \"#FFFF80FF\" \"#FFFF00FF\" \"#FFCC00FF\" \"#FF9900FF\" \"#FF6600FF\" \"#FF3300FF\"\n",
       "[7] \"#FF0000FF\"\n",
       "\n",
       "$cutVector\n",
       "[1]      53.53  588888.73 1177723.94 1766559.14 2355394.35 2944229.55 3533064.75\n",
       "[8] 4121899.96\n",
       "\n",
       "$plottedData\n",
       "  [1]           NA           NA   31251.2600      85.7500    6890.0794\n",
       "  [6]           NA           NA           NA           NA           NA\n",
       " [11]           NA           NA           NA           NA           NA\n",
       " [16]           NA   24109.7079           NA     716.1400    5499.3659\n",
       " [21]           NA           NA           NA           NA           NA\n",
       " [26]           NA           NA           NA 4121899.9564           NA\n",
       " [31]           NA           NA           NA           NA           NA\n",
       " [36]     405.5400     482.2793           NA           NA  383330.2951\n",
       " [41]  588404.7173           NA           NA           NA           NA\n",
       " [46]           NA           NA           NA           NA           NA\n",
       " [51]    3717.2737           NA  247980.2338           NA           NA\n",
       " [56]           NA           NA           NA     753.9798           NA\n",
       " [61]           NA           NA           NA           NA           NA\n",
       " [66]   22541.2010           NA           NA           NA  797203.8189\n",
       " [71]           NA  178632.6375           NA           NA    1322.4700\n",
       " [76]           NA           NA    6573.4000   91530.5540           NA\n",
       " [81]           NA           NA   29856.0233           NA           NA\n",
       " [86]           NA           NA           NA           NA           NA\n",
       " [91]           NA   74714.6813           NA           NA           NA\n",
       " [96]           NA   50040.1036           NA    5777.7599     762.6800\n",
       "[101]           NA           NA     742.1200    1020.6500           NA\n",
       "[106]           NA           NA      53.5300           NA           NA\n",
       "[111]           NA           NA           NA           NA           NA\n",
       "[116]     238.1810           NA           NA           NA           NA\n",
       "[121]     205.2000           NA           NA           NA           NA\n",
       "[126]           NA           NA           NA    1226.1600           NA\n",
       "[131]  786904.6426           NA           NA   23706.3968  215201.6782\n",
       "[136]           NA           NA           NA           NA           NA\n",
       "[141]           NA           NA           NA           NA           NA\n",
       "[146]           NA           NA  324512.2224  266140.9758           NA\n",
       "[151]           NA     401.4100           NA           NA    1757.0162\n",
       "[156]           NA           NA           NA           NA           NA\n",
       "[161]           NA    1657.5877           NA           NA     663.2967\n",
       "[166]     199.4892           NA           NA           NA     157.7800\n",
       "[171]           NA           NA           NA   43188.2146           NA\n",
       "[176]           NA           NA           NA           NA    3947.7300\n",
       "[181]           NA           NA           NA           NA           NA\n",
       "[186]    6266.8672           NA           NA           NA           NA\n",
       "[191]           NA           NA           NA           NA           NA\n",
       "[196]           NA           NA           NA           NA           NA\n",
       "[201]           NA           NA           NA           NA           NA\n",
       "[206]           NA           NA           NA           NA   87099.8431\n",
       "[211]           NA           NA     314.1800           NA           NA\n",
       "[216]   17785.9399           NA           NA     840.1359    3388.6188\n",
       "[221]           NA           NA      96.3575           NA           NA\n",
       "[226]     409.9700           NA           NA           NA           NA\n",
       "[231]           NA           NA           NA           NA           NA\n",
       "[236]           NA           NA           NA    3520.4158           NA\n",
       "[241]           NA           NA           NA\n",
       "\n",
       "$catMethod\n",
       "[1] \"fixedWidth\"\n",
       "\n",
       "$colourPalette\n",
       "[1] \"heat\"\n"
      ]
     },
     "metadata": {},
     "output_type": "display_data"
    },
    {
     "data": {
      "image/png": "[encoded data removed]",
      "text/plain": [
       "Plot with title \"Global_Winnings\""
      ]
     },
     "metadata": {},
     "output_type": "display_data"
    }
   ],
   "source": [
    "plot10.2 <- mapCountryData(spdf, nameColumnToPlot=\"Global_Winnings\", catMethod=\"fixedWidth\")\n",
    "\n",
    "plot10.2"
   ]
  },
  {
   "cell_type": "code",
   "execution_count": 101,
   "metadata": {},
   "outputs": [
    {
     "data": {
      "text/html": [
       "<dl>\n",
       "\t<dt>$colourVector</dt>\n",
       "\t\t<dd><ol class=list-inline>\n",
       "\t<li>'#FFFF80FF'</li>\n",
       "\t<li>'#FFFF00FF'</li>\n",
       "\t<li>'#FFCC00FF'</li>\n",
       "\t<li>'#FF9900FF'</li>\n",
       "\t<li>'#FF6600FF'</li>\n",
       "\t<li>'#FF3300FF'</li>\n",
       "\t<li>'#FF0000FF'</li>\n",
       "</ol>\n",
       "</dd>\n",
       "\t<dt>$cutVector</dt>\n",
       "\t\t<dd><ol class=list-inline>\n",
       "\t<li>4</li>\n",
       "\t<li>68730.2857142857</li>\n",
       "\t<li>137456.571428571</li>\n",
       "\t<li>206182.857142857</li>\n",
       "\t<li>274909.142857143</li>\n",
       "\t<li>343635.428571429</li>\n",
       "\t<li>412361.714285714</li>\n",
       "\t<li>481088</li>\n",
       "</ol>\n",
       "</dd>\n",
       "\t<dt>$plottedData</dt>\n",
       "\t\t<dd><ol class=list-inline>\n",
       "\t<li>&lt;NA&gt;</li>\n",
       "\t<li>&lt;NA&gt;</li>\n",
       "\t<li>12672</li>\n",
       "\t<li>119</li>\n",
       "\t<li>1871</li>\n",
       "\t<li>&lt;NA&gt;</li>\n",
       "\t<li>&lt;NA&gt;</li>\n",
       "\t<li>&lt;NA&gt;</li>\n",
       "\t<li>&lt;NA&gt;</li>\n",
       "\t<li>&lt;NA&gt;</li>\n",
       "\t<li>&lt;NA&gt;</li>\n",
       "\t<li>&lt;NA&gt;</li>\n",
       "\t<li>&lt;NA&gt;</li>\n",
       "\t<li>&lt;NA&gt;</li>\n",
       "\t<li>&lt;NA&gt;</li>\n",
       "\t<li>&lt;NA&gt;</li>\n",
       "\t<li>9683</li>\n",
       "\t<li>&lt;NA&gt;</li>\n",
       "\t<li>663</li>\n",
       "\t<li>268</li>\n",
       "\t<li>&lt;NA&gt;</li>\n",
       "\t<li>&lt;NA&gt;</li>\n",
       "\t<li>&lt;NA&gt;</li>\n",
       "\t<li>&lt;NA&gt;</li>\n",
       "\t<li>&lt;NA&gt;</li>\n",
       "\t<li>&lt;NA&gt;</li>\n",
       "\t<li>&lt;NA&gt;</li>\n",
       "\t<li>&lt;NA&gt;</li>\n",
       "\t<li>481088</li>\n",
       "\t<li>&lt;NA&gt;</li>\n",
       "\t<li>&lt;NA&gt;</li>\n",
       "\t<li>&lt;NA&gt;</li>\n",
       "\t<li>&lt;NA&gt;</li>\n",
       "\t<li>&lt;NA&gt;</li>\n",
       "\t<li>&lt;NA&gt;</li>\n",
       "\t<li>28</li>\n",
       "\t<li>129</li>\n",
       "\t<li>&lt;NA&gt;</li>\n",
       "\t<li>&lt;NA&gt;</li>\n",
       "\t<li>45619</li>\n",
       "\t<li>23473</li>\n",
       "\t<li>&lt;NA&gt;</li>\n",
       "\t<li>&lt;NA&gt;</li>\n",
       "\t<li>&lt;NA&gt;</li>\n",
       "\t<li>&lt;NA&gt;</li>\n",
       "\t<li>&lt;NA&gt;</li>\n",
       "\t<li>&lt;NA&gt;</li>\n",
       "\t<li>&lt;NA&gt;</li>\n",
       "\t<li>&lt;NA&gt;</li>\n",
       "\t<li>&lt;NA&gt;</li>\n",
       "\t<li>1929</li>\n",
       "\t<li>&lt;NA&gt;</li>\n",
       "\t<li>11509</li>\n",
       "\t<li>&lt;NA&gt;</li>\n",
       "\t<li>&lt;NA&gt;</li>\n",
       "\t<li>&lt;NA&gt;</li>\n",
       "\t<li>&lt;NA&gt;</li>\n",
       "\t<li>&lt;NA&gt;</li>\n",
       "\t<li>79</li>\n",
       "\t<li>&lt;NA&gt;</li>\n",
       "\t<li>&lt;NA&gt;</li>\n",
       "\t<li>&lt;NA&gt;</li>\n",
       "\t<li>&lt;NA&gt;</li>\n",
       "\t<li>&lt;NA&gt;</li>\n",
       "\t<li>&lt;NA&gt;</li>\n",
       "\t<li>3194</li>\n",
       "\t<li>&lt;NA&gt;</li>\n",
       "\t<li>&lt;NA&gt;</li>\n",
       "\t<li>&lt;NA&gt;</li>\n",
       "\t<li>51568</li>\n",
       "\t<li>&lt;NA&gt;</li>\n",
       "\t<li>27595</li>\n",
       "\t<li>&lt;NA&gt;</li>\n",
       "\t<li>&lt;NA&gt;</li>\n",
       "\t<li>111</li>\n",
       "\t<li>&lt;NA&gt;</li>\n",
       "\t<li>&lt;NA&gt;</li>\n",
       "\t<li>136</li>\n",
       "\t<li>2244</li>\n",
       "\t<li>&lt;NA&gt;</li>\n",
       "\t<li>&lt;NA&gt;</li>\n",
       "\t<li>&lt;NA&gt;</li>\n",
       "\t<li>1132</li>\n",
       "\t<li>&lt;NA&gt;</li>\n",
       "\t<li>&lt;NA&gt;</li>\n",
       "\t<li>&lt;NA&gt;</li>\n",
       "\t<li>&lt;NA&gt;</li>\n",
       "\t<li>&lt;NA&gt;</li>\n",
       "\t<li>&lt;NA&gt;</li>\n",
       "\t<li>&lt;NA&gt;</li>\n",
       "\t<li>&lt;NA&gt;</li>\n",
       "\t<li>659</li>\n",
       "\t<li>&lt;NA&gt;</li>\n",
       "\t<li>&lt;NA&gt;</li>\n",
       "\t<li>&lt;NA&gt;</li>\n",
       "\t<li>&lt;NA&gt;</li>\n",
       "\t<li>1975</li>\n",
       "\t<li>&lt;NA&gt;</li>\n",
       "\t<li>136</li>\n",
       "\t<li>78</li>\n",
       "\t<li>&lt;NA&gt;</li>\n",
       "\t<li>&lt;NA&gt;</li>\n",
       "\t<li>424</li>\n",
       "\t<li>77</li>\n",
       "\t<li>&lt;NA&gt;</li>\n",
       "\t<li>&lt;NA&gt;</li>\n",
       "\t<li>&lt;NA&gt;</li>\n",
       "\t<li>24</li>\n",
       "\t<li>&lt;NA&gt;</li>\n",
       "\t<li>&lt;NA&gt;</li>\n",
       "\t<li>&lt;NA&gt;</li>\n",
       "\t<li>&lt;NA&gt;</li>\n",
       "\t<li>&lt;NA&gt;</li>\n",
       "\t<li>&lt;NA&gt;</li>\n",
       "\t<li>&lt;NA&gt;</li>\n",
       "\t<li>306</li>\n",
       "\t<li>&lt;NA&gt;</li>\n",
       "\t<li>&lt;NA&gt;</li>\n",
       "\t<li>&lt;NA&gt;</li>\n",
       "\t<li>&lt;NA&gt;</li>\n",
       "\t<li>229</li>\n",
       "\t<li>&lt;NA&gt;</li>\n",
       "\t<li>&lt;NA&gt;</li>\n",
       "\t<li>&lt;NA&gt;</li>\n",
       "\t<li>&lt;NA&gt;</li>\n",
       "\t<li>&lt;NA&gt;</li>\n",
       "\t<li>&lt;NA&gt;</li>\n",
       "\t<li>&lt;NA&gt;</li>\n",
       "\t<li>65</li>\n",
       "\t<li>&lt;NA&gt;</li>\n",
       "\t<li>127196</li>\n",
       "\t<li>&lt;NA&gt;</li>\n",
       "\t<li>&lt;NA&gt;</li>\n",
       "\t<li>7224</li>\n",
       "\t<li>2719</li>\n",
       "\t<li>&lt;NA&gt;</li>\n",
       "\t<li>&lt;NA&gt;</li>\n",
       "\t<li>&lt;NA&gt;</li>\n",
       "\t<li>&lt;NA&gt;</li>\n",
       "\t<li>&lt;NA&gt;</li>\n",
       "\t<li>&lt;NA&gt;</li>\n",
       "\t<li>&lt;NA&gt;</li>\n",
       "\t<li>&lt;NA&gt;</li>\n",
       "\t<li>&lt;NA&gt;</li>\n",
       "\t<li>&lt;NA&gt;</li>\n",
       "\t<li>&lt;NA&gt;</li>\n",
       "\t<li>&lt;NA&gt;</li>\n",
       "\t<li>27658</li>\n",
       "\t<li>34056</li>\n",
       "\t<li>&lt;NA&gt;</li>\n",
       "\t<li>&lt;NA&gt;</li>\n",
       "\t<li>126</li>\n",
       "\t<li>&lt;NA&gt;</li>\n",
       "\t<li>&lt;NA&gt;</li>\n",
       "\t<li>30</li>\n",
       "\t<li>&lt;NA&gt;</li>\n",
       "\t<li>&lt;NA&gt;</li>\n",
       "\t<li>&lt;NA&gt;</li>\n",
       "\t<li>&lt;NA&gt;</li>\n",
       "\t<li>&lt;NA&gt;</li>\n",
       "\t<li>&lt;NA&gt;</li>\n",
       "\t<li>37</li>\n",
       "\t<li>&lt;NA&gt;</li>\n",
       "\t<li>&lt;NA&gt;</li>\n",
       "\t<li>379</li>\n",
       "\t<li>131</li>\n",
       "\t<li>&lt;NA&gt;</li>\n",
       "\t<li>&lt;NA&gt;</li>\n",
       "\t<li>&lt;NA&gt;</li>\n",
       "\t<li>4</li>\n",
       "\t<li>&lt;NA&gt;</li>\n",
       "\t<li>&lt;NA&gt;</li>\n",
       "\t<li>&lt;NA&gt;</li>\n",
       "\t<li>1953</li>\n",
       "\t<li>&lt;NA&gt;</li>\n",
       "\t<li>&lt;NA&gt;</li>\n",
       "\t<li>&lt;NA&gt;</li>\n",
       "\t<li>&lt;NA&gt;</li>\n",
       "\t<li>&lt;NA&gt;</li>\n",
       "\t<li>1156</li>\n",
       "\t<li>&lt;NA&gt;</li>\n",
       "\t<li>&lt;NA&gt;</li>\n",
       "\t<li>&lt;NA&gt;</li>\n",
       "\t<li>&lt;NA&gt;</li>\n",
       "\t<li>&lt;NA&gt;</li>\n",
       "\t<li>308</li>\n",
       "\t<li>&lt;NA&gt;</li>\n",
       "\t<li>&lt;NA&gt;</li>\n",
       "\t<li>&lt;NA&gt;</li>\n",
       "\t<li>&lt;NA&gt;</li>\n",
       "\t<li>&lt;NA&gt;</li>\n",
       "\t<li>&lt;NA&gt;</li>\n",
       "\t<li>&lt;NA&gt;</li>\n",
       "\t<li>&lt;NA&gt;</li>\n",
       "\t<li>&lt;NA&gt;</li>\n",
       "\t<li>&lt;NA&gt;</li>\n",
       "\t<li>&lt;NA&gt;</li>\n",
       "\t<li>&lt;NA&gt;</li>\n",
       "\t<li>&lt;NA&gt;</li>\n",
       "\t<li>&lt;NA&gt;</li>\n",
       "\t<li>&lt;NA&gt;</li>\n",
       "\t<li>&lt;NA&gt;</li>\n",
       "\t<li>&lt;NA&gt;</li>\n",
       "\t<li>&lt;NA&gt;</li>\n",
       "\t<li>&lt;NA&gt;</li>\n",
       "\t<li>&lt;NA&gt;</li>\n",
       "\t<li>&lt;NA&gt;</li>\n",
       "\t<li>&lt;NA&gt;</li>\n",
       "\t<li>&lt;NA&gt;</li>\n",
       "\t<li>11843</li>\n",
       "\t<li>&lt;NA&gt;</li>\n",
       "\t<li>&lt;NA&gt;</li>\n",
       "\t<li>243</li>\n",
       "\t<li>&lt;NA&gt;</li>\n",
       "\t<li>&lt;NA&gt;</li>\n",
       "\t<li>5409</li>\n",
       "\t<li>&lt;NA&gt;</li>\n",
       "\t<li>&lt;NA&gt;</li>\n",
       "\t<li>108</li>\n",
       "\t<li>250</li>\n",
       "\t<li>&lt;NA&gt;</li>\n",
       "\t<li>&lt;NA&gt;</li>\n",
       "\t<li>124</li>\n",
       "\t<li>&lt;NA&gt;</li>\n",
       "\t<li>&lt;NA&gt;</li>\n",
       "\t<li>36</li>\n",
       "\t<li>&lt;NA&gt;</li>\n",
       "\t<li>&lt;NA&gt;</li>\n",
       "\t<li>&lt;NA&gt;</li>\n",
       "\t<li>&lt;NA&gt;</li>\n",
       "\t<li>&lt;NA&gt;</li>\n",
       "\t<li>&lt;NA&gt;</li>\n",
       "\t<li>&lt;NA&gt;</li>\n",
       "\t<li>&lt;NA&gt;</li>\n",
       "\t<li>&lt;NA&gt;</li>\n",
       "\t<li>&lt;NA&gt;</li>\n",
       "\t<li>&lt;NA&gt;</li>\n",
       "\t<li>&lt;NA&gt;</li>\n",
       "\t<li>158</li>\n",
       "\t<li>&lt;NA&gt;</li>\n",
       "\t<li>&lt;NA&gt;</li>\n",
       "\t<li>&lt;NA&gt;</li>\n",
       "\t<li>&lt;NA&gt;</li>\n",
       "</ol>\n",
       "</dd>\n",
       "\t<dt>$catMethod</dt>\n",
       "\t\t<dd>'fixedWidth'</dd>\n",
       "\t<dt>$colourPalette</dt>\n",
       "\t\t<dd>'heat'</dd>\n",
       "</dl>\n"
      ],
      "text/latex": [
       "\\begin{description}\n",
       "\\item[\\$colourVector] \\begin{enumerate*}\n",
       "\\item '\\#FFFF80FF'\n",
       "\\item '\\#FFFF00FF'\n",
       "\\item '\\#FFCC00FF'\n",
       "\\item '\\#FF9900FF'\n",
       "\\item '\\#FF6600FF'\n",
       "\\item '\\#FF3300FF'\n",
       "\\item '\\#FF0000FF'\n",
       "\\end{enumerate*}\n",
       "\n",
       "\\item[\\$cutVector] \\begin{enumerate*}\n",
       "\\item 4\n",
       "\\item 68730.2857142857\n",
       "\\item 137456.571428571\n",
       "\\item 206182.857142857\n",
       "\\item 274909.142857143\n",
       "\\item 343635.428571429\n",
       "\\item 412361.714285714\n",
       "\\item 481088\n",
       "\\end{enumerate*}\n",
       "\n",
       "\\item[\\$plottedData] \\begin{enumerate*}\n",
       "\\item <NA>\n",
       "\\item <NA>\n",
       "\\item 12672\n",
       "\\item 119\n",
       "\\item 1871\n",
       "\\item <NA>\n",
       "\\item <NA>\n",
       "\\item <NA>\n",
       "\\item <NA>\n",
       "\\item <NA>\n",
       "\\item <NA>\n",
       "\\item <NA>\n",
       "\\item <NA>\n",
       "\\item <NA>\n",
       "\\item <NA>\n",
       "\\item <NA>\n",
       "\\item 9683\n",
       "\\item <NA>\n",
       "\\item 663\n",
       "\\item 268\n",
       "\\item <NA>\n",
       "\\item <NA>\n",
       "\\item <NA>\n",
       "\\item <NA>\n",
       "\\item <NA>\n",
       "\\item <NA>\n",
       "\\item <NA>\n",
       "\\item <NA>\n",
       "\\item 481088\n",
       "\\item <NA>\n",
       "\\item <NA>\n",
       "\\item <NA>\n",
       "\\item <NA>\n",
       "\\item <NA>\n",
       "\\item <NA>\n",
       "\\item 28\n",
       "\\item 129\n",
       "\\item <NA>\n",
       "\\item <NA>\n",
       "\\item 45619\n",
       "\\item 23473\n",
       "\\item <NA>\n",
       "\\item <NA>\n",
       "\\item <NA>\n",
       "\\item <NA>\n",
       "\\item <NA>\n",
       "\\item <NA>\n",
       "\\item <NA>\n",
       "\\item <NA>\n",
       "\\item <NA>\n",
       "\\item 1929\n",
       "\\item <NA>\n",
       "\\item 11509\n",
       "\\item <NA>\n",
       "\\item <NA>\n",
       "\\item <NA>\n",
       "\\item <NA>\n",
       "\\item <NA>\n",
       "\\item 79\n",
       "\\item <NA>\n",
       "\\item <NA>\n",
       "\\item <NA>\n",
       "\\item <NA>\n",
       "\\item <NA>\n",
       "\\item <NA>\n",
       "\\item 3194\n",
       "\\item <NA>\n",
       "\\item <NA>\n",
       "\\item <NA>\n",
       "\\item 51568\n",
       "\\item <NA>\n",
       "\\item 27595\n",
       "\\item <NA>\n",
       "\\item <NA>\n",
       "\\item 111\n",
       "\\item <NA>\n",
       "\\item <NA>\n",
       "\\item 136\n",
       "\\item 2244\n",
       "\\item <NA>\n",
       "\\item <NA>\n",
       "\\item <NA>\n",
       "\\item 1132\n",
       "\\item <NA>\n",
       "\\item <NA>\n",
       "\\item <NA>\n",
       "\\item <NA>\n",
       "\\item <NA>\n",
       "\\item <NA>\n",
       "\\item <NA>\n",
       "\\item <NA>\n",
       "\\item 659\n",
       "\\item <NA>\n",
       "\\item <NA>\n",
       "\\item <NA>\n",
       "\\item <NA>\n",
       "\\item 1975\n",
       "\\item <NA>\n",
       "\\item 136\n",
       "\\item 78\n",
       "\\item <NA>\n",
       "\\item <NA>\n",
       "\\item 424\n",
       "\\item 77\n",
       "\\item <NA>\n",
       "\\item <NA>\n",
       "\\item <NA>\n",
       "\\item 24\n",
       "\\item <NA>\n",
       "\\item <NA>\n",
       "\\item <NA>\n",
       "\\item <NA>\n",
       "\\item <NA>\n",
       "\\item <NA>\n",
       "\\item <NA>\n",
       "\\item 306\n",
       "\\item <NA>\n",
       "\\item <NA>\n",
       "\\item <NA>\n",
       "\\item <NA>\n",
       "\\item 229\n",
       "\\item <NA>\n",
       "\\item <NA>\n",
       "\\item <NA>\n",
       "\\item <NA>\n",
       "\\item <NA>\n",
       "\\item <NA>\n",
       "\\item <NA>\n",
       "\\item 65\n",
       "\\item <NA>\n",
       "\\item 127196\n",
       "\\item <NA>\n",
       "\\item <NA>\n",
       "\\item 7224\n",
       "\\item 2719\n",
       "\\item <NA>\n",
       "\\item <NA>\n",
       "\\item <NA>\n",
       "\\item <NA>\n",
       "\\item <NA>\n",
       "\\item <NA>\n",
       "\\item <NA>\n",
       "\\item <NA>\n",
       "\\item <NA>\n",
       "\\item <NA>\n",
       "\\item <NA>\n",
       "\\item <NA>\n",
       "\\item 27658\n",
       "\\item 34056\n",
       "\\item <NA>\n",
       "\\item <NA>\n",
       "\\item 126\n",
       "\\item <NA>\n",
       "\\item <NA>\n",
       "\\item 30\n",
       "\\item <NA>\n",
       "\\item <NA>\n",
       "\\item <NA>\n",
       "\\item <NA>\n",
       "\\item <NA>\n",
       "\\item <NA>\n",
       "\\item 37\n",
       "\\item <NA>\n",
       "\\item <NA>\n",
       "\\item 379\n",
       "\\item 131\n",
       "\\item <NA>\n",
       "\\item <NA>\n",
       "\\item <NA>\n",
       "\\item 4\n",
       "\\item <NA>\n",
       "\\item <NA>\n",
       "\\item <NA>\n",
       "\\item 1953\n",
       "\\item <NA>\n",
       "\\item <NA>\n",
       "\\item <NA>\n",
       "\\item <NA>\n",
       "\\item <NA>\n",
       "\\item 1156\n",
       "\\item <NA>\n",
       "\\item <NA>\n",
       "\\item <NA>\n",
       "\\item <NA>\n",
       "\\item <NA>\n",
       "\\item 308\n",
       "\\item <NA>\n",
       "\\item <NA>\n",
       "\\item <NA>\n",
       "\\item <NA>\n",
       "\\item <NA>\n",
       "\\item <NA>\n",
       "\\item <NA>\n",
       "\\item <NA>\n",
       "\\item <NA>\n",
       "\\item <NA>\n",
       "\\item <NA>\n",
       "\\item <NA>\n",
       "\\item <NA>\n",
       "\\item <NA>\n",
       "\\item <NA>\n",
       "\\item <NA>\n",
       "\\item <NA>\n",
       "\\item <NA>\n",
       "\\item <NA>\n",
       "\\item <NA>\n",
       "\\item <NA>\n",
       "\\item <NA>\n",
       "\\item <NA>\n",
       "\\item 11843\n",
       "\\item <NA>\n",
       "\\item <NA>\n",
       "\\item 243\n",
       "\\item <NA>\n",
       "\\item <NA>\n",
       "\\item 5409\n",
       "\\item <NA>\n",
       "\\item <NA>\n",
       "\\item 108\n",
       "\\item 250\n",
       "\\item <NA>\n",
       "\\item <NA>\n",
       "\\item 124\n",
       "\\item <NA>\n",
       "\\item <NA>\n",
       "\\item 36\n",
       "\\item <NA>\n",
       "\\item <NA>\n",
       "\\item <NA>\n",
       "\\item <NA>\n",
       "\\item <NA>\n",
       "\\item <NA>\n",
       "\\item <NA>\n",
       "\\item <NA>\n",
       "\\item <NA>\n",
       "\\item <NA>\n",
       "\\item <NA>\n",
       "\\item <NA>\n",
       "\\item 158\n",
       "\\item <NA>\n",
       "\\item <NA>\n",
       "\\item <NA>\n",
       "\\item <NA>\n",
       "\\end{enumerate*}\n",
       "\n",
       "\\item[\\$catMethod] 'fixedWidth'\n",
       "\\item[\\$colourPalette] 'heat'\n",
       "\\end{description}\n"
      ],
      "text/markdown": [
       "$colourVector\n",
       ":   1. '#FFFF80FF'\n",
       "2. '#FFFF00FF'\n",
       "3. '#FFCC00FF'\n",
       "4. '#FF9900FF'\n",
       "5. '#FF6600FF'\n",
       "6. '#FF3300FF'\n",
       "7. '#FF0000FF'\n",
       "\n",
       "\n",
       "\n",
       "$cutVector\n",
       ":   1. 4\n",
       "2. 68730.2857142857\n",
       "3. 137456.571428571\n",
       "4. 206182.857142857\n",
       "5. 274909.142857143\n",
       "6. 343635.428571429\n",
       "7. 412361.714285714\n",
       "8. 481088\n",
       "\n",
       "\n",
       "\n",
       "$plottedData\n",
       ":   1. &lt;NA&gt;\n",
       "2. &lt;NA&gt;\n",
       "3. 12672\n",
       "4. 119\n",
       "5. 1871\n",
       "6. &lt;NA&gt;\n",
       "7. &lt;NA&gt;\n",
       "8. &lt;NA&gt;\n",
       "9. &lt;NA&gt;\n",
       "10. &lt;NA&gt;\n",
       "11. &lt;NA&gt;\n",
       "12. &lt;NA&gt;\n",
       "13. &lt;NA&gt;\n",
       "14. &lt;NA&gt;\n",
       "15. &lt;NA&gt;\n",
       "16. &lt;NA&gt;\n",
       "17. 9683\n",
       "18. &lt;NA&gt;\n",
       "19. 663\n",
       "20. 268\n",
       "21. &lt;NA&gt;\n",
       "22. &lt;NA&gt;\n",
       "23. &lt;NA&gt;\n",
       "24. &lt;NA&gt;\n",
       "25. &lt;NA&gt;\n",
       "26. &lt;NA&gt;\n",
       "27. &lt;NA&gt;\n",
       "28. &lt;NA&gt;\n",
       "29. 481088\n",
       "30. &lt;NA&gt;\n",
       "31. &lt;NA&gt;\n",
       "32. &lt;NA&gt;\n",
       "33. &lt;NA&gt;\n",
       "34. &lt;NA&gt;\n",
       "35. &lt;NA&gt;\n",
       "36. 28\n",
       "37. 129\n",
       "38. &lt;NA&gt;\n",
       "39. &lt;NA&gt;\n",
       "40. 45619\n",
       "41. 23473\n",
       "42. &lt;NA&gt;\n",
       "43. &lt;NA&gt;\n",
       "44. &lt;NA&gt;\n",
       "45. &lt;NA&gt;\n",
       "46. &lt;NA&gt;\n",
       "47. &lt;NA&gt;\n",
       "48. &lt;NA&gt;\n",
       "49. &lt;NA&gt;\n",
       "50. &lt;NA&gt;\n",
       "51. 1929\n",
       "52. &lt;NA&gt;\n",
       "53. 11509\n",
       "54. &lt;NA&gt;\n",
       "55. &lt;NA&gt;\n",
       "56. &lt;NA&gt;\n",
       "57. &lt;NA&gt;\n",
       "58. &lt;NA&gt;\n",
       "59. 79\n",
       "60. &lt;NA&gt;\n",
       "61. &lt;NA&gt;\n",
       "62. &lt;NA&gt;\n",
       "63. &lt;NA&gt;\n",
       "64. &lt;NA&gt;\n",
       "65. &lt;NA&gt;\n",
       "66. 3194\n",
       "67. &lt;NA&gt;\n",
       "68. &lt;NA&gt;\n",
       "69. &lt;NA&gt;\n",
       "70. 51568\n",
       "71. &lt;NA&gt;\n",
       "72. 27595\n",
       "73. &lt;NA&gt;\n",
       "74. &lt;NA&gt;\n",
       "75. 111\n",
       "76. &lt;NA&gt;\n",
       "77. &lt;NA&gt;\n",
       "78. 136\n",
       "79. 2244\n",
       "80. &lt;NA&gt;\n",
       "81. &lt;NA&gt;\n",
       "82. &lt;NA&gt;\n",
       "83. 1132\n",
       "84. &lt;NA&gt;\n",
       "85. &lt;NA&gt;\n",
       "86. &lt;NA&gt;\n",
       "87. &lt;NA&gt;\n",
       "88. &lt;NA&gt;\n",
       "89. &lt;NA&gt;\n",
       "90. &lt;NA&gt;\n",
       "91. &lt;NA&gt;\n",
       "92. 659\n",
       "93. &lt;NA&gt;\n",
       "94. &lt;NA&gt;\n",
       "95. &lt;NA&gt;\n",
       "96. &lt;NA&gt;\n",
       "97. 1975\n",
       "98. &lt;NA&gt;\n",
       "99. 136\n",
       "100. 78\n",
       "101. &lt;NA&gt;\n",
       "102. &lt;NA&gt;\n",
       "103. 424\n",
       "104. 77\n",
       "105. &lt;NA&gt;\n",
       "106. &lt;NA&gt;\n",
       "107. &lt;NA&gt;\n",
       "108. 24\n",
       "109. &lt;NA&gt;\n",
       "110. &lt;NA&gt;\n",
       "111. &lt;NA&gt;\n",
       "112. &lt;NA&gt;\n",
       "113. &lt;NA&gt;\n",
       "114. &lt;NA&gt;\n",
       "115. &lt;NA&gt;\n",
       "116. 306\n",
       "117. &lt;NA&gt;\n",
       "118. &lt;NA&gt;\n",
       "119. &lt;NA&gt;\n",
       "120. &lt;NA&gt;\n",
       "121. 229\n",
       "122. &lt;NA&gt;\n",
       "123. &lt;NA&gt;\n",
       "124. &lt;NA&gt;\n",
       "125. &lt;NA&gt;\n",
       "126. &lt;NA&gt;\n",
       "127. &lt;NA&gt;\n",
       "128. &lt;NA&gt;\n",
       "129. 65\n",
       "130. &lt;NA&gt;\n",
       "131. 127196\n",
       "132. &lt;NA&gt;\n",
       "133. &lt;NA&gt;\n",
       "134. 7224\n",
       "135. 2719\n",
       "136. &lt;NA&gt;\n",
       "137. &lt;NA&gt;\n",
       "138. &lt;NA&gt;\n",
       "139. &lt;NA&gt;\n",
       "140. &lt;NA&gt;\n",
       "141. &lt;NA&gt;\n",
       "142. &lt;NA&gt;\n",
       "143. &lt;NA&gt;\n",
       "144. &lt;NA&gt;\n",
       "145. &lt;NA&gt;\n",
       "146. &lt;NA&gt;\n",
       "147. &lt;NA&gt;\n",
       "148. 27658\n",
       "149. 34056\n",
       "150. &lt;NA&gt;\n",
       "151. &lt;NA&gt;\n",
       "152. 126\n",
       "153. &lt;NA&gt;\n",
       "154. &lt;NA&gt;\n",
       "155. 30\n",
       "156. &lt;NA&gt;\n",
       "157. &lt;NA&gt;\n",
       "158. &lt;NA&gt;\n",
       "159. &lt;NA&gt;\n",
       "160. &lt;NA&gt;\n",
       "161. &lt;NA&gt;\n",
       "162. 37\n",
       "163. &lt;NA&gt;\n",
       "164. &lt;NA&gt;\n",
       "165. 379\n",
       "166. 131\n",
       "167. &lt;NA&gt;\n",
       "168. &lt;NA&gt;\n",
       "169. &lt;NA&gt;\n",
       "170. 4\n",
       "171. &lt;NA&gt;\n",
       "172. &lt;NA&gt;\n",
       "173. &lt;NA&gt;\n",
       "174. 1953\n",
       "175. &lt;NA&gt;\n",
       "176. &lt;NA&gt;\n",
       "177. &lt;NA&gt;\n",
       "178. &lt;NA&gt;\n",
       "179. &lt;NA&gt;\n",
       "180. 1156\n",
       "181. &lt;NA&gt;\n",
       "182. &lt;NA&gt;\n",
       "183. &lt;NA&gt;\n",
       "184. &lt;NA&gt;\n",
       "185. &lt;NA&gt;\n",
       "186. 308\n",
       "187. &lt;NA&gt;\n",
       "188. &lt;NA&gt;\n",
       "189. &lt;NA&gt;\n",
       "190. &lt;NA&gt;\n",
       "191. &lt;NA&gt;\n",
       "192. &lt;NA&gt;\n",
       "193. &lt;NA&gt;\n",
       "194. &lt;NA&gt;\n",
       "195. &lt;NA&gt;\n",
       "196. &lt;NA&gt;\n",
       "197. &lt;NA&gt;\n",
       "198. &lt;NA&gt;\n",
       "199. &lt;NA&gt;\n",
       "200. &lt;NA&gt;\n",
       "201. &lt;NA&gt;\n",
       "202. &lt;NA&gt;\n",
       "203. &lt;NA&gt;\n",
       "204. &lt;NA&gt;\n",
       "205. &lt;NA&gt;\n",
       "206. &lt;NA&gt;\n",
       "207. &lt;NA&gt;\n",
       "208. &lt;NA&gt;\n",
       "209. &lt;NA&gt;\n",
       "210. 11843\n",
       "211. &lt;NA&gt;\n",
       "212. &lt;NA&gt;\n",
       "213. 243\n",
       "214. &lt;NA&gt;\n",
       "215. &lt;NA&gt;\n",
       "216. 5409\n",
       "217. &lt;NA&gt;\n",
       "218. &lt;NA&gt;\n",
       "219. 108\n",
       "220. 250\n",
       "221. &lt;NA&gt;\n",
       "222. &lt;NA&gt;\n",
       "223. 124\n",
       "224. &lt;NA&gt;\n",
       "225. &lt;NA&gt;\n",
       "226. 36\n",
       "227. &lt;NA&gt;\n",
       "228. &lt;NA&gt;\n",
       "229. &lt;NA&gt;\n",
       "230. &lt;NA&gt;\n",
       "231. &lt;NA&gt;\n",
       "232. &lt;NA&gt;\n",
       "233. &lt;NA&gt;\n",
       "234. &lt;NA&gt;\n",
       "235. &lt;NA&gt;\n",
       "236. &lt;NA&gt;\n",
       "237. &lt;NA&gt;\n",
       "238. &lt;NA&gt;\n",
       "239. 158\n",
       "240. &lt;NA&gt;\n",
       "241. &lt;NA&gt;\n",
       "242. &lt;NA&gt;\n",
       "243. &lt;NA&gt;\n",
       "\n",
       "\n",
       "\n",
       "$catMethod\n",
       ":   'fixedWidth'\n",
       "$colourPalette\n",
       ":   'heat'\n",
       "\n",
       "\n"
      ],
      "text/plain": [
       "$colourVector\n",
       "[1] \"#FFFF80FF\" \"#FFFF00FF\" \"#FFCC00FF\" \"#FF9900FF\" \"#FF6600FF\" \"#FF3300FF\"\n",
       "[7] \"#FF0000FF\"\n",
       "\n",
       "$cutVector\n",
       "[1]      4.00  68730.29 137456.57 206182.86 274909.14 343635.43 412361.71\n",
       "[8] 481088.00\n",
       "\n",
       "$plottedData\n",
       "  [1]     NA     NA  12672    119   1871     NA     NA     NA     NA     NA\n",
       " [11]     NA     NA     NA     NA     NA     NA   9683     NA    663    268\n",
       " [21]     NA     NA     NA     NA     NA     NA     NA     NA 481088     NA\n",
       " [31]     NA     NA     NA     NA     NA     28    129     NA     NA  45619\n",
       " [41]  23473     NA     NA     NA     NA     NA     NA     NA     NA     NA\n",
       " [51]   1929     NA  11509     NA     NA     NA     NA     NA     79     NA\n",
       " [61]     NA     NA     NA     NA     NA   3194     NA     NA     NA  51568\n",
       " [71]     NA  27595     NA     NA    111     NA     NA    136   2244     NA\n",
       " [81]     NA     NA   1132     NA     NA     NA     NA     NA     NA     NA\n",
       " [91]     NA    659     NA     NA     NA     NA   1975     NA    136     78\n",
       "[101]     NA     NA    424     77     NA     NA     NA     24     NA     NA\n",
       "[111]     NA     NA     NA     NA     NA    306     NA     NA     NA     NA\n",
       "[121]    229     NA     NA     NA     NA     NA     NA     NA     65     NA\n",
       "[131] 127196     NA     NA   7224   2719     NA     NA     NA     NA     NA\n",
       "[141]     NA     NA     NA     NA     NA     NA     NA  27658  34056     NA\n",
       "[151]     NA    126     NA     NA     30     NA     NA     NA     NA     NA\n",
       "[161]     NA     37     NA     NA    379    131     NA     NA     NA      4\n",
       "[171]     NA     NA     NA   1953     NA     NA     NA     NA     NA   1156\n",
       "[181]     NA     NA     NA     NA     NA    308     NA     NA     NA     NA\n",
       "[191]     NA     NA     NA     NA     NA     NA     NA     NA     NA     NA\n",
       "[201]     NA     NA     NA     NA     NA     NA     NA     NA     NA  11843\n",
       "[211]     NA     NA    243     NA     NA   5409     NA     NA    108    250\n",
       "[221]     NA     NA    124     NA     NA     36     NA     NA     NA     NA\n",
       "[231]     NA     NA     NA     NA     NA     NA     NA     NA    158     NA\n",
       "[241]     NA     NA     NA\n",
       "\n",
       "$catMethod\n",
       "[1] \"fixedWidth\"\n",
       "\n",
       "$colourPalette\n",
       "[1] \"heat\"\n"
      ]
     },
     "metadata": {},
     "output_type": "display_data"
    },
    {
     "data": {
      "image/png": "[encoded data removed]",
      "text/plain": [
       "Plot with title \"Global_Bets\""
      ]
     },
     "metadata": {},
     "output_type": "display_data"
    }
   ],
   "source": [
    "plot10.3 <- mapCountryData(spdf, nameColumnToPlot=\"Global_Bets\", catMethod=\"fixedWidth\")\n",
    "\n",
    "plot10.3"
   ]
  },
  {
   "cell_type": "code",
   "execution_count": null,
   "metadata": {},
   "outputs": [],
   "source": []
  }
 ],
 "metadata": {
  "kernelspec": {
   "display_name": "R",
   "language": "R",
   "name": "ir"
  },
  "language_info": {
   "codemirror_mode": "r",
   "file_extension": ".r",
   "mimetype": "text/x-r-source",
   "name": "R",
   "pygments_lexer": "r",
   "version": "3.6.1"
  }
 },
 "nbformat": 4,
 "nbformat_minor": 4
}
